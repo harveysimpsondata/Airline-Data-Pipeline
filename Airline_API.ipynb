{
 "cells": [
  {
   "cell_type": "code",
   "execution_count": 97,
   "outputs": [],
   "source": [
    "import http.client\n",
    "import config\n",
    "import pandas as pd\n",
    "import json"
   ],
   "metadata": {
    "collapsed": false,
    "ExecuteTime": {
     "end_time": "2023-05-18T02:51:37.389052Z",
     "start_time": "2023-05-18T02:51:37.381475Z"
    }
   }
  },
  {
   "cell_type": "code",
   "execution_count": null,
   "outputs": [],
   "source": [
    "def get_arrivals(airlines, dates):\n",
    "    conn = http.client.HTTPSConnection(\"flight-fare-search.p.rapidapi.com\")\n",
    "    conn2 = http.client.HTTPSConnection(\"flight-fare-search.p.rapidapi.com\")\n",
    "\n",
    "    headers = {\n",
    "        'X-RapidAPI-Key': f\"{config.api_key}\",\n",
    "        'X-RapidAPI-Host': \"flight-fare-search.p.rapidapi.com\"\n",
    "    }\n",
    "\n",
    "    df_arrivals = pd.DataFrame()  # Initialize an empty DataFrame\n",
    "    df_departures = pd.DataFrame()  # Initialize an empty DataFrame\n",
    "\n",
    "    for airline in airlines:\n",
    "        for date in dates:\n",
    "            conn.request(\"GET\", f\"/v2/airport/arrivals?airportCode=ATL&date={date}&carrierCode={airline}\", headers=headers)\n",
    "            conn2.request(\"GET\", f\"/v2/airport/departures?airportCode=ATL&date={date}&carrierCode={airline}\", headers=headers)\n",
    "\n",
    "            arrivals = conn.getresponse().read().decode('utf-8')\n",
    "            departures = conn2.getresponse().read().decode('utf-8')\n",
    "\n",
    "            arrivals = json.loads(arrivals)\n",
    "            departures = json.loads(departures)\n",
    "\n",
    "            arrivals_data = arrivals['result']['flights']\n",
    "            departures_data = departures['result']['flights']\n",
    "\n",
    "            df_arrivals_temp = pd.json_normalize(arrivals_data)  # Temporary DataFrame for each request\n",
    "            df_departures_temp = pd.json_normalize(departures_data)  # Temporary DataFrame for each request\n",
    "\n",
    "            df_arrivals = pd.concat([df_arrivals, df_arrivals_temp])  # Concatenate the temporary DataFrame with the main one\n",
    "\n",
    "    return df_arrivals, df_departures"
   ],
   "metadata": {
    "collapsed": false
   }
  },
  {
   "cell_type": "code",
   "execution_count": 108,
   "metadata": {
    "collapsed": true,
    "ExecuteTime": {
     "end_time": "2023-05-18T02:56:28.934233Z",
     "start_time": "2023-05-18T02:56:28.522132Z"
    }
   },
   "outputs": [],
   "source": [
    "conn = http.client.HTTPSConnection(\"flight-fare-search.p.rapidapi.com\")\n",
    "\n",
    "headers = {\n",
    "    'X-RapidAPI-Key': f\"{config.api_key}\",\n",
    "    'X-RapidAPI-Host': \"flight-fare-search.p.rapidapi.com\"\n",
    "}\n",
    "\n",
    "conn.request(\"GET\", \"/v2/airport/departures?airportCode=ATL&date=2023-05-16&carrierCode=DL\", headers=headers)\n",
    "\n",
    "departures = conn.getresponse().read().decode('utf-8')\n",
    "\n",
    "departures = json.loads(departures)"
   ]
  },
  {
   "cell_type": "code",
   "execution_count": 109,
   "outputs": [],
   "source": [
    "conn = http.client.HTTPSConnection(\"flight-fare-search.p.rapidapi.com\")\n",
    "\n",
    "headers = {\n",
    "    'X-RapidAPI-Key': f\"{config.api_key}\",\n",
    "    'X-RapidAPI-Host': \"flight-fare-search.p.rapidapi.com\"\n",
    "}\n",
    "\n",
    "conn.request(\"GET\", \"/v2/airport/arrivals?airportCode=ATL&date=2023-05-16&carrierCode=DL\", headers=headers)\n",
    "\n",
    "arrivals = conn.getresponse().read().decode('utf-8')\n",
    "\n",
    "arrivals = json.loads(arrivals)"
   ],
   "metadata": {
    "collapsed": false,
    "ExecuteTime": {
     "end_time": "2023-05-18T02:56:30.767370Z",
     "start_time": "2023-05-18T02:56:29.535169Z"
    }
   }
  },
  {
   "cell_type": "code",
   "execution_count": 110,
   "outputs": [],
   "source": [
    "arrivals_data = arrivals['result']['flights']\n",
    "departures_data = departures['result']['flights']\n",
    "\n",
    "\n",
    "# normalize semi-structured JSON data into a flat table\n",
    "df_arrivals = pd.json_normalize(arrivals_data)\n",
    "df_departures = pd.json_normalize(departures_data)"
   ],
   "metadata": {
    "collapsed": false,
    "ExecuteTime": {
     "end_time": "2023-05-18T02:56:31.413801Z",
     "start_time": "2023-05-18T02:56:31.410537Z"
    }
   }
  },
  {
   "cell_type": "code",
   "execution_count": 111,
   "outputs": [],
   "source": [
    "df_departures['time'] = pd.to_datetime(df_departures['time'])\n",
    "df_departures['date'] = df_departures['time'].dt.date\n",
    "\n",
    "df_departures['time_EST'] = df_departures['time'].dt.tz_convert('US/Eastern')\n",
    "df_departures['date_EST'] = df_departures['time_EST'].dt.date\n",
    "\n",
    "df_departures['departure.time.time24'] = pd.to_datetime(df_departures['departure.time.time24'], format='%H:%M').dt.time\n",
    "df_departures['arrival.time24'] = pd.to_datetime(df_departures['arrival.time24'], format='%H:%M').dt.time"
   ],
   "metadata": {
    "collapsed": false,
    "ExecuteTime": {
     "end_time": "2023-05-18T02:56:31.836950Z",
     "start_time": "2023-05-18T02:56:31.833355Z"
    }
   }
  },
  {
   "cell_type": "code",
   "execution_count": 112,
   "outputs": [],
   "source": [
    "df_arrivals['time'] = pd.to_datetime(df_arrivals['time'])\n",
    "df_arrivals['date'] = df_arrivals['time'].dt.date\n",
    "\n",
    "df_arrivals['time_EST'] = df_arrivals['time'].dt.tz_convert('US/Eastern')\n",
    "df_arrivals['date_EST'] = df_arrivals['time_EST'].dt.date\n",
    "\n",
    "df_arrivals['departure.time.time24'] = pd.to_datetime(df_arrivals['departure.time.time24'], format='%H:%M').dt.time\n",
    "df_arrivals['arrival.time24'] = pd.to_datetime(df_arrivals['arrival.time24'], format='%H:%M').dt.time"
   ],
   "metadata": {
    "collapsed": false,
    "ExecuteTime": {
     "end_time": "2023-05-18T02:56:32.331345Z",
     "start_time": "2023-05-18T02:56:32.327973Z"
    }
   }
  },
  {
   "cell_type": "code",
   "execution_count": 113,
   "outputs": [
    {
     "data": {
      "text/plain": "                        time operator departure.time.timeAMPM  \\\n0  2023-05-15 12:34:00+00:00     None                  5:21AM   \n1  2023-05-16 00:16:00+00:00     None                  2:40PM   \n2  2023-05-16 00:41:00+00:00     None                  6:45PM   \n3  2023-05-16 01:15:00+00:00     None                  4:00PM   \n4  2023-05-16 01:54:00+00:00     None                  8:00PM   \n5  2023-05-16 03:16:00+00:00     None                  3:55PM   \n6  2023-05-16 03:37:00+00:00     None                  8:05PM   \n7  2023-05-16 04:06:00+00:00     None                  5:05PM   \n8  2023-05-16 04:13:00+00:00     None                  9:30PM   \n9  2023-05-16 04:44:00+00:00     None                  5:25PM   \n10 2023-05-16 04:58:00+00:00     None                  5:05PM   \n11 2023-05-16 08:38:00+00:00     None                  9:30PM   \n12 2023-05-16 09:00:00+00:00     None                  9:15PM   \n13 2023-05-16 09:00:00+00:00     None                  9:45PM   \n14 2023-05-16 09:17:00+00:00     None                 10:25PM   \n15 2023-05-16 09:17:00+00:00     None                 11:35PM   \n16 2023-05-16 09:20:00+00:00     None                  8:00PM   \n17 2023-05-16 09:37:00+00:00     None                 10:30PM   \n18 2023-05-16 09:39:00+00:00     None                 10:29PM   \n19 2023-05-16 09:40:00+00:00     None                 10:15PM   \n20 2023-05-16 09:42:00+00:00     None                 10:30PM   \n21 2023-05-16 09:45:00+00:00     None                  9:55PM   \n22 2023-05-16 09:51:00+00:00     None                 12:59AM   \n23 2023-05-16 09:55:00+00:00     None                 10:10PM   \n24 2023-05-16 10:00:00+00:00     None                 10:30PM   \n25 2023-05-16 10:08:00+00:00     None                 11:55PM   \n26 2023-05-16 10:15:00+00:00     None                 10:55PM   \n27 2023-05-16 10:23:00+00:00     None                  5:30AM   \n\n   departure.time.time24 departure.airport.iata departure.airport.city  \\\n0               05:21:00                    ATW               Appleton   \n1               14:40:00                    MEX            Mexico City   \n2               18:45:00                    FLL        Fort Lauderdale   \n3               16:00:00                    QRO              Queretaro   \n4               20:00:00                    DCA             Washington   \n5               15:55:00                    LAX            Los Angeles   \n6               20:05:00                    MSP            Minneapolis   \n7               17:05:00                    LAS              Las Vegas   \n8               21:30:00                    JFK               New York   \n9               17:25:00                    LAX            Los Angeles   \n10              17:05:00                    SFO          San Francisco   \n11              21:30:00                    SNA              Santa Ana   \n12              21:15:00                    SFO          San Francisco   \n13              21:45:00                    LAX            Los Angeles   \n14              22:25:00                    LAS              Las Vegas   \n15              23:35:00                    SLC         Salt Lake City   \n16              20:00:00                    EZE           Buenos Aires   \n17              22:30:00                    ONT                Ontario   \n18              22:29:00                    LAX            Los Angeles   \n19              22:15:00                    SMF             Sacramento   \n20              22:30:00                    SAN              San Diego   \n21              21:55:00                    SEA                Seattle   \n22              00:59:00                    DEN                 Denver   \n23              22:10:00                    PDX               Portland   \n24              22:30:00                    LOS                  Lagos   \n25              23:55:00                    UIO                  Quito   \n26              22:55:00                    LAX            Los Angeles   \n27              05:30:00                    TYS              Knoxville   \n\n   arrival.timeAMPM arrival.time24 carrier.code     carrier.name  \\\n0            8:34AM       08:34:00           DL  Delta Air Lines   \n1            8:16PM       20:16:00           DL  Delta Air Lines   \n2            8:41PM       20:41:00           DL  Delta Air Lines   \n3            9:15PM       21:15:00           DL  Delta Air Lines   \n4            9:54PM       21:54:00           DL  Delta Air Lines   \n5           11:16PM       23:16:00           DL  Delta Air Lines   \n6           11:37PM       23:37:00           DL  Delta Air Lines   \n7           12:06AM       00:06:00           DL  Delta Air Lines   \n8           12:13AM       00:13:00           DL  Delta Air Lines   \n9           12:44AM       00:44:00           DL  Delta Air Lines   \n10          12:58AM       00:58:00           DL  Delta Air Lines   \n11           4:38AM       04:38:00           DL  Delta Air Lines   \n12           5:00AM       05:00:00           DL  Delta Air Lines   \n13           5:00AM       05:00:00           DL  Delta Air Lines   \n14           5:17AM       05:17:00           DL  Delta Air Lines   \n15           5:17AM       05:17:00           DL  Delta Air Lines   \n16           5:20AM       05:20:00           DL  Delta Air Lines   \n17           5:37AM       05:37:00           DL  Delta Air Lines   \n18           5:39AM       05:39:00           DL  Delta Air Lines   \n19           5:40AM       05:40:00           DL  Delta Air Lines   \n20           5:42AM       05:42:00           DL  Delta Air Lines   \n21           5:45AM       05:45:00           DL  Delta Air Lines   \n22           5:51AM       05:51:00           DL  Delta Air Lines   \n23           5:55AM       05:55:00           DL  Delta Air Lines   \n24           6:00AM       06:00:00           DL  Delta Air Lines   \n25           6:08AM       06:08:00           DL  Delta Air Lines   \n26           6:15AM       06:15:00           DL  Delta Air Lines   \n27           6:23AM       06:23:00           DL  Delta Air Lines   \n\n   carrier.flightNumber        date                  time_EST    date_EST  \n0                  1436  2023-05-15 2023-05-15 08:34:00-04:00  2023-05-15  \n1                   599  2023-05-16 2023-05-15 20:16:00-04:00  2023-05-15  \n2                  1546  2023-05-16 2023-05-15 20:41:00-04:00  2023-05-15  \n3                  9945  2023-05-16 2023-05-15 21:15:00-04:00  2023-05-15  \n4                   928  2023-05-16 2023-05-15 21:54:00-04:00  2023-05-15  \n5                   873  2023-05-16 2023-05-15 23:16:00-04:00  2023-05-15  \n6                  1549  2023-05-16 2023-05-15 23:37:00-04:00  2023-05-15  \n7                   707  2023-05-16 2023-05-16 00:06:00-04:00  2023-05-16  \n8                  1248  2023-05-16 2023-05-16 00:13:00-04:00  2023-05-16  \n9                   803  2023-05-16 2023-05-16 00:44:00-04:00  2023-05-16  \n10                  325  2023-05-16 2023-05-16 00:58:00-04:00  2023-05-16  \n11                  731  2023-05-16 2023-05-16 04:38:00-04:00  2023-05-16  \n12                  574  2023-05-16 2023-05-16 05:00:00-04:00  2023-05-16  \n13                  700  2023-05-16 2023-05-16 05:00:00-04:00  2023-05-16  \n14                  924  2023-05-16 2023-05-16 05:17:00-04:00  2023-05-16  \n15                  477  2023-05-16 2023-05-16 05:17:00-04:00  2023-05-16  \n16                  110  2023-05-16 2023-05-16 05:20:00-04:00  2023-05-16  \n17                  884  2023-05-16 2023-05-16 05:37:00-04:00  2023-05-16  \n18                  309  2023-05-16 2023-05-16 05:39:00-04:00  2023-05-16  \n19                  566  2023-05-16 2023-05-16 05:40:00-04:00  2023-05-16  \n20                  730  2023-05-16 2023-05-16 05:42:00-04:00  2023-05-16  \n21                  864  2023-05-16 2023-05-16 05:45:00-04:00  2023-05-16  \n22                  976  2023-05-16 2023-05-16 05:51:00-04:00  2023-05-16  \n23                  570  2023-05-16 2023-05-16 05:55:00-04:00  2023-05-16  \n24                   55  2023-05-16 2023-05-16 06:00:00-04:00  2023-05-16  \n25                  632  2023-05-16 2023-05-16 06:08:00-04:00  2023-05-16  \n26                  395  2023-05-16 2023-05-16 06:15:00-04:00  2023-05-16  \n27                 2704  2023-05-16 2023-05-16 06:23:00-04:00  2023-05-16  ",
      "text/html": "<div>\n<style scoped>\n    .dataframe tbody tr th:only-of-type {\n        vertical-align: middle;\n    }\n\n    .dataframe tbody tr th {\n        vertical-align: top;\n    }\n\n    .dataframe thead th {\n        text-align: right;\n    }\n</style>\n<table border=\"1\" class=\"dataframe\">\n  <thead>\n    <tr style=\"text-align: right;\">\n      <th></th>\n      <th>time</th>\n      <th>operator</th>\n      <th>departure.time.timeAMPM</th>\n      <th>departure.time.time24</th>\n      <th>departure.airport.iata</th>\n      <th>departure.airport.city</th>\n      <th>arrival.timeAMPM</th>\n      <th>arrival.time24</th>\n      <th>carrier.code</th>\n      <th>carrier.name</th>\n      <th>carrier.flightNumber</th>\n      <th>date</th>\n      <th>time_EST</th>\n      <th>date_EST</th>\n    </tr>\n  </thead>\n  <tbody>\n    <tr>\n      <th>0</th>\n      <td>2023-05-15 12:34:00+00:00</td>\n      <td>None</td>\n      <td>5:21AM</td>\n      <td>05:21:00</td>\n      <td>ATW</td>\n      <td>Appleton</td>\n      <td>8:34AM</td>\n      <td>08:34:00</td>\n      <td>DL</td>\n      <td>Delta Air Lines</td>\n      <td>1436</td>\n      <td>2023-05-15</td>\n      <td>2023-05-15 08:34:00-04:00</td>\n      <td>2023-05-15</td>\n    </tr>\n    <tr>\n      <th>1</th>\n      <td>2023-05-16 00:16:00+00:00</td>\n      <td>None</td>\n      <td>2:40PM</td>\n      <td>14:40:00</td>\n      <td>MEX</td>\n      <td>Mexico City</td>\n      <td>8:16PM</td>\n      <td>20:16:00</td>\n      <td>DL</td>\n      <td>Delta Air Lines</td>\n      <td>599</td>\n      <td>2023-05-16</td>\n      <td>2023-05-15 20:16:00-04:00</td>\n      <td>2023-05-15</td>\n    </tr>\n    <tr>\n      <th>2</th>\n      <td>2023-05-16 00:41:00+00:00</td>\n      <td>None</td>\n      <td>6:45PM</td>\n      <td>18:45:00</td>\n      <td>FLL</td>\n      <td>Fort Lauderdale</td>\n      <td>8:41PM</td>\n      <td>20:41:00</td>\n      <td>DL</td>\n      <td>Delta Air Lines</td>\n      <td>1546</td>\n      <td>2023-05-16</td>\n      <td>2023-05-15 20:41:00-04:00</td>\n      <td>2023-05-15</td>\n    </tr>\n    <tr>\n      <th>3</th>\n      <td>2023-05-16 01:15:00+00:00</td>\n      <td>None</td>\n      <td>4:00PM</td>\n      <td>16:00:00</td>\n      <td>QRO</td>\n      <td>Queretaro</td>\n      <td>9:15PM</td>\n      <td>21:15:00</td>\n      <td>DL</td>\n      <td>Delta Air Lines</td>\n      <td>9945</td>\n      <td>2023-05-16</td>\n      <td>2023-05-15 21:15:00-04:00</td>\n      <td>2023-05-15</td>\n    </tr>\n    <tr>\n      <th>4</th>\n      <td>2023-05-16 01:54:00+00:00</td>\n      <td>None</td>\n      <td>8:00PM</td>\n      <td>20:00:00</td>\n      <td>DCA</td>\n      <td>Washington</td>\n      <td>9:54PM</td>\n      <td>21:54:00</td>\n      <td>DL</td>\n      <td>Delta Air Lines</td>\n      <td>928</td>\n      <td>2023-05-16</td>\n      <td>2023-05-15 21:54:00-04:00</td>\n      <td>2023-05-15</td>\n    </tr>\n    <tr>\n      <th>5</th>\n      <td>2023-05-16 03:16:00+00:00</td>\n      <td>None</td>\n      <td>3:55PM</td>\n      <td>15:55:00</td>\n      <td>LAX</td>\n      <td>Los Angeles</td>\n      <td>11:16PM</td>\n      <td>23:16:00</td>\n      <td>DL</td>\n      <td>Delta Air Lines</td>\n      <td>873</td>\n      <td>2023-05-16</td>\n      <td>2023-05-15 23:16:00-04:00</td>\n      <td>2023-05-15</td>\n    </tr>\n    <tr>\n      <th>6</th>\n      <td>2023-05-16 03:37:00+00:00</td>\n      <td>None</td>\n      <td>8:05PM</td>\n      <td>20:05:00</td>\n      <td>MSP</td>\n      <td>Minneapolis</td>\n      <td>11:37PM</td>\n      <td>23:37:00</td>\n      <td>DL</td>\n      <td>Delta Air Lines</td>\n      <td>1549</td>\n      <td>2023-05-16</td>\n      <td>2023-05-15 23:37:00-04:00</td>\n      <td>2023-05-15</td>\n    </tr>\n    <tr>\n      <th>7</th>\n      <td>2023-05-16 04:06:00+00:00</td>\n      <td>None</td>\n      <td>5:05PM</td>\n      <td>17:05:00</td>\n      <td>LAS</td>\n      <td>Las Vegas</td>\n      <td>12:06AM</td>\n      <td>00:06:00</td>\n      <td>DL</td>\n      <td>Delta Air Lines</td>\n      <td>707</td>\n      <td>2023-05-16</td>\n      <td>2023-05-16 00:06:00-04:00</td>\n      <td>2023-05-16</td>\n    </tr>\n    <tr>\n      <th>8</th>\n      <td>2023-05-16 04:13:00+00:00</td>\n      <td>None</td>\n      <td>9:30PM</td>\n      <td>21:30:00</td>\n      <td>JFK</td>\n      <td>New York</td>\n      <td>12:13AM</td>\n      <td>00:13:00</td>\n      <td>DL</td>\n      <td>Delta Air Lines</td>\n      <td>1248</td>\n      <td>2023-05-16</td>\n      <td>2023-05-16 00:13:00-04:00</td>\n      <td>2023-05-16</td>\n    </tr>\n    <tr>\n      <th>9</th>\n      <td>2023-05-16 04:44:00+00:00</td>\n      <td>None</td>\n      <td>5:25PM</td>\n      <td>17:25:00</td>\n      <td>LAX</td>\n      <td>Los Angeles</td>\n      <td>12:44AM</td>\n      <td>00:44:00</td>\n      <td>DL</td>\n      <td>Delta Air Lines</td>\n      <td>803</td>\n      <td>2023-05-16</td>\n      <td>2023-05-16 00:44:00-04:00</td>\n      <td>2023-05-16</td>\n    </tr>\n    <tr>\n      <th>10</th>\n      <td>2023-05-16 04:58:00+00:00</td>\n      <td>None</td>\n      <td>5:05PM</td>\n      <td>17:05:00</td>\n      <td>SFO</td>\n      <td>San Francisco</td>\n      <td>12:58AM</td>\n      <td>00:58:00</td>\n      <td>DL</td>\n      <td>Delta Air Lines</td>\n      <td>325</td>\n      <td>2023-05-16</td>\n      <td>2023-05-16 00:58:00-04:00</td>\n      <td>2023-05-16</td>\n    </tr>\n    <tr>\n      <th>11</th>\n      <td>2023-05-16 08:38:00+00:00</td>\n      <td>None</td>\n      <td>9:30PM</td>\n      <td>21:30:00</td>\n      <td>SNA</td>\n      <td>Santa Ana</td>\n      <td>4:38AM</td>\n      <td>04:38:00</td>\n      <td>DL</td>\n      <td>Delta Air Lines</td>\n      <td>731</td>\n      <td>2023-05-16</td>\n      <td>2023-05-16 04:38:00-04:00</td>\n      <td>2023-05-16</td>\n    </tr>\n    <tr>\n      <th>12</th>\n      <td>2023-05-16 09:00:00+00:00</td>\n      <td>None</td>\n      <td>9:15PM</td>\n      <td>21:15:00</td>\n      <td>SFO</td>\n      <td>San Francisco</td>\n      <td>5:00AM</td>\n      <td>05:00:00</td>\n      <td>DL</td>\n      <td>Delta Air Lines</td>\n      <td>574</td>\n      <td>2023-05-16</td>\n      <td>2023-05-16 05:00:00-04:00</td>\n      <td>2023-05-16</td>\n    </tr>\n    <tr>\n      <th>13</th>\n      <td>2023-05-16 09:00:00+00:00</td>\n      <td>None</td>\n      <td>9:45PM</td>\n      <td>21:45:00</td>\n      <td>LAX</td>\n      <td>Los Angeles</td>\n      <td>5:00AM</td>\n      <td>05:00:00</td>\n      <td>DL</td>\n      <td>Delta Air Lines</td>\n      <td>700</td>\n      <td>2023-05-16</td>\n      <td>2023-05-16 05:00:00-04:00</td>\n      <td>2023-05-16</td>\n    </tr>\n    <tr>\n      <th>14</th>\n      <td>2023-05-16 09:17:00+00:00</td>\n      <td>None</td>\n      <td>10:25PM</td>\n      <td>22:25:00</td>\n      <td>LAS</td>\n      <td>Las Vegas</td>\n      <td>5:17AM</td>\n      <td>05:17:00</td>\n      <td>DL</td>\n      <td>Delta Air Lines</td>\n      <td>924</td>\n      <td>2023-05-16</td>\n      <td>2023-05-16 05:17:00-04:00</td>\n      <td>2023-05-16</td>\n    </tr>\n    <tr>\n      <th>15</th>\n      <td>2023-05-16 09:17:00+00:00</td>\n      <td>None</td>\n      <td>11:35PM</td>\n      <td>23:35:00</td>\n      <td>SLC</td>\n      <td>Salt Lake City</td>\n      <td>5:17AM</td>\n      <td>05:17:00</td>\n      <td>DL</td>\n      <td>Delta Air Lines</td>\n      <td>477</td>\n      <td>2023-05-16</td>\n      <td>2023-05-16 05:17:00-04:00</td>\n      <td>2023-05-16</td>\n    </tr>\n    <tr>\n      <th>16</th>\n      <td>2023-05-16 09:20:00+00:00</td>\n      <td>None</td>\n      <td>8:00PM</td>\n      <td>20:00:00</td>\n      <td>EZE</td>\n      <td>Buenos Aires</td>\n      <td>5:20AM</td>\n      <td>05:20:00</td>\n      <td>DL</td>\n      <td>Delta Air Lines</td>\n      <td>110</td>\n      <td>2023-05-16</td>\n      <td>2023-05-16 05:20:00-04:00</td>\n      <td>2023-05-16</td>\n    </tr>\n    <tr>\n      <th>17</th>\n      <td>2023-05-16 09:37:00+00:00</td>\n      <td>None</td>\n      <td>10:30PM</td>\n      <td>22:30:00</td>\n      <td>ONT</td>\n      <td>Ontario</td>\n      <td>5:37AM</td>\n      <td>05:37:00</td>\n      <td>DL</td>\n      <td>Delta Air Lines</td>\n      <td>884</td>\n      <td>2023-05-16</td>\n      <td>2023-05-16 05:37:00-04:00</td>\n      <td>2023-05-16</td>\n    </tr>\n    <tr>\n      <th>18</th>\n      <td>2023-05-16 09:39:00+00:00</td>\n      <td>None</td>\n      <td>10:29PM</td>\n      <td>22:29:00</td>\n      <td>LAX</td>\n      <td>Los Angeles</td>\n      <td>5:39AM</td>\n      <td>05:39:00</td>\n      <td>DL</td>\n      <td>Delta Air Lines</td>\n      <td>309</td>\n      <td>2023-05-16</td>\n      <td>2023-05-16 05:39:00-04:00</td>\n      <td>2023-05-16</td>\n    </tr>\n    <tr>\n      <th>19</th>\n      <td>2023-05-16 09:40:00+00:00</td>\n      <td>None</td>\n      <td>10:15PM</td>\n      <td>22:15:00</td>\n      <td>SMF</td>\n      <td>Sacramento</td>\n      <td>5:40AM</td>\n      <td>05:40:00</td>\n      <td>DL</td>\n      <td>Delta Air Lines</td>\n      <td>566</td>\n      <td>2023-05-16</td>\n      <td>2023-05-16 05:40:00-04:00</td>\n      <td>2023-05-16</td>\n    </tr>\n    <tr>\n      <th>20</th>\n      <td>2023-05-16 09:42:00+00:00</td>\n      <td>None</td>\n      <td>10:30PM</td>\n      <td>22:30:00</td>\n      <td>SAN</td>\n      <td>San Diego</td>\n      <td>5:42AM</td>\n      <td>05:42:00</td>\n      <td>DL</td>\n      <td>Delta Air Lines</td>\n      <td>730</td>\n      <td>2023-05-16</td>\n      <td>2023-05-16 05:42:00-04:00</td>\n      <td>2023-05-16</td>\n    </tr>\n    <tr>\n      <th>21</th>\n      <td>2023-05-16 09:45:00+00:00</td>\n      <td>None</td>\n      <td>9:55PM</td>\n      <td>21:55:00</td>\n      <td>SEA</td>\n      <td>Seattle</td>\n      <td>5:45AM</td>\n      <td>05:45:00</td>\n      <td>DL</td>\n      <td>Delta Air Lines</td>\n      <td>864</td>\n      <td>2023-05-16</td>\n      <td>2023-05-16 05:45:00-04:00</td>\n      <td>2023-05-16</td>\n    </tr>\n    <tr>\n      <th>22</th>\n      <td>2023-05-16 09:51:00+00:00</td>\n      <td>None</td>\n      <td>12:59AM</td>\n      <td>00:59:00</td>\n      <td>DEN</td>\n      <td>Denver</td>\n      <td>5:51AM</td>\n      <td>05:51:00</td>\n      <td>DL</td>\n      <td>Delta Air Lines</td>\n      <td>976</td>\n      <td>2023-05-16</td>\n      <td>2023-05-16 05:51:00-04:00</td>\n      <td>2023-05-16</td>\n    </tr>\n    <tr>\n      <th>23</th>\n      <td>2023-05-16 09:55:00+00:00</td>\n      <td>None</td>\n      <td>10:10PM</td>\n      <td>22:10:00</td>\n      <td>PDX</td>\n      <td>Portland</td>\n      <td>5:55AM</td>\n      <td>05:55:00</td>\n      <td>DL</td>\n      <td>Delta Air Lines</td>\n      <td>570</td>\n      <td>2023-05-16</td>\n      <td>2023-05-16 05:55:00-04:00</td>\n      <td>2023-05-16</td>\n    </tr>\n    <tr>\n      <th>24</th>\n      <td>2023-05-16 10:00:00+00:00</td>\n      <td>None</td>\n      <td>10:30PM</td>\n      <td>22:30:00</td>\n      <td>LOS</td>\n      <td>Lagos</td>\n      <td>6:00AM</td>\n      <td>06:00:00</td>\n      <td>DL</td>\n      <td>Delta Air Lines</td>\n      <td>55</td>\n      <td>2023-05-16</td>\n      <td>2023-05-16 06:00:00-04:00</td>\n      <td>2023-05-16</td>\n    </tr>\n    <tr>\n      <th>25</th>\n      <td>2023-05-16 10:08:00+00:00</td>\n      <td>None</td>\n      <td>11:55PM</td>\n      <td>23:55:00</td>\n      <td>UIO</td>\n      <td>Quito</td>\n      <td>6:08AM</td>\n      <td>06:08:00</td>\n      <td>DL</td>\n      <td>Delta Air Lines</td>\n      <td>632</td>\n      <td>2023-05-16</td>\n      <td>2023-05-16 06:08:00-04:00</td>\n      <td>2023-05-16</td>\n    </tr>\n    <tr>\n      <th>26</th>\n      <td>2023-05-16 10:15:00+00:00</td>\n      <td>None</td>\n      <td>10:55PM</td>\n      <td>22:55:00</td>\n      <td>LAX</td>\n      <td>Los Angeles</td>\n      <td>6:15AM</td>\n      <td>06:15:00</td>\n      <td>DL</td>\n      <td>Delta Air Lines</td>\n      <td>395</td>\n      <td>2023-05-16</td>\n      <td>2023-05-16 06:15:00-04:00</td>\n      <td>2023-05-16</td>\n    </tr>\n    <tr>\n      <th>27</th>\n      <td>2023-05-16 10:23:00+00:00</td>\n      <td>None</td>\n      <td>5:30AM</td>\n      <td>05:30:00</td>\n      <td>TYS</td>\n      <td>Knoxville</td>\n      <td>6:23AM</td>\n      <td>06:23:00</td>\n      <td>DL</td>\n      <td>Delta Air Lines</td>\n      <td>2704</td>\n      <td>2023-05-16</td>\n      <td>2023-05-16 06:23:00-04:00</td>\n      <td>2023-05-16</td>\n    </tr>\n  </tbody>\n</table>\n</div>"
     },
     "execution_count": 113,
     "metadata": {},
     "output_type": "execute_result"
    }
   ],
   "source": [
    "df_arrivals"
   ],
   "metadata": {
    "collapsed": false,
    "ExecuteTime": {
     "end_time": "2023-05-18T02:56:32.885283Z",
     "start_time": "2023-05-18T02:56:32.848165Z"
    }
   }
  },
  {
   "cell_type": "code",
   "execution_count": 114,
   "outputs": [
    {
     "data": {
      "text/plain": "                        time  \\\n0  2023-05-16 01:16:00+00:00   \n1  2023-05-16 02:40:00+00:00   \n2  2023-05-16 02:47:00+00:00   \n3  2023-05-16 02:59:00+00:00   \n4  2023-05-16 03:00:00+00:00   \n5  2023-05-16 03:00:00+00:00   \n6  2023-05-16 03:05:00+00:00   \n7  2023-05-16 03:28:00+00:00   \n8  2023-05-16 03:35:00+00:00   \n9  2023-05-16 03:35:00+00:00   \n10 2023-05-16 03:35:00+00:00   \n11 2023-05-16 03:45:00+00:00   \n12 2023-05-16 03:50:00+00:00   \n13 2023-05-16 03:50:00+00:00   \n14 2023-05-16 03:56:00+00:00   \n15 2023-05-16 03:59:00+00:00   \n16 2023-05-16 04:30:00+00:00   \n17 2023-05-16 10:00:00+00:00   \n18 2023-05-16 10:00:00+00:00   \n19 2023-05-16 10:00:00+00:00   \n\n                                             operator departure.time.timeAMPM  \\\n0                                                None                  9:16PM   \n1                                                None                 10:40PM   \n2                                                None                 10:47PM   \n3                                                None                 10:59PM   \n4                                                None                 11:00PM   \n5                                                None                 11:00PM   \n6                                                None                 11:05PM   \n7                                                None                 11:28PM   \n8                                                None                 11:35PM   \n9   Operated by SkyWest Airlines on behalf of Delt...                 11:35PM   \n10                                               None                 11:35PM   \n11                                               None                 11:45PM   \n12                                               None                 11:50PM   \n13                                               None                 11:50PM   \n14                                               None                 11:56PM   \n15                                               None                 11:59PM   \n16                                               None                 12:30AM   \n17                                               None                  6:00AM   \n18                                               None                  6:00AM   \n19                                               None                  6:00AM   \n\n   departure.time.time24 departure.airport.iata departure.airport.city  \\\n0               21:16:00                    PNS              Pensacola   \n1               22:40:00                    DEN                 Denver   \n2               22:47:00                    CHS             Charleston   \n3               22:59:00                    MDW                Chicago   \n4               23:00:00                    RDU         Raleigh/Durham   \n5               23:00:00                    VPS      Fort Walton Beach   \n6               23:05:00                    TYS              Knoxville   \n7               23:28:00                    MKE              Milwaukee   \n8               23:35:00                    FLL        Fort Lauderdale   \n9               23:35:00                    AGS                Augusta   \n10              23:35:00                    CAE               Columbia   \n11              23:45:00                    SAV               Savannah   \n12              23:50:00                    TPA                  Tampa   \n13              23:50:00                    BHM             Birmingham   \n14              23:56:00                    HSV             Huntsville   \n15              23:59:00                    JAX           Jacksonville   \n16              00:30:00                    ICN                  Seoul   \n17              06:00:00                    LGA               New York   \n18              06:00:00                    BOS                 Boston   \n19              06:00:00                    DTW                Detroit   \n\n   arrival.timeAMPM arrival.time24 carrier.code     carrier.name  \\\n0            9:29PM       21:29:00           DL  Delta Air Lines   \n1           11:58PM       23:58:00           DL  Delta Air Lines   \n2           11:59PM       23:59:00           DL  Delta Air Lines   \n3           11:52PM       23:52:00           DL  Delta Air Lines   \n4           12:25AM       00:25:00           DL  Delta Air Lines   \n5           11:13PM       23:13:00           DL  Delta Air Lines   \n6           11:59PM       23:59:00           DL  Delta Air Lines   \n7           12:29AM       00:29:00           DL  Delta Air Lines   \n8            1:26AM       01:26:00           DL  Delta Air Lines   \n9           12:36AM       00:36:00           DL  Delta Air Lines   \n10          12:33AM       00:33:00           DL  Delta Air Lines   \n11          12:52AM       00:52:00           DL  Delta Air Lines   \n12           1:18AM       01:18:00           DL  Delta Air Lines   \n13          11:41PM       23:41:00           DL  Delta Air Lines   \n14          11:54PM       23:54:00           DL  Delta Air Lines   \n15           1:10AM       01:10:00           DL  Delta Air Lines   \n16           5:15AM       05:15:00           DL  Delta Air Lines   \n17           8:14AM       08:14:00           DL  Delta Air Lines   \n18           8:33AM       08:33:00           DL  Delta Air Lines   \n19           7:55AM       07:55:00           DL  Delta Air Lines   \n\n   carrier.flightNumber        date                  time_EST    date_EST  \n0                  2717  2023-05-16 2023-05-15 21:16:00-04:00  2023-05-15  \n1                   956  2023-05-16 2023-05-15 22:40:00-04:00  2023-05-15  \n2                  2650  2023-05-16 2023-05-15 22:47:00-04:00  2023-05-15  \n3                  1076  2023-05-16 2023-05-15 22:59:00-04:00  2023-05-15  \n4                  1431  2023-05-16 2023-05-15 23:00:00-04:00  2023-05-15  \n5                  2060  2023-05-16 2023-05-15 23:00:00-04:00  2023-05-15  \n6                  2876  2023-05-16 2023-05-15 23:05:00-04:00  2023-05-15  \n7                  2970  2023-05-16 2023-05-15 23:28:00-04:00  2023-05-15  \n8                  2995  2023-05-16 2023-05-15 23:35:00-04:00  2023-05-15  \n9                  3609  2023-05-16 2023-05-15 23:35:00-04:00  2023-05-15  \n10                 1433  2023-05-16 2023-05-15 23:35:00-04:00  2023-05-15  \n11                 2860  2023-05-16 2023-05-15 23:45:00-04:00  2023-05-15  \n12                 1253  2023-05-16 2023-05-15 23:50:00-04:00  2023-05-15  \n13                 2749  2023-05-16 2023-05-15 23:50:00-04:00  2023-05-15  \n14                 2303  2023-05-16 2023-05-15 23:56:00-04:00  2023-05-15  \n15                 2746  2023-05-16 2023-05-15 23:59:00-04:00  2023-05-15  \n16                   27  2023-05-16 2023-05-16 00:30:00-04:00  2023-05-16  \n17                  378  2023-05-16 2023-05-16 06:00:00-04:00  2023-05-16  \n18                 2173  2023-05-16 2023-05-16 06:00:00-04:00  2023-05-16  \n19                  904  2023-05-16 2023-05-16 06:00:00-04:00  2023-05-16  ",
      "text/html": "<div>\n<style scoped>\n    .dataframe tbody tr th:only-of-type {\n        vertical-align: middle;\n    }\n\n    .dataframe tbody tr th {\n        vertical-align: top;\n    }\n\n    .dataframe thead th {\n        text-align: right;\n    }\n</style>\n<table border=\"1\" class=\"dataframe\">\n  <thead>\n    <tr style=\"text-align: right;\">\n      <th></th>\n      <th>time</th>\n      <th>operator</th>\n      <th>departure.time.timeAMPM</th>\n      <th>departure.time.time24</th>\n      <th>departure.airport.iata</th>\n      <th>departure.airport.city</th>\n      <th>arrival.timeAMPM</th>\n      <th>arrival.time24</th>\n      <th>carrier.code</th>\n      <th>carrier.name</th>\n      <th>carrier.flightNumber</th>\n      <th>date</th>\n      <th>time_EST</th>\n      <th>date_EST</th>\n    </tr>\n  </thead>\n  <tbody>\n    <tr>\n      <th>0</th>\n      <td>2023-05-16 01:16:00+00:00</td>\n      <td>None</td>\n      <td>9:16PM</td>\n      <td>21:16:00</td>\n      <td>PNS</td>\n      <td>Pensacola</td>\n      <td>9:29PM</td>\n      <td>21:29:00</td>\n      <td>DL</td>\n      <td>Delta Air Lines</td>\n      <td>2717</td>\n      <td>2023-05-16</td>\n      <td>2023-05-15 21:16:00-04:00</td>\n      <td>2023-05-15</td>\n    </tr>\n    <tr>\n      <th>1</th>\n      <td>2023-05-16 02:40:00+00:00</td>\n      <td>None</td>\n      <td>10:40PM</td>\n      <td>22:40:00</td>\n      <td>DEN</td>\n      <td>Denver</td>\n      <td>11:58PM</td>\n      <td>23:58:00</td>\n      <td>DL</td>\n      <td>Delta Air Lines</td>\n      <td>956</td>\n      <td>2023-05-16</td>\n      <td>2023-05-15 22:40:00-04:00</td>\n      <td>2023-05-15</td>\n    </tr>\n    <tr>\n      <th>2</th>\n      <td>2023-05-16 02:47:00+00:00</td>\n      <td>None</td>\n      <td>10:47PM</td>\n      <td>22:47:00</td>\n      <td>CHS</td>\n      <td>Charleston</td>\n      <td>11:59PM</td>\n      <td>23:59:00</td>\n      <td>DL</td>\n      <td>Delta Air Lines</td>\n      <td>2650</td>\n      <td>2023-05-16</td>\n      <td>2023-05-15 22:47:00-04:00</td>\n      <td>2023-05-15</td>\n    </tr>\n    <tr>\n      <th>3</th>\n      <td>2023-05-16 02:59:00+00:00</td>\n      <td>None</td>\n      <td>10:59PM</td>\n      <td>22:59:00</td>\n      <td>MDW</td>\n      <td>Chicago</td>\n      <td>11:52PM</td>\n      <td>23:52:00</td>\n      <td>DL</td>\n      <td>Delta Air Lines</td>\n      <td>1076</td>\n      <td>2023-05-16</td>\n      <td>2023-05-15 22:59:00-04:00</td>\n      <td>2023-05-15</td>\n    </tr>\n    <tr>\n      <th>4</th>\n      <td>2023-05-16 03:00:00+00:00</td>\n      <td>None</td>\n      <td>11:00PM</td>\n      <td>23:00:00</td>\n      <td>RDU</td>\n      <td>Raleigh/Durham</td>\n      <td>12:25AM</td>\n      <td>00:25:00</td>\n      <td>DL</td>\n      <td>Delta Air Lines</td>\n      <td>1431</td>\n      <td>2023-05-16</td>\n      <td>2023-05-15 23:00:00-04:00</td>\n      <td>2023-05-15</td>\n    </tr>\n    <tr>\n      <th>5</th>\n      <td>2023-05-16 03:00:00+00:00</td>\n      <td>None</td>\n      <td>11:00PM</td>\n      <td>23:00:00</td>\n      <td>VPS</td>\n      <td>Fort Walton Beach</td>\n      <td>11:13PM</td>\n      <td>23:13:00</td>\n      <td>DL</td>\n      <td>Delta Air Lines</td>\n      <td>2060</td>\n      <td>2023-05-16</td>\n      <td>2023-05-15 23:00:00-04:00</td>\n      <td>2023-05-15</td>\n    </tr>\n    <tr>\n      <th>6</th>\n      <td>2023-05-16 03:05:00+00:00</td>\n      <td>None</td>\n      <td>11:05PM</td>\n      <td>23:05:00</td>\n      <td>TYS</td>\n      <td>Knoxville</td>\n      <td>11:59PM</td>\n      <td>23:59:00</td>\n      <td>DL</td>\n      <td>Delta Air Lines</td>\n      <td>2876</td>\n      <td>2023-05-16</td>\n      <td>2023-05-15 23:05:00-04:00</td>\n      <td>2023-05-15</td>\n    </tr>\n    <tr>\n      <th>7</th>\n      <td>2023-05-16 03:28:00+00:00</td>\n      <td>None</td>\n      <td>11:28PM</td>\n      <td>23:28:00</td>\n      <td>MKE</td>\n      <td>Milwaukee</td>\n      <td>12:29AM</td>\n      <td>00:29:00</td>\n      <td>DL</td>\n      <td>Delta Air Lines</td>\n      <td>2970</td>\n      <td>2023-05-16</td>\n      <td>2023-05-15 23:28:00-04:00</td>\n      <td>2023-05-15</td>\n    </tr>\n    <tr>\n      <th>8</th>\n      <td>2023-05-16 03:35:00+00:00</td>\n      <td>None</td>\n      <td>11:35PM</td>\n      <td>23:35:00</td>\n      <td>FLL</td>\n      <td>Fort Lauderdale</td>\n      <td>1:26AM</td>\n      <td>01:26:00</td>\n      <td>DL</td>\n      <td>Delta Air Lines</td>\n      <td>2995</td>\n      <td>2023-05-16</td>\n      <td>2023-05-15 23:35:00-04:00</td>\n      <td>2023-05-15</td>\n    </tr>\n    <tr>\n      <th>9</th>\n      <td>2023-05-16 03:35:00+00:00</td>\n      <td>Operated by SkyWest Airlines on behalf of Delt...</td>\n      <td>11:35PM</td>\n      <td>23:35:00</td>\n      <td>AGS</td>\n      <td>Augusta</td>\n      <td>12:36AM</td>\n      <td>00:36:00</td>\n      <td>DL</td>\n      <td>Delta Air Lines</td>\n      <td>3609</td>\n      <td>2023-05-16</td>\n      <td>2023-05-15 23:35:00-04:00</td>\n      <td>2023-05-15</td>\n    </tr>\n    <tr>\n      <th>10</th>\n      <td>2023-05-16 03:35:00+00:00</td>\n      <td>None</td>\n      <td>11:35PM</td>\n      <td>23:35:00</td>\n      <td>CAE</td>\n      <td>Columbia</td>\n      <td>12:33AM</td>\n      <td>00:33:00</td>\n      <td>DL</td>\n      <td>Delta Air Lines</td>\n      <td>1433</td>\n      <td>2023-05-16</td>\n      <td>2023-05-15 23:35:00-04:00</td>\n      <td>2023-05-15</td>\n    </tr>\n    <tr>\n      <th>11</th>\n      <td>2023-05-16 03:45:00+00:00</td>\n      <td>None</td>\n      <td>11:45PM</td>\n      <td>23:45:00</td>\n      <td>SAV</td>\n      <td>Savannah</td>\n      <td>12:52AM</td>\n      <td>00:52:00</td>\n      <td>DL</td>\n      <td>Delta Air Lines</td>\n      <td>2860</td>\n      <td>2023-05-16</td>\n      <td>2023-05-15 23:45:00-04:00</td>\n      <td>2023-05-15</td>\n    </tr>\n    <tr>\n      <th>12</th>\n      <td>2023-05-16 03:50:00+00:00</td>\n      <td>None</td>\n      <td>11:50PM</td>\n      <td>23:50:00</td>\n      <td>TPA</td>\n      <td>Tampa</td>\n      <td>1:18AM</td>\n      <td>01:18:00</td>\n      <td>DL</td>\n      <td>Delta Air Lines</td>\n      <td>1253</td>\n      <td>2023-05-16</td>\n      <td>2023-05-15 23:50:00-04:00</td>\n      <td>2023-05-15</td>\n    </tr>\n    <tr>\n      <th>13</th>\n      <td>2023-05-16 03:50:00+00:00</td>\n      <td>None</td>\n      <td>11:50PM</td>\n      <td>23:50:00</td>\n      <td>BHM</td>\n      <td>Birmingham</td>\n      <td>11:41PM</td>\n      <td>23:41:00</td>\n      <td>DL</td>\n      <td>Delta Air Lines</td>\n      <td>2749</td>\n      <td>2023-05-16</td>\n      <td>2023-05-15 23:50:00-04:00</td>\n      <td>2023-05-15</td>\n    </tr>\n    <tr>\n      <th>14</th>\n      <td>2023-05-16 03:56:00+00:00</td>\n      <td>None</td>\n      <td>11:56PM</td>\n      <td>23:56:00</td>\n      <td>HSV</td>\n      <td>Huntsville</td>\n      <td>11:54PM</td>\n      <td>23:54:00</td>\n      <td>DL</td>\n      <td>Delta Air Lines</td>\n      <td>2303</td>\n      <td>2023-05-16</td>\n      <td>2023-05-15 23:56:00-04:00</td>\n      <td>2023-05-15</td>\n    </tr>\n    <tr>\n      <th>15</th>\n      <td>2023-05-16 03:59:00+00:00</td>\n      <td>None</td>\n      <td>11:59PM</td>\n      <td>23:59:00</td>\n      <td>JAX</td>\n      <td>Jacksonville</td>\n      <td>1:10AM</td>\n      <td>01:10:00</td>\n      <td>DL</td>\n      <td>Delta Air Lines</td>\n      <td>2746</td>\n      <td>2023-05-16</td>\n      <td>2023-05-15 23:59:00-04:00</td>\n      <td>2023-05-15</td>\n    </tr>\n    <tr>\n      <th>16</th>\n      <td>2023-05-16 04:30:00+00:00</td>\n      <td>None</td>\n      <td>12:30AM</td>\n      <td>00:30:00</td>\n      <td>ICN</td>\n      <td>Seoul</td>\n      <td>5:15AM</td>\n      <td>05:15:00</td>\n      <td>DL</td>\n      <td>Delta Air Lines</td>\n      <td>27</td>\n      <td>2023-05-16</td>\n      <td>2023-05-16 00:30:00-04:00</td>\n      <td>2023-05-16</td>\n    </tr>\n    <tr>\n      <th>17</th>\n      <td>2023-05-16 10:00:00+00:00</td>\n      <td>None</td>\n      <td>6:00AM</td>\n      <td>06:00:00</td>\n      <td>LGA</td>\n      <td>New York</td>\n      <td>8:14AM</td>\n      <td>08:14:00</td>\n      <td>DL</td>\n      <td>Delta Air Lines</td>\n      <td>378</td>\n      <td>2023-05-16</td>\n      <td>2023-05-16 06:00:00-04:00</td>\n      <td>2023-05-16</td>\n    </tr>\n    <tr>\n      <th>18</th>\n      <td>2023-05-16 10:00:00+00:00</td>\n      <td>None</td>\n      <td>6:00AM</td>\n      <td>06:00:00</td>\n      <td>BOS</td>\n      <td>Boston</td>\n      <td>8:33AM</td>\n      <td>08:33:00</td>\n      <td>DL</td>\n      <td>Delta Air Lines</td>\n      <td>2173</td>\n      <td>2023-05-16</td>\n      <td>2023-05-16 06:00:00-04:00</td>\n      <td>2023-05-16</td>\n    </tr>\n    <tr>\n      <th>19</th>\n      <td>2023-05-16 10:00:00+00:00</td>\n      <td>None</td>\n      <td>6:00AM</td>\n      <td>06:00:00</td>\n      <td>DTW</td>\n      <td>Detroit</td>\n      <td>7:55AM</td>\n      <td>07:55:00</td>\n      <td>DL</td>\n      <td>Delta Air Lines</td>\n      <td>904</td>\n      <td>2023-05-16</td>\n      <td>2023-05-16 06:00:00-04:00</td>\n      <td>2023-05-16</td>\n    </tr>\n  </tbody>\n</table>\n</div>"
     },
     "execution_count": 114,
     "metadata": {},
     "output_type": "execute_result"
    }
   ],
   "source": [
    "df_departures"
   ],
   "metadata": {
    "collapsed": false,
    "ExecuteTime": {
     "end_time": "2023-05-18T02:56:33.608398Z",
     "start_time": "2023-05-18T02:56:33.599832Z"
    }
   }
  },
  {
   "cell_type": "code",
   "execution_count": 115,
   "outputs": [],
   "source": [
    "df_departures.rename(columns={'time':'Time_UTC',\n",
    "                              'operator':'Operator',\n",
    "                              'departure.time.timeAMPM':'Departure_Time_AM/PM',\n",
    "                              'departure.time.time24':'Departure_Time_24',\n",
    "                              'departure.airport.iata':'Arrival_Airport_IATA',\n",
    "                              'departure.airport.city':'Arrival_Airport_City',\n",
    "                              'arrival.timeAMPM':'Arrival_Time_AM/PM',\n",
    "                              'arrival.time24':'Arrival_Time_24',\n",
    "                              'carrier.code':'Airline_Code',\n",
    "                              'carrier.name':'Airline_Name',\n",
    "                              'carrier.flightNumber':'Airline_Flight_Number',\n",
    "                              'date':'Date_UTC',\n",
    "                              'time_EST':'Time_EST',\n",
    "                              'date_EST':'Date_EST'}, inplace=True)\n",
    "\n",
    "df_departures = df_departures[['Time_UTC', 'Date_UTC', 'Time_EST', 'Date_EST', 'Departure_Time_AM/PM', 'Departure_Time_24', 'Arrival_Airport_IATA', 'Arrival_Airport_City', 'Arrival_Time_AM/PM', 'Arrival_Time_24', 'Airline_Code', 'Airline_Name', 'Airline_Flight_Number']]"
   ],
   "metadata": {
    "collapsed": false,
    "ExecuteTime": {
     "end_time": "2023-05-18T02:56:34.574776Z",
     "start_time": "2023-05-18T02:56:34.568670Z"
    }
   }
  },
  {
   "cell_type": "code",
   "execution_count": 116,
   "outputs": [],
   "source": [
    "df_arrivals.rename(columns={'time':'Time_UTC',\n",
    "                              'operator':'Operator',\n",
    "                              'departure.time.timeAMPM':'Departure_Time_AM/PM',\n",
    "                              'departure.time.time24':'Departure_Time_24',\n",
    "                              'departure.airport.iata':'Departure_Airport_IATA',\n",
    "                              'departure.airport.city':'Departure_Airport_City',\n",
    "                              'arrival.timeAMPM':'Arrival_Time_AM/PM',\n",
    "                              'arrival.time24':'Arrival_Time_24',\n",
    "                              'carrier.code':'Airline_Code',\n",
    "                              'carrier.name':'Airline_Name',\n",
    "                              'carrier.flightNumber':'Airline_Flight_Number',\n",
    "                              'date':'Date_UTC',\n",
    "                              'time_EST':'Time_EST',\n",
    "                              'date_EST':'Date_EST'}, inplace=True)\n",
    "\n",
    "df_arrivals = df_arrivals[['Time_UTC', 'Date_UTC', 'Time_EST', 'Date_EST', 'Departure_Time_AM/PM', 'Departure_Time_24', 'Departure_Airport_IATA', 'Departure_Airport_City', 'Arrival_Time_AM/PM', 'Arrival_Time_24', 'Airline_Code', 'Airline_Name', 'Airline_Flight_Number']]"
   ],
   "metadata": {
    "collapsed": false,
    "ExecuteTime": {
     "end_time": "2023-05-18T02:56:35.366824Z",
     "start_time": "2023-05-18T02:56:35.362754Z"
    }
   }
  },
  {
   "cell_type": "code",
   "execution_count": 116,
   "outputs": [],
   "source": [],
   "metadata": {
    "collapsed": false,
    "ExecuteTime": {
     "end_time": "2023-05-18T02:56:36.453055Z",
     "start_time": "2023-05-18T02:56:36.445954Z"
    }
   }
  },
  {
   "cell_type": "code",
   "execution_count": 117,
   "outputs": [
    {
     "data": {
      "text/plain": "                    Time_UTC    Date_UTC                  Time_EST  \\\n0  2023-05-15 12:34:00+00:00  2023-05-15 2023-05-15 08:34:00-04:00   \n1  2023-05-16 00:16:00+00:00  2023-05-16 2023-05-15 20:16:00-04:00   \n2  2023-05-16 00:41:00+00:00  2023-05-16 2023-05-15 20:41:00-04:00   \n3  2023-05-16 01:15:00+00:00  2023-05-16 2023-05-15 21:15:00-04:00   \n4  2023-05-16 01:54:00+00:00  2023-05-16 2023-05-15 21:54:00-04:00   \n5  2023-05-16 03:16:00+00:00  2023-05-16 2023-05-15 23:16:00-04:00   \n6  2023-05-16 03:37:00+00:00  2023-05-16 2023-05-15 23:37:00-04:00   \n7  2023-05-16 04:06:00+00:00  2023-05-16 2023-05-16 00:06:00-04:00   \n8  2023-05-16 04:13:00+00:00  2023-05-16 2023-05-16 00:13:00-04:00   \n9  2023-05-16 04:44:00+00:00  2023-05-16 2023-05-16 00:44:00-04:00   \n10 2023-05-16 04:58:00+00:00  2023-05-16 2023-05-16 00:58:00-04:00   \n11 2023-05-16 08:38:00+00:00  2023-05-16 2023-05-16 04:38:00-04:00   \n12 2023-05-16 09:00:00+00:00  2023-05-16 2023-05-16 05:00:00-04:00   \n13 2023-05-16 09:00:00+00:00  2023-05-16 2023-05-16 05:00:00-04:00   \n14 2023-05-16 09:17:00+00:00  2023-05-16 2023-05-16 05:17:00-04:00   \n15 2023-05-16 09:17:00+00:00  2023-05-16 2023-05-16 05:17:00-04:00   \n16 2023-05-16 09:20:00+00:00  2023-05-16 2023-05-16 05:20:00-04:00   \n17 2023-05-16 09:37:00+00:00  2023-05-16 2023-05-16 05:37:00-04:00   \n18 2023-05-16 09:39:00+00:00  2023-05-16 2023-05-16 05:39:00-04:00   \n19 2023-05-16 09:40:00+00:00  2023-05-16 2023-05-16 05:40:00-04:00   \n20 2023-05-16 09:42:00+00:00  2023-05-16 2023-05-16 05:42:00-04:00   \n21 2023-05-16 09:45:00+00:00  2023-05-16 2023-05-16 05:45:00-04:00   \n22 2023-05-16 09:51:00+00:00  2023-05-16 2023-05-16 05:51:00-04:00   \n23 2023-05-16 09:55:00+00:00  2023-05-16 2023-05-16 05:55:00-04:00   \n24 2023-05-16 10:00:00+00:00  2023-05-16 2023-05-16 06:00:00-04:00   \n25 2023-05-16 10:08:00+00:00  2023-05-16 2023-05-16 06:08:00-04:00   \n26 2023-05-16 10:15:00+00:00  2023-05-16 2023-05-16 06:15:00-04:00   \n27 2023-05-16 10:23:00+00:00  2023-05-16 2023-05-16 06:23:00-04:00   \n\n      Date_EST Departure_Time_AM/PM Departure_Time_24 Departure_Airport_IATA  \\\n0   2023-05-15               5:21AM          05:21:00                    ATW   \n1   2023-05-15               2:40PM          14:40:00                    MEX   \n2   2023-05-15               6:45PM          18:45:00                    FLL   \n3   2023-05-15               4:00PM          16:00:00                    QRO   \n4   2023-05-15               8:00PM          20:00:00                    DCA   \n5   2023-05-15               3:55PM          15:55:00                    LAX   \n6   2023-05-15               8:05PM          20:05:00                    MSP   \n7   2023-05-16               5:05PM          17:05:00                    LAS   \n8   2023-05-16               9:30PM          21:30:00                    JFK   \n9   2023-05-16               5:25PM          17:25:00                    LAX   \n10  2023-05-16               5:05PM          17:05:00                    SFO   \n11  2023-05-16               9:30PM          21:30:00                    SNA   \n12  2023-05-16               9:15PM          21:15:00                    SFO   \n13  2023-05-16               9:45PM          21:45:00                    LAX   \n14  2023-05-16              10:25PM          22:25:00                    LAS   \n15  2023-05-16              11:35PM          23:35:00                    SLC   \n16  2023-05-16               8:00PM          20:00:00                    EZE   \n17  2023-05-16              10:30PM          22:30:00                    ONT   \n18  2023-05-16              10:29PM          22:29:00                    LAX   \n19  2023-05-16              10:15PM          22:15:00                    SMF   \n20  2023-05-16              10:30PM          22:30:00                    SAN   \n21  2023-05-16               9:55PM          21:55:00                    SEA   \n22  2023-05-16              12:59AM          00:59:00                    DEN   \n23  2023-05-16              10:10PM          22:10:00                    PDX   \n24  2023-05-16              10:30PM          22:30:00                    LOS   \n25  2023-05-16              11:55PM          23:55:00                    UIO   \n26  2023-05-16              10:55PM          22:55:00                    LAX   \n27  2023-05-16               5:30AM          05:30:00                    TYS   \n\n   Departure_Airport_City Arrival_Time_AM/PM Arrival_Time_24 Airline_Code  \\\n0                Appleton             8:34AM        08:34:00           DL   \n1             Mexico City             8:16PM        20:16:00           DL   \n2         Fort Lauderdale             8:41PM        20:41:00           DL   \n3               Queretaro             9:15PM        21:15:00           DL   \n4              Washington             9:54PM        21:54:00           DL   \n5             Los Angeles            11:16PM        23:16:00           DL   \n6             Minneapolis            11:37PM        23:37:00           DL   \n7               Las Vegas            12:06AM        00:06:00           DL   \n8                New York            12:13AM        00:13:00           DL   \n9             Los Angeles            12:44AM        00:44:00           DL   \n10          San Francisco            12:58AM        00:58:00           DL   \n11              Santa Ana             4:38AM        04:38:00           DL   \n12          San Francisco             5:00AM        05:00:00           DL   \n13            Los Angeles             5:00AM        05:00:00           DL   \n14              Las Vegas             5:17AM        05:17:00           DL   \n15         Salt Lake City             5:17AM        05:17:00           DL   \n16           Buenos Aires             5:20AM        05:20:00           DL   \n17                Ontario             5:37AM        05:37:00           DL   \n18            Los Angeles             5:39AM        05:39:00           DL   \n19             Sacramento             5:40AM        05:40:00           DL   \n20              San Diego             5:42AM        05:42:00           DL   \n21                Seattle             5:45AM        05:45:00           DL   \n22                 Denver             5:51AM        05:51:00           DL   \n23               Portland             5:55AM        05:55:00           DL   \n24                  Lagos             6:00AM        06:00:00           DL   \n25                  Quito             6:08AM        06:08:00           DL   \n26            Los Angeles             6:15AM        06:15:00           DL   \n27              Knoxville             6:23AM        06:23:00           DL   \n\n       Airline_Name Airline_Flight_Number  \n0   Delta Air Lines                  1436  \n1   Delta Air Lines                   599  \n2   Delta Air Lines                  1546  \n3   Delta Air Lines                  9945  \n4   Delta Air Lines                   928  \n5   Delta Air Lines                   873  \n6   Delta Air Lines                  1549  \n7   Delta Air Lines                   707  \n8   Delta Air Lines                  1248  \n9   Delta Air Lines                   803  \n10  Delta Air Lines                   325  \n11  Delta Air Lines                   731  \n12  Delta Air Lines                   574  \n13  Delta Air Lines                   700  \n14  Delta Air Lines                   924  \n15  Delta Air Lines                   477  \n16  Delta Air Lines                   110  \n17  Delta Air Lines                   884  \n18  Delta Air Lines                   309  \n19  Delta Air Lines                   566  \n20  Delta Air Lines                   730  \n21  Delta Air Lines                   864  \n22  Delta Air Lines                   976  \n23  Delta Air Lines                   570  \n24  Delta Air Lines                    55  \n25  Delta Air Lines                   632  \n26  Delta Air Lines                   395  \n27  Delta Air Lines                  2704  ",
      "text/html": "<div>\n<style scoped>\n    .dataframe tbody tr th:only-of-type {\n        vertical-align: middle;\n    }\n\n    .dataframe tbody tr th {\n        vertical-align: top;\n    }\n\n    .dataframe thead th {\n        text-align: right;\n    }\n</style>\n<table border=\"1\" class=\"dataframe\">\n  <thead>\n    <tr style=\"text-align: right;\">\n      <th></th>\n      <th>Time_UTC</th>\n      <th>Date_UTC</th>\n      <th>Time_EST</th>\n      <th>Date_EST</th>\n      <th>Departure_Time_AM/PM</th>\n      <th>Departure_Time_24</th>\n      <th>Departure_Airport_IATA</th>\n      <th>Departure_Airport_City</th>\n      <th>Arrival_Time_AM/PM</th>\n      <th>Arrival_Time_24</th>\n      <th>Airline_Code</th>\n      <th>Airline_Name</th>\n      <th>Airline_Flight_Number</th>\n    </tr>\n  </thead>\n  <tbody>\n    <tr>\n      <th>0</th>\n      <td>2023-05-15 12:34:00+00:00</td>\n      <td>2023-05-15</td>\n      <td>2023-05-15 08:34:00-04:00</td>\n      <td>2023-05-15</td>\n      <td>5:21AM</td>\n      <td>05:21:00</td>\n      <td>ATW</td>\n      <td>Appleton</td>\n      <td>8:34AM</td>\n      <td>08:34:00</td>\n      <td>DL</td>\n      <td>Delta Air Lines</td>\n      <td>1436</td>\n    </tr>\n    <tr>\n      <th>1</th>\n      <td>2023-05-16 00:16:00+00:00</td>\n      <td>2023-05-16</td>\n      <td>2023-05-15 20:16:00-04:00</td>\n      <td>2023-05-15</td>\n      <td>2:40PM</td>\n      <td>14:40:00</td>\n      <td>MEX</td>\n      <td>Mexico City</td>\n      <td>8:16PM</td>\n      <td>20:16:00</td>\n      <td>DL</td>\n      <td>Delta Air Lines</td>\n      <td>599</td>\n    </tr>\n    <tr>\n      <th>2</th>\n      <td>2023-05-16 00:41:00+00:00</td>\n      <td>2023-05-16</td>\n      <td>2023-05-15 20:41:00-04:00</td>\n      <td>2023-05-15</td>\n      <td>6:45PM</td>\n      <td>18:45:00</td>\n      <td>FLL</td>\n      <td>Fort Lauderdale</td>\n      <td>8:41PM</td>\n      <td>20:41:00</td>\n      <td>DL</td>\n      <td>Delta Air Lines</td>\n      <td>1546</td>\n    </tr>\n    <tr>\n      <th>3</th>\n      <td>2023-05-16 01:15:00+00:00</td>\n      <td>2023-05-16</td>\n      <td>2023-05-15 21:15:00-04:00</td>\n      <td>2023-05-15</td>\n      <td>4:00PM</td>\n      <td>16:00:00</td>\n      <td>QRO</td>\n      <td>Queretaro</td>\n      <td>9:15PM</td>\n      <td>21:15:00</td>\n      <td>DL</td>\n      <td>Delta Air Lines</td>\n      <td>9945</td>\n    </tr>\n    <tr>\n      <th>4</th>\n      <td>2023-05-16 01:54:00+00:00</td>\n      <td>2023-05-16</td>\n      <td>2023-05-15 21:54:00-04:00</td>\n      <td>2023-05-15</td>\n      <td>8:00PM</td>\n      <td>20:00:00</td>\n      <td>DCA</td>\n      <td>Washington</td>\n      <td>9:54PM</td>\n      <td>21:54:00</td>\n      <td>DL</td>\n      <td>Delta Air Lines</td>\n      <td>928</td>\n    </tr>\n    <tr>\n      <th>5</th>\n      <td>2023-05-16 03:16:00+00:00</td>\n      <td>2023-05-16</td>\n      <td>2023-05-15 23:16:00-04:00</td>\n      <td>2023-05-15</td>\n      <td>3:55PM</td>\n      <td>15:55:00</td>\n      <td>LAX</td>\n      <td>Los Angeles</td>\n      <td>11:16PM</td>\n      <td>23:16:00</td>\n      <td>DL</td>\n      <td>Delta Air Lines</td>\n      <td>873</td>\n    </tr>\n    <tr>\n      <th>6</th>\n      <td>2023-05-16 03:37:00+00:00</td>\n      <td>2023-05-16</td>\n      <td>2023-05-15 23:37:00-04:00</td>\n      <td>2023-05-15</td>\n      <td>8:05PM</td>\n      <td>20:05:00</td>\n      <td>MSP</td>\n      <td>Minneapolis</td>\n      <td>11:37PM</td>\n      <td>23:37:00</td>\n      <td>DL</td>\n      <td>Delta Air Lines</td>\n      <td>1549</td>\n    </tr>\n    <tr>\n      <th>7</th>\n      <td>2023-05-16 04:06:00+00:00</td>\n      <td>2023-05-16</td>\n      <td>2023-05-16 00:06:00-04:00</td>\n      <td>2023-05-16</td>\n      <td>5:05PM</td>\n      <td>17:05:00</td>\n      <td>LAS</td>\n      <td>Las Vegas</td>\n      <td>12:06AM</td>\n      <td>00:06:00</td>\n      <td>DL</td>\n      <td>Delta Air Lines</td>\n      <td>707</td>\n    </tr>\n    <tr>\n      <th>8</th>\n      <td>2023-05-16 04:13:00+00:00</td>\n      <td>2023-05-16</td>\n      <td>2023-05-16 00:13:00-04:00</td>\n      <td>2023-05-16</td>\n      <td>9:30PM</td>\n      <td>21:30:00</td>\n      <td>JFK</td>\n      <td>New York</td>\n      <td>12:13AM</td>\n      <td>00:13:00</td>\n      <td>DL</td>\n      <td>Delta Air Lines</td>\n      <td>1248</td>\n    </tr>\n    <tr>\n      <th>9</th>\n      <td>2023-05-16 04:44:00+00:00</td>\n      <td>2023-05-16</td>\n      <td>2023-05-16 00:44:00-04:00</td>\n      <td>2023-05-16</td>\n      <td>5:25PM</td>\n      <td>17:25:00</td>\n      <td>LAX</td>\n      <td>Los Angeles</td>\n      <td>12:44AM</td>\n      <td>00:44:00</td>\n      <td>DL</td>\n      <td>Delta Air Lines</td>\n      <td>803</td>\n    </tr>\n    <tr>\n      <th>10</th>\n      <td>2023-05-16 04:58:00+00:00</td>\n      <td>2023-05-16</td>\n      <td>2023-05-16 00:58:00-04:00</td>\n      <td>2023-05-16</td>\n      <td>5:05PM</td>\n      <td>17:05:00</td>\n      <td>SFO</td>\n      <td>San Francisco</td>\n      <td>12:58AM</td>\n      <td>00:58:00</td>\n      <td>DL</td>\n      <td>Delta Air Lines</td>\n      <td>325</td>\n    </tr>\n    <tr>\n      <th>11</th>\n      <td>2023-05-16 08:38:00+00:00</td>\n      <td>2023-05-16</td>\n      <td>2023-05-16 04:38:00-04:00</td>\n      <td>2023-05-16</td>\n      <td>9:30PM</td>\n      <td>21:30:00</td>\n      <td>SNA</td>\n      <td>Santa Ana</td>\n      <td>4:38AM</td>\n      <td>04:38:00</td>\n      <td>DL</td>\n      <td>Delta Air Lines</td>\n      <td>731</td>\n    </tr>\n    <tr>\n      <th>12</th>\n      <td>2023-05-16 09:00:00+00:00</td>\n      <td>2023-05-16</td>\n      <td>2023-05-16 05:00:00-04:00</td>\n      <td>2023-05-16</td>\n      <td>9:15PM</td>\n      <td>21:15:00</td>\n      <td>SFO</td>\n      <td>San Francisco</td>\n      <td>5:00AM</td>\n      <td>05:00:00</td>\n      <td>DL</td>\n      <td>Delta Air Lines</td>\n      <td>574</td>\n    </tr>\n    <tr>\n      <th>13</th>\n      <td>2023-05-16 09:00:00+00:00</td>\n      <td>2023-05-16</td>\n      <td>2023-05-16 05:00:00-04:00</td>\n      <td>2023-05-16</td>\n      <td>9:45PM</td>\n      <td>21:45:00</td>\n      <td>LAX</td>\n      <td>Los Angeles</td>\n      <td>5:00AM</td>\n      <td>05:00:00</td>\n      <td>DL</td>\n      <td>Delta Air Lines</td>\n      <td>700</td>\n    </tr>\n    <tr>\n      <th>14</th>\n      <td>2023-05-16 09:17:00+00:00</td>\n      <td>2023-05-16</td>\n      <td>2023-05-16 05:17:00-04:00</td>\n      <td>2023-05-16</td>\n      <td>10:25PM</td>\n      <td>22:25:00</td>\n      <td>LAS</td>\n      <td>Las Vegas</td>\n      <td>5:17AM</td>\n      <td>05:17:00</td>\n      <td>DL</td>\n      <td>Delta Air Lines</td>\n      <td>924</td>\n    </tr>\n    <tr>\n      <th>15</th>\n      <td>2023-05-16 09:17:00+00:00</td>\n      <td>2023-05-16</td>\n      <td>2023-05-16 05:17:00-04:00</td>\n      <td>2023-05-16</td>\n      <td>11:35PM</td>\n      <td>23:35:00</td>\n      <td>SLC</td>\n      <td>Salt Lake City</td>\n      <td>5:17AM</td>\n      <td>05:17:00</td>\n      <td>DL</td>\n      <td>Delta Air Lines</td>\n      <td>477</td>\n    </tr>\n    <tr>\n      <th>16</th>\n      <td>2023-05-16 09:20:00+00:00</td>\n      <td>2023-05-16</td>\n      <td>2023-05-16 05:20:00-04:00</td>\n      <td>2023-05-16</td>\n      <td>8:00PM</td>\n      <td>20:00:00</td>\n      <td>EZE</td>\n      <td>Buenos Aires</td>\n      <td>5:20AM</td>\n      <td>05:20:00</td>\n      <td>DL</td>\n      <td>Delta Air Lines</td>\n      <td>110</td>\n    </tr>\n    <tr>\n      <th>17</th>\n      <td>2023-05-16 09:37:00+00:00</td>\n      <td>2023-05-16</td>\n      <td>2023-05-16 05:37:00-04:00</td>\n      <td>2023-05-16</td>\n      <td>10:30PM</td>\n      <td>22:30:00</td>\n      <td>ONT</td>\n      <td>Ontario</td>\n      <td>5:37AM</td>\n      <td>05:37:00</td>\n      <td>DL</td>\n      <td>Delta Air Lines</td>\n      <td>884</td>\n    </tr>\n    <tr>\n      <th>18</th>\n      <td>2023-05-16 09:39:00+00:00</td>\n      <td>2023-05-16</td>\n      <td>2023-05-16 05:39:00-04:00</td>\n      <td>2023-05-16</td>\n      <td>10:29PM</td>\n      <td>22:29:00</td>\n      <td>LAX</td>\n      <td>Los Angeles</td>\n      <td>5:39AM</td>\n      <td>05:39:00</td>\n      <td>DL</td>\n      <td>Delta Air Lines</td>\n      <td>309</td>\n    </tr>\n    <tr>\n      <th>19</th>\n      <td>2023-05-16 09:40:00+00:00</td>\n      <td>2023-05-16</td>\n      <td>2023-05-16 05:40:00-04:00</td>\n      <td>2023-05-16</td>\n      <td>10:15PM</td>\n      <td>22:15:00</td>\n      <td>SMF</td>\n      <td>Sacramento</td>\n      <td>5:40AM</td>\n      <td>05:40:00</td>\n      <td>DL</td>\n      <td>Delta Air Lines</td>\n      <td>566</td>\n    </tr>\n    <tr>\n      <th>20</th>\n      <td>2023-05-16 09:42:00+00:00</td>\n      <td>2023-05-16</td>\n      <td>2023-05-16 05:42:00-04:00</td>\n      <td>2023-05-16</td>\n      <td>10:30PM</td>\n      <td>22:30:00</td>\n      <td>SAN</td>\n      <td>San Diego</td>\n      <td>5:42AM</td>\n      <td>05:42:00</td>\n      <td>DL</td>\n      <td>Delta Air Lines</td>\n      <td>730</td>\n    </tr>\n    <tr>\n      <th>21</th>\n      <td>2023-05-16 09:45:00+00:00</td>\n      <td>2023-05-16</td>\n      <td>2023-05-16 05:45:00-04:00</td>\n      <td>2023-05-16</td>\n      <td>9:55PM</td>\n      <td>21:55:00</td>\n      <td>SEA</td>\n      <td>Seattle</td>\n      <td>5:45AM</td>\n      <td>05:45:00</td>\n      <td>DL</td>\n      <td>Delta Air Lines</td>\n      <td>864</td>\n    </tr>\n    <tr>\n      <th>22</th>\n      <td>2023-05-16 09:51:00+00:00</td>\n      <td>2023-05-16</td>\n      <td>2023-05-16 05:51:00-04:00</td>\n      <td>2023-05-16</td>\n      <td>12:59AM</td>\n      <td>00:59:00</td>\n      <td>DEN</td>\n      <td>Denver</td>\n      <td>5:51AM</td>\n      <td>05:51:00</td>\n      <td>DL</td>\n      <td>Delta Air Lines</td>\n      <td>976</td>\n    </tr>\n    <tr>\n      <th>23</th>\n      <td>2023-05-16 09:55:00+00:00</td>\n      <td>2023-05-16</td>\n      <td>2023-05-16 05:55:00-04:00</td>\n      <td>2023-05-16</td>\n      <td>10:10PM</td>\n      <td>22:10:00</td>\n      <td>PDX</td>\n      <td>Portland</td>\n      <td>5:55AM</td>\n      <td>05:55:00</td>\n      <td>DL</td>\n      <td>Delta Air Lines</td>\n      <td>570</td>\n    </tr>\n    <tr>\n      <th>24</th>\n      <td>2023-05-16 10:00:00+00:00</td>\n      <td>2023-05-16</td>\n      <td>2023-05-16 06:00:00-04:00</td>\n      <td>2023-05-16</td>\n      <td>10:30PM</td>\n      <td>22:30:00</td>\n      <td>LOS</td>\n      <td>Lagos</td>\n      <td>6:00AM</td>\n      <td>06:00:00</td>\n      <td>DL</td>\n      <td>Delta Air Lines</td>\n      <td>55</td>\n    </tr>\n    <tr>\n      <th>25</th>\n      <td>2023-05-16 10:08:00+00:00</td>\n      <td>2023-05-16</td>\n      <td>2023-05-16 06:08:00-04:00</td>\n      <td>2023-05-16</td>\n      <td>11:55PM</td>\n      <td>23:55:00</td>\n      <td>UIO</td>\n      <td>Quito</td>\n      <td>6:08AM</td>\n      <td>06:08:00</td>\n      <td>DL</td>\n      <td>Delta Air Lines</td>\n      <td>632</td>\n    </tr>\n    <tr>\n      <th>26</th>\n      <td>2023-05-16 10:15:00+00:00</td>\n      <td>2023-05-16</td>\n      <td>2023-05-16 06:15:00-04:00</td>\n      <td>2023-05-16</td>\n      <td>10:55PM</td>\n      <td>22:55:00</td>\n      <td>LAX</td>\n      <td>Los Angeles</td>\n      <td>6:15AM</td>\n      <td>06:15:00</td>\n      <td>DL</td>\n      <td>Delta Air Lines</td>\n      <td>395</td>\n    </tr>\n    <tr>\n      <th>27</th>\n      <td>2023-05-16 10:23:00+00:00</td>\n      <td>2023-05-16</td>\n      <td>2023-05-16 06:23:00-04:00</td>\n      <td>2023-05-16</td>\n      <td>5:30AM</td>\n      <td>05:30:00</td>\n      <td>TYS</td>\n      <td>Knoxville</td>\n      <td>6:23AM</td>\n      <td>06:23:00</td>\n      <td>DL</td>\n      <td>Delta Air Lines</td>\n      <td>2704</td>\n    </tr>\n  </tbody>\n</table>\n</div>"
     },
     "execution_count": 117,
     "metadata": {},
     "output_type": "execute_result"
    }
   ],
   "source": [
    "df_arrivals"
   ],
   "metadata": {
    "collapsed": false,
    "ExecuteTime": {
     "end_time": "2023-05-18T02:56:37.366869Z",
     "start_time": "2023-05-18T02:56:37.350589Z"
    }
   }
  },
  {
   "cell_type": "code",
   "execution_count": 22,
   "outputs": [],
   "source": [],
   "metadata": {
    "collapsed": false,
    "ExecuteTime": {
     "end_time": "2023-05-18T01:05:51.403316Z",
     "start_time": "2023-05-18T01:05:51.401459Z"
    }
   }
  }
 ],
 "metadata": {
  "kernelspec": {
   "display_name": "Python 3",
   "language": "python",
   "name": "python3"
  },
  "language_info": {
   "codemirror_mode": {
    "name": "ipython",
    "version": 2
   },
   "file_extension": ".py",
   "mimetype": "text/x-python",
   "name": "python",
   "nbconvert_exporter": "python",
   "pygments_lexer": "ipython2",
   "version": "2.7.6"
  }
 },
 "nbformat": 4,
 "nbformat_minor": 0
}
