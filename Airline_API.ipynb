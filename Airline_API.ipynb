{
 "cells": [
  {
   "cell_type": "code",
   "execution_count": 97,
   "outputs": [],
   "source": [
    "import http.client\n",
    "import config\n",
    "import pandas as pd\n",
    "import json\n",
    "import folium"
   ],
   "metadata": {
    "collapsed": false,
    "ExecuteTime": {
     "end_time": "2023-05-18T02:51:37.389052Z",
     "start_time": "2023-05-18T02:51:37.381475Z"
    }
   }
  },
  {
   "cell_type": "code",
   "execution_count": null,
   "outputs": [],
   "source": [
    "def get_arrivals(airlines, dates):\n",
    "    conn = http.client.HTTPSConnection(\"flight-fare-search.p.rapidapi.com\")\n",
    "    conn2 = http.client.HTTPSConnection(\"flight-fare-search.p.rapidapi.com\")\n",
    "\n",
    "    headers = {\n",
    "        'X-RapidAPI-Key': f\"{config.api_key}\",\n",
    "        'X-RapidAPI-Host': \"flight-fare-search.p.rapidapi.com\"\n",
    "    }\n",
    "\n",
    "    df_arrivals = pd.DataFrame()  # Initialize an empty DataFrame\n",
    "    df_departures = pd.DataFrame()  # Initialize an empty DataFrame\n",
    "\n",
    "    for airline in airlines:\n",
    "        for date in dates:\n",
    "            conn.request(\"GET\", f\"/v2/airport/arrivals?airportCode=ATL&date={date}&carrierCode={airline}\", headers=headers)\n",
    "            conn2.request(\"GET\", f\"/v2/airport/departures?airportCode=ATL&date={date}&carrierCode={airline}\", headers=headers)\n",
    "\n",
    "            arrivals = conn.getresponse().read().decode('utf-8')\n",
    "            departures = conn2.getresponse().read().decode('utf-8')\n",
    "\n",
    "            arrivals = json.loads(arrivals)\n",
    "            departures = json.loads(departures)\n",
    "\n",
    "            arrivals_data = arrivals['result']['flights']\n",
    "            departures_data = departures['result']['flights']\n",
    "\n",
    "            df_arrivals_temp = pd.json_normalize(arrivals_data)  # Temporary DataFrame for each request\n",
    "            df_departures_temp = pd.json_normalize(departures_data)  # Temporary DataFrame for each request\n",
    "\n",
    "            df_arrivals = pd.concat([df_arrivals, df_arrivals_temp])  # Concatenate the temporary DataFrame with the main one\n",
    "\n",
    "    return df_arrivals, df_departures"
   ],
   "metadata": {
    "collapsed": false
   }
  },
  {
   "cell_type": "code",
   "execution_count": 108,
   "metadata": {
    "collapsed": true,
    "ExecuteTime": {
     "end_time": "2023-05-18T02:56:28.934233Z",
     "start_time": "2023-05-18T02:56:28.522132Z"
    }
   },
   "outputs": [],
   "source": [
    "conn = http.client.HTTPSConnection(\"app.goflightlabs.com\")\n",
    "conn2 = http.client.HTTPSConnection(\"app.goflightlabs.com\")\n",
    "conn3 = http.client.HTTPSConnection(\"app.goflightlabs.com\")\n",
    "conn4 = http.client.HTTPSConnection(\"app.goflightlabs.com\")\n",
    "\n",
    "conn.request(\"GET\", f\"/flights?access_key={config.api_key}&depIata=ATL\")\n",
    "conn2.request(\"GET\", f\"/flights?access_key={config.api_key}&arrIata=ATL\")\n",
    "conn3.request(\"GET\", f\"/historical/2023-05-10?access_key={config.api_key}&code=ATL&type=departure\")\n",
    "conn4.request(\"GET\", f\"/historical/2023-05-10?access_key={config.api_key}&code=ATL&type=arrival\")\n",
    "\n",
    "real_time_departures = conn.getresponse().read().decode('utf-8')\n",
    "real_time_departures = json.loads(real_time_departures)\n",
    "\n",
    "real_time_arrivals = conn2.getresponse().read().decode('utf-8')\n",
    "real_time_arrivals = json.loads(real_time_arrivals)\n",
    "\n",
    "historical_departures = conn3.getresponse().read().decode('utf-8')\n",
    "historical_departures = json.loads(historical_departures)\n",
    "\n",
    "historical_arrivals = conn4.getresponse().read().decode('utf-8')\n",
    "historical_arrivals = json.loads(historical_arrivals)"
   ]
  },
  {
   "cell_type": "code",
   "execution_count": 109,
   "outputs": [],
   "source": [
    "df_real_time_departures = pd.json_normalize(real_time_departures['data'])\n",
    "df_real_time_arrials = pd.json_normalize(real_time_arrivals['data'])\n",
    "df_real_time_flights = pd.concat([df_real_time_departures, df_real_time_arrials])\n",
    "df_hist_departures = pd.json_normalize(historical_departures['data'])\n",
    "df_hist_arrivals = pd.json_normalize(historical_arrivals['data'])\n",
    "df_hist_flights = pd.concat([df_hist_departures, df_hist_arrivals])"
   ],
   "metadata": {
    "collapsed": false,
    "ExecuteTime": {
     "end_time": "2023-05-18T02:56:30.767370Z",
     "start_time": "2023-05-18T02:56:29.535169Z"
    }
   }
  },
  {
   "cell_type": "code",
   "execution_count": 110,
   "outputs": [],
   "source": [
    "df_hist_flights.info()"
   ],
   "metadata": {
    "collapsed": false,
    "ExecuteTime": {
     "end_time": "2023-05-18T02:56:31.413801Z",
     "start_time": "2023-05-18T02:56:31.410537Z"
    }
   }
  },
  {
   "cell_type": "code",
   "execution_count": 115,
   "outputs": [],
   "source": [
    "# df_departures.rename(columns={'time':'Time_UTC',\n",
    "#                               'operator':'Operator',\n",
    "#                               'departure.time.timeAMPM':'Departure_Time_AM/PM',\n",
    "#                               'departure.time.time24':'Departure_Time_24',\n",
    "#                               'departure.airport.iata':'Arrival_Airport_IATA',\n",
    "#                               'departure.airport.city':'Arrival_Airport_City',\n",
    "#                               'arrival.timeAMPM':'Arrival_Time_AM/PM',\n",
    "#                               'arrival.time24':'Arrival_Time_24',\n",
    "#                               'carrier.code':'Airline_Code',\n",
    "#                               'carrier.name':'Airline_Name',\n",
    "#                               'carrier.flightNumber':'Airline_Flight_Number',\n",
    "#                               'date':'Date_UTC',\n",
    "#                               'time_EST':'Time_EST',\n",
    "#                               'date_EST':'Date_EST'}, inplace=True)\n",
    "#\n",
    "# df_departures = df_departures[['Time_UTC', 'Date_UTC', 'Time_EST', 'Date_EST', 'Departure_Time_AM/PM', 'Departure_Time_24', 'Arrival_Airport_IATA', 'Arrival_Airport_City', 'Arrival_Time_AM/PM', 'Arrival_Time_24', 'Airline_Code', 'Airline_Name', 'Airline_Flight_Number']]"
   ],
   "metadata": {
    "collapsed": false,
    "ExecuteTime": {
     "end_time": "2023-05-18T02:56:34.574776Z",
     "start_time": "2023-05-18T02:56:34.568670Z"
    }
   }
  },
  {
   "cell_type": "code",
   "execution_count": 116,
   "outputs": [],
   "source": [
    "# df_arrivals.rename(columns={'time':'Time_UTC',\n",
    "#                               'operator':'Operator',\n",
    "#                               'departure.time.timeAMPM':'Departure_Time_AM/PM',\n",
    "#                               'departure.time.time24':'Departure_Time_24',\n",
    "#                               'departure.airport.iata':'Departure_Airport_IATA',\n",
    "#                               'departure.airport.city':'Departure_Airport_City',\n",
    "#                               'arrival.timeAMPM':'Arrival_Time_AM/PM',\n",
    "#                               'arrival.time24':'Arrival_Time_24',\n",
    "#                               'carrier.code':'Airline_Code',\n",
    "#                               'carrier.name':'Airline_Name',\n",
    "#                               'carrier.flightNumber':'Airline_Flight_Number',\n",
    "#                               'date':'Date_UTC',\n",
    "#                               'time_EST':'Time_EST',\n",
    "#                               'date_EST':'Date_EST'}, inplace=True)\n",
    "#\n",
    "# df_arrivals = df_arrivals[['Time_UTC', 'Date_UTC', 'Time_EST', 'Date_EST', 'Departure_Time_AM/PM', 'Departure_Time_24', 'Departure_Airport_IATA', 'Departure_Airport_City', 'Arrival_Time_AM/PM', 'Arrival_Time_24', 'Airline_Code', 'Airline_Name', 'Airline_Flight_Number']]"
   ],
   "metadata": {
    "collapsed": false,
    "ExecuteTime": {
     "end_time": "2023-05-18T02:56:35.366824Z",
     "start_time": "2023-05-18T02:56:35.362754Z"
    }
   }
  },
  {
   "cell_type": "code",
   "execution_count": 22,
   "outputs": [],
   "source": [],
   "metadata": {
    "collapsed": false,
    "ExecuteTime": {
     "end_time": "2023-05-18T01:05:51.403316Z",
     "start_time": "2023-05-18T01:05:51.401459Z"
    }
   }
  }
 ],
 "metadata": {
  "kernelspec": {
   "display_name": "Python 3",
   "language": "python",
   "name": "python3"
  },
  "language_info": {
   "codemirror_mode": {
    "name": "ipython",
    "version": 2
   },
   "file_extension": ".py",
   "mimetype": "text/x-python",
   "name": "python",
   "nbconvert_exporter": "python",
   "pygments_lexer": "ipython2",
   "version": "2.7.6"
  }
 },
 "nbformat": 4,
 "nbformat_minor": 0
}
