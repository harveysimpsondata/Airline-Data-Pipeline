{
 "cells": [
  {
   "cell_type": "code",
   "execution_count": 1,
   "outputs": [],
   "source": [
    "import http.client\n",
    "import config\n",
    "import pandas as pd\n",
    "import json\n",
    "import folium"
   ],
   "metadata": {
    "collapsed": false,
    "ExecuteTime": {
     "end_time": "2023-05-18T05:13:27.971941Z",
     "start_time": "2023-05-18T05:13:26.881901Z"
    }
   }
  },
  {
   "cell_type": "code",
   "execution_count": null,
   "outputs": [],
   "source": [
    "def get_arrivals(airlines, dates):\n",
    "    conn = http.client.HTTPSConnection(\"flight-fare-search.p.rapidapi.com\")\n",
    "    conn2 = http.client.HTTPSConnection(\"flight-fare-search.p.rapidapi.com\")\n",
    "\n",
    "    headers = {\n",
    "        'X-RapidAPI-Key': f\"{config.api_key}\",\n",
    "        'X-RapidAPI-Host': \"flight-fare-search.p.rapidapi.com\"\n",
    "    }\n",
    "\n",
    "    df_arrivals = pd.DataFrame()  # Initialize an empty DataFrame\n",
    "    df_departures = pd.DataFrame()  # Initialize an empty DataFrame\n",
    "\n",
    "    for airline in airlines:\n",
    "        for date in dates:\n",
    "            conn.request(\"GET\", f\"/v2/airport/arrivals?airportCode=ATL&date={date}&carrierCode={airline}\", headers=headers)\n",
    "            conn2.request(\"GET\", f\"/v2/airport/departures?airportCode=ATL&date={date}&carrierCode={airline}\", headers=headers)\n",
    "\n",
    "            arrivals = conn.getresponse().read().decode('utf-8')\n",
    "            departures = conn2.getresponse().read().decode('utf-8')\n",
    "\n",
    "            arrivals = json.loads(arrivals)\n",
    "            departures = json.loads(departures)\n",
    "\n",
    "            arrivals_data = arrivals['result']['flights']\n",
    "            departures_data = departures['result']['flights']\n",
    "\n",
    "            df_arrivals_temp = pd.json_normalize(arrivals_data)  # Temporary DataFrame for each request\n",
    "            df_departures_temp = pd.json_normalize(departures_data)  # Temporary DataFrame for each request\n",
    "\n",
    "            df_arrivals = pd.concat([df_arrivals, df_arrivals_temp])  # Concatenate the temporary DataFrame with the main one\n",
    "\n",
    "    return df_arrivals, df_departures"
   ],
   "metadata": {
    "collapsed": false
   }
  },
  {
   "cell_type": "code",
   "execution_count": 2,
   "metadata": {
    "collapsed": true,
    "ExecuteTime": {
     "end_time": "2023-05-18T05:13:32.443671Z",
     "start_time": "2023-05-18T05:13:31.408619Z"
    }
   },
   "outputs": [],
   "source": [
    "conn = http.client.HTTPSConnection(\"app.goflightlabs.com\")\n",
    "conn2 = http.client.HTTPSConnection(\"app.goflightlabs.com\")\n",
    "conn3 = http.client.HTTPSConnection(\"app.goflightlabs.com\")\n",
    "conn4 = http.client.HTTPSConnection(\"app.goflightlabs.com\")\n",
    "\n",
    "conn.request(\"GET\", f\"/flights?access_key={config.api_key}&depIata=ATL\")\n",
    "conn2.request(\"GET\", f\"/flights?access_key={config.api_key}&arrIata=ATL\")\n",
    "conn3.request(\"GET\", f\"/historical/2023-05-10?access_key={config.api_key}&code=ATL&type=departure\")\n",
    "conn4.request(\"GET\", f\"/historical/2023-05-10?access_key={config.api_key}&code=ATL&type=arrival\")\n",
    "\n",
    "real_time_departures = conn.getresponse().read().decode('utf-8')\n",
    "real_time_departures = json.loads(real_time_departures)\n",
    "\n",
    "real_time_arrivals = conn2.getresponse().read().decode('utf-8')\n",
    "real_time_arrivals = json.loads(real_time_arrivals)\n",
    "\n",
    "historical_departures = conn3.getresponse().read().decode('utf-8')\n",
    "historical_departures = json.loads(historical_departures)\n",
    "\n",
    "historical_arrivals = conn4.getresponse().read().decode('utf-8')\n",
    "historical_arrivals = json.loads(historical_arrivals)"
   ]
  },
  {
   "cell_type": "code",
   "execution_count": 3,
   "outputs": [],
   "source": [
    "df_real_time_departures = pd.json_normalize(real_time_departures['data'])\n",
    "df_real_time_arrials = pd.json_normalize(real_time_arrivals['data'])\n",
    "df_real_time_flights = pd.concat([df_real_time_departures, df_real_time_arrials])\n",
    "df_hist_departures = pd.json_normalize(historical_departures['data'])\n",
    "df_hist_arrivals = pd.json_normalize(historical_arrivals['data'])\n",
    "df_hist_flights = pd.concat([df_hist_departures, df_hist_arrivals])"
   ],
   "metadata": {
    "collapsed": false,
    "ExecuteTime": {
     "end_time": "2023-05-18T05:13:33.903834Z",
     "start_time": "2023-05-18T05:13:33.779253Z"
    }
   }
  },
  {
   "cell_type": "code",
   "execution_count": 5,
   "outputs": [
    {
     "data": {
      "text/plain": "        type  status departure.iataCode departure.icaoCode departure.terminal  \\\n0  departure  active                atl               katl                  i   \n1  departure  active                atl               katl                  i   \n2  departure  active                atl               katl                  i   \n3  departure  active                atl               katl                  s   \n4  departure  active                atl               katl                  s   \n\n  departure.gate  departure.delay  departure.scheduledTime  \\\n0             f6             23.0  2023-05-09t20:00:00.000   \n1             f6             23.0  2023-05-09t20:00:00.000   \n2             f6             23.0  2023-05-09t20:00:00.000   \n3            b28             15.0  2023-05-09t20:00:00.000   \n4            b28             15.0  2023-05-09t20:00:00.000   \n\n   departure.estimatedTime     departure.actualTime  ...  \\\n0  2023-05-09t20:10:00.000  2023-05-09t20:22:00.000  ...   \n1  2023-05-09t20:10:00.000  2023-05-09t20:22:00.000  ...   \n2  2023-05-09t20:10:00.000  2023-05-09t20:22:00.000  ...   \n3  2023-05-09t20:00:00.000  2023-05-09t20:14:00.000  ...   \n4  2023-05-09t20:00:00.000  2023-05-09t20:14:00.000  ...   \n\n  codeshared.airline.name codeshared.airline.iataCode  \\\n0         delta air lines                          dl   \n1         delta air lines                          dl   \n2                     NaN                         NaN   \n3         delta air lines                          dl   \n4         delta air lines                          dl   \n\n  codeshared.airline.icaoCode codeshared.flight.number  \\\n0                         dal                      176   \n1                         dal                      176   \n2                         NaN                      NaN   \n3                         dal                     1280   \n4                         dal                     1280   \n\n  codeshared.flight.iataNumber codeshared.flight.icaoNumber arrival.delay  \\\n0                        dl176                       dal176           NaN   \n1                        dl176                       dal176           NaN   \n2                          NaN                          NaN           NaN   \n3                       dl1280                      dal1280           NaN   \n4                       dl1280                      dal1280           NaN   \n\n  arrival.actualTime arrival.estimatedRunway arrival.actualRunway  \n0                NaN                     NaN                  NaN  \n1                NaN                     NaN                  NaN  \n2                NaN                     NaN                  NaN  \n3                NaN                     NaN                  NaN  \n4                NaN                     NaN                  NaN  \n\n[5 rows x 35 columns]",
      "text/html": "<div>\n<style scoped>\n    .dataframe tbody tr th:only-of-type {\n        vertical-align: middle;\n    }\n\n    .dataframe tbody tr th {\n        vertical-align: top;\n    }\n\n    .dataframe thead th {\n        text-align: right;\n    }\n</style>\n<table border=\"1\" class=\"dataframe\">\n  <thead>\n    <tr style=\"text-align: right;\">\n      <th></th>\n      <th>type</th>\n      <th>status</th>\n      <th>departure.iataCode</th>\n      <th>departure.icaoCode</th>\n      <th>departure.terminal</th>\n      <th>departure.gate</th>\n      <th>departure.delay</th>\n      <th>departure.scheduledTime</th>\n      <th>departure.estimatedTime</th>\n      <th>departure.actualTime</th>\n      <th>...</th>\n      <th>codeshared.airline.name</th>\n      <th>codeshared.airline.iataCode</th>\n      <th>codeshared.airline.icaoCode</th>\n      <th>codeshared.flight.number</th>\n      <th>codeshared.flight.iataNumber</th>\n      <th>codeshared.flight.icaoNumber</th>\n      <th>arrival.delay</th>\n      <th>arrival.actualTime</th>\n      <th>arrival.estimatedRunway</th>\n      <th>arrival.actualRunway</th>\n    </tr>\n  </thead>\n  <tbody>\n    <tr>\n      <th>0</th>\n      <td>departure</td>\n      <td>active</td>\n      <td>atl</td>\n      <td>katl</td>\n      <td>i</td>\n      <td>f6</td>\n      <td>23.0</td>\n      <td>2023-05-09t20:00:00.000</td>\n      <td>2023-05-09t20:10:00.000</td>\n      <td>2023-05-09t20:22:00.000</td>\n      <td>...</td>\n      <td>delta air lines</td>\n      <td>dl</td>\n      <td>dal</td>\n      <td>176</td>\n      <td>dl176</td>\n      <td>dal176</td>\n      <td>NaN</td>\n      <td>NaN</td>\n      <td>NaN</td>\n      <td>NaN</td>\n    </tr>\n    <tr>\n      <th>1</th>\n      <td>departure</td>\n      <td>active</td>\n      <td>atl</td>\n      <td>katl</td>\n      <td>i</td>\n      <td>f6</td>\n      <td>23.0</td>\n      <td>2023-05-09t20:00:00.000</td>\n      <td>2023-05-09t20:10:00.000</td>\n      <td>2023-05-09t20:22:00.000</td>\n      <td>...</td>\n      <td>delta air lines</td>\n      <td>dl</td>\n      <td>dal</td>\n      <td>176</td>\n      <td>dl176</td>\n      <td>dal176</td>\n      <td>NaN</td>\n      <td>NaN</td>\n      <td>NaN</td>\n      <td>NaN</td>\n    </tr>\n    <tr>\n      <th>2</th>\n      <td>departure</td>\n      <td>active</td>\n      <td>atl</td>\n      <td>katl</td>\n      <td>i</td>\n      <td>f6</td>\n      <td>23.0</td>\n      <td>2023-05-09t20:00:00.000</td>\n      <td>2023-05-09t20:10:00.000</td>\n      <td>2023-05-09t20:22:00.000</td>\n      <td>...</td>\n      <td>NaN</td>\n      <td>NaN</td>\n      <td>NaN</td>\n      <td>NaN</td>\n      <td>NaN</td>\n      <td>NaN</td>\n      <td>NaN</td>\n      <td>NaN</td>\n      <td>NaN</td>\n      <td>NaN</td>\n    </tr>\n    <tr>\n      <th>3</th>\n      <td>departure</td>\n      <td>active</td>\n      <td>atl</td>\n      <td>katl</td>\n      <td>s</td>\n      <td>b28</td>\n      <td>15.0</td>\n      <td>2023-05-09t20:00:00.000</td>\n      <td>2023-05-09t20:00:00.000</td>\n      <td>2023-05-09t20:14:00.000</td>\n      <td>...</td>\n      <td>delta air lines</td>\n      <td>dl</td>\n      <td>dal</td>\n      <td>1280</td>\n      <td>dl1280</td>\n      <td>dal1280</td>\n      <td>NaN</td>\n      <td>NaN</td>\n      <td>NaN</td>\n      <td>NaN</td>\n    </tr>\n    <tr>\n      <th>4</th>\n      <td>departure</td>\n      <td>active</td>\n      <td>atl</td>\n      <td>katl</td>\n      <td>s</td>\n      <td>b28</td>\n      <td>15.0</td>\n      <td>2023-05-09t20:00:00.000</td>\n      <td>2023-05-09t20:00:00.000</td>\n      <td>2023-05-09t20:14:00.000</td>\n      <td>...</td>\n      <td>delta air lines</td>\n      <td>dl</td>\n      <td>dal</td>\n      <td>1280</td>\n      <td>dl1280</td>\n      <td>dal1280</td>\n      <td>NaN</td>\n      <td>NaN</td>\n      <td>NaN</td>\n      <td>NaN</td>\n    </tr>\n  </tbody>\n</table>\n<p>5 rows × 35 columns</p>\n</div>"
     },
     "execution_count": 5,
     "metadata": {},
     "output_type": "execute_result"
    }
   ],
   "source": [
    "df_hist_flights.head()"
   ],
   "metadata": {
    "collapsed": false,
    "ExecuteTime": {
     "end_time": "2023-05-18T05:13:47.123676Z",
     "start_time": "2023-05-18T05:13:47.116349Z"
    }
   }
  },
  {
   "cell_type": "code",
   "execution_count": 8,
   "outputs": [
    {
     "data": {
      "text/plain": "           type     status departure.iataCode departure.icaoCode  \\\n0     departure     active                atl               katl   \n1     departure     active                atl               katl   \n2     departure     active                atl               katl   \n3     departure     active                atl               katl   \n4     departure     active                atl               katl   \n...         ...        ...                ...                ...   \n3426    arrival     landed                srq               ksrq   \n3427    arrival    unknown                bwi               kbwi   \n3428    arrival     landed                dfw               kdfw   \n3429    arrival     landed                cvg               kcvg   \n3430    arrival  scheduled                clt               kclt   \n\n     departure.terminal departure.gate  departure.delay  \\\n0                     i             f6             23.0   \n1                     i             f6             23.0   \n2                     i             f6             23.0   \n3                     s            b28             15.0   \n4                     s            b28             15.0   \n...                 ...            ...              ...   \n3426                NaN             b6             11.0   \n3427                NaN            d29            192.0   \n3428                NaN            NaN              NaN   \n3429                NaN            NaN             29.0   \n3430                NaN            NaN             57.0   \n\n     departure.scheduledTime departure.estimatedTime departure.actualTime  \\\n0        2023-05-09 20:00:00     2023-05-09 20:10:00  2023-05-09 20:22:00   \n1        2023-05-09 20:00:00     2023-05-09 20:10:00  2023-05-09 20:22:00   \n2        2023-05-09 20:00:00     2023-05-09 20:10:00  2023-05-09 20:22:00   \n3        2023-05-09 20:00:00     2023-05-09 20:00:00  2023-05-09 20:14:00   \n4        2023-05-09 20:00:00     2023-05-09 20:00:00  2023-05-09 20:14:00   \n...                      ...                     ...                  ...   \n3426     2023-05-10 16:57:00                     NaT  2023-05-10 17:08:00   \n3427     2023-05-10 17:00:00     2023-05-10 20:12:00                  NaT   \n3428     2023-05-10 16:25:00                     NaT  2023-05-10 16:20:00   \n3429     2023-05-10 17:30:00                     NaT  2023-05-10 17:59:00   \n3430     2023-05-10 18:13:00                     NaT  2023-05-10 19:10:00   \n\n      ... codeshared.airline.name codeshared.airline.iataCode  \\\n0     ...         delta air lines                          dl   \n1     ...         delta air lines                          dl   \n2     ...                     NaN                         NaN   \n3     ...         delta air lines                          dl   \n4     ...         delta air lines                          dl   \n...   ...                     ...                         ...   \n3426  ...                     NaN                         NaN   \n3427  ...                     NaN                         NaN   \n3428  ...                     NaN                         NaN   \n3429  ...                     NaN                         NaN   \n3430  ...                     NaN                         NaN   \n\n     codeshared.airline.icaoCode codeshared.flight.number  \\\n0                            dal                      176   \n1                            dal                      176   \n2                            NaN                      NaN   \n3                            dal                     1280   \n4                            dal                     1280   \n...                          ...                      ...   \n3426                         NaN                      NaN   \n3427                         NaN                      NaN   \n3428                         NaN                      NaN   \n3429                         NaN                      NaN   \n3430                         NaN                      NaN   \n\n     codeshared.flight.iataNumber codeshared.flight.icaoNumber arrival.delay  \\\n0                           dl176                       dal176           NaN   \n1                           dl176                       dal176           NaN   \n2                             NaN                          NaN           NaN   \n3                          dl1280                      dal1280           NaN   \n4                          dl1280                      dal1280           NaN   \n...                           ...                          ...           ...   \n3426                          NaN                          NaN           NaN   \n3427                          NaN                          NaN           NaN   \n3428                          NaN                          NaN           1.0   \n3429                          NaN                          NaN           NaN   \n3430                          NaN                          NaN          48.0   \n\n      arrival.actualTime arrival.estimatedRunway arrival.actualRunway  \n0                    NaT                     NaT                  NaT  \n1                    NaT                     NaT                  NaT  \n2                    NaT                     NaT                  NaT  \n3                    NaT                     NaT                  NaT  \n4                    NaT                     NaT                  NaT  \n...                  ...                     ...                  ...  \n3426 2023-05-10 18:13:00     2023-05-10 18:13:00  2023-05-10 18:13:00  \n3427                 NaT                     NaT                  NaT  \n3428 2023-05-10 19:00:00     2023-05-10 19:00:00  2023-05-10 19:00:00  \n3429 2023-05-10 19:06:00     2023-05-10 19:06:00  2023-05-10 19:06:00  \n3430                 NaT                     NaT                  NaT  \n\n[6674 rows x 35 columns]",
      "text/html": "<div>\n<style scoped>\n    .dataframe tbody tr th:only-of-type {\n        vertical-align: middle;\n    }\n\n    .dataframe tbody tr th {\n        vertical-align: top;\n    }\n\n    .dataframe thead th {\n        text-align: right;\n    }\n</style>\n<table border=\"1\" class=\"dataframe\">\n  <thead>\n    <tr style=\"text-align: right;\">\n      <th></th>\n      <th>type</th>\n      <th>status</th>\n      <th>departure.iataCode</th>\n      <th>departure.icaoCode</th>\n      <th>departure.terminal</th>\n      <th>departure.gate</th>\n      <th>departure.delay</th>\n      <th>departure.scheduledTime</th>\n      <th>departure.estimatedTime</th>\n      <th>departure.actualTime</th>\n      <th>...</th>\n      <th>codeshared.airline.name</th>\n      <th>codeshared.airline.iataCode</th>\n      <th>codeshared.airline.icaoCode</th>\n      <th>codeshared.flight.number</th>\n      <th>codeshared.flight.iataNumber</th>\n      <th>codeshared.flight.icaoNumber</th>\n      <th>arrival.delay</th>\n      <th>arrival.actualTime</th>\n      <th>arrival.estimatedRunway</th>\n      <th>arrival.actualRunway</th>\n    </tr>\n  </thead>\n  <tbody>\n    <tr>\n      <th>0</th>\n      <td>departure</td>\n      <td>active</td>\n      <td>atl</td>\n      <td>katl</td>\n      <td>i</td>\n      <td>f6</td>\n      <td>23.0</td>\n      <td>2023-05-09 20:00:00</td>\n      <td>2023-05-09 20:10:00</td>\n      <td>2023-05-09 20:22:00</td>\n      <td>...</td>\n      <td>delta air lines</td>\n      <td>dl</td>\n      <td>dal</td>\n      <td>176</td>\n      <td>dl176</td>\n      <td>dal176</td>\n      <td>NaN</td>\n      <td>NaT</td>\n      <td>NaT</td>\n      <td>NaT</td>\n    </tr>\n    <tr>\n      <th>1</th>\n      <td>departure</td>\n      <td>active</td>\n      <td>atl</td>\n      <td>katl</td>\n      <td>i</td>\n      <td>f6</td>\n      <td>23.0</td>\n      <td>2023-05-09 20:00:00</td>\n      <td>2023-05-09 20:10:00</td>\n      <td>2023-05-09 20:22:00</td>\n      <td>...</td>\n      <td>delta air lines</td>\n      <td>dl</td>\n      <td>dal</td>\n      <td>176</td>\n      <td>dl176</td>\n      <td>dal176</td>\n      <td>NaN</td>\n      <td>NaT</td>\n      <td>NaT</td>\n      <td>NaT</td>\n    </tr>\n    <tr>\n      <th>2</th>\n      <td>departure</td>\n      <td>active</td>\n      <td>atl</td>\n      <td>katl</td>\n      <td>i</td>\n      <td>f6</td>\n      <td>23.0</td>\n      <td>2023-05-09 20:00:00</td>\n      <td>2023-05-09 20:10:00</td>\n      <td>2023-05-09 20:22:00</td>\n      <td>...</td>\n      <td>NaN</td>\n      <td>NaN</td>\n      <td>NaN</td>\n      <td>NaN</td>\n      <td>NaN</td>\n      <td>NaN</td>\n      <td>NaN</td>\n      <td>NaT</td>\n      <td>NaT</td>\n      <td>NaT</td>\n    </tr>\n    <tr>\n      <th>3</th>\n      <td>departure</td>\n      <td>active</td>\n      <td>atl</td>\n      <td>katl</td>\n      <td>s</td>\n      <td>b28</td>\n      <td>15.0</td>\n      <td>2023-05-09 20:00:00</td>\n      <td>2023-05-09 20:00:00</td>\n      <td>2023-05-09 20:14:00</td>\n      <td>...</td>\n      <td>delta air lines</td>\n      <td>dl</td>\n      <td>dal</td>\n      <td>1280</td>\n      <td>dl1280</td>\n      <td>dal1280</td>\n      <td>NaN</td>\n      <td>NaT</td>\n      <td>NaT</td>\n      <td>NaT</td>\n    </tr>\n    <tr>\n      <th>4</th>\n      <td>departure</td>\n      <td>active</td>\n      <td>atl</td>\n      <td>katl</td>\n      <td>s</td>\n      <td>b28</td>\n      <td>15.0</td>\n      <td>2023-05-09 20:00:00</td>\n      <td>2023-05-09 20:00:00</td>\n      <td>2023-05-09 20:14:00</td>\n      <td>...</td>\n      <td>delta air lines</td>\n      <td>dl</td>\n      <td>dal</td>\n      <td>1280</td>\n      <td>dl1280</td>\n      <td>dal1280</td>\n      <td>NaN</td>\n      <td>NaT</td>\n      <td>NaT</td>\n      <td>NaT</td>\n    </tr>\n    <tr>\n      <th>...</th>\n      <td>...</td>\n      <td>...</td>\n      <td>...</td>\n      <td>...</td>\n      <td>...</td>\n      <td>...</td>\n      <td>...</td>\n      <td>...</td>\n      <td>...</td>\n      <td>...</td>\n      <td>...</td>\n      <td>...</td>\n      <td>...</td>\n      <td>...</td>\n      <td>...</td>\n      <td>...</td>\n      <td>...</td>\n      <td>...</td>\n      <td>...</td>\n      <td>...</td>\n      <td>...</td>\n    </tr>\n    <tr>\n      <th>3426</th>\n      <td>arrival</td>\n      <td>landed</td>\n      <td>srq</td>\n      <td>ksrq</td>\n      <td>NaN</td>\n      <td>b6</td>\n      <td>11.0</td>\n      <td>2023-05-10 16:57:00</td>\n      <td>NaT</td>\n      <td>2023-05-10 17:08:00</td>\n      <td>...</td>\n      <td>NaN</td>\n      <td>NaN</td>\n      <td>NaN</td>\n      <td>NaN</td>\n      <td>NaN</td>\n      <td>NaN</td>\n      <td>NaN</td>\n      <td>2023-05-10 18:13:00</td>\n      <td>2023-05-10 18:13:00</td>\n      <td>2023-05-10 18:13:00</td>\n    </tr>\n    <tr>\n      <th>3427</th>\n      <td>arrival</td>\n      <td>unknown</td>\n      <td>bwi</td>\n      <td>kbwi</td>\n      <td>NaN</td>\n      <td>d29</td>\n      <td>192.0</td>\n      <td>2023-05-10 17:00:00</td>\n      <td>2023-05-10 20:12:00</td>\n      <td>NaT</td>\n      <td>...</td>\n      <td>NaN</td>\n      <td>NaN</td>\n      <td>NaN</td>\n      <td>NaN</td>\n      <td>NaN</td>\n      <td>NaN</td>\n      <td>NaN</td>\n      <td>NaT</td>\n      <td>NaT</td>\n      <td>NaT</td>\n    </tr>\n    <tr>\n      <th>3428</th>\n      <td>arrival</td>\n      <td>landed</td>\n      <td>dfw</td>\n      <td>kdfw</td>\n      <td>NaN</td>\n      <td>NaN</td>\n      <td>NaN</td>\n      <td>2023-05-10 16:25:00</td>\n      <td>NaT</td>\n      <td>2023-05-10 16:20:00</td>\n      <td>...</td>\n      <td>NaN</td>\n      <td>NaN</td>\n      <td>NaN</td>\n      <td>NaN</td>\n      <td>NaN</td>\n      <td>NaN</td>\n      <td>1.0</td>\n      <td>2023-05-10 19:00:00</td>\n      <td>2023-05-10 19:00:00</td>\n      <td>2023-05-10 19:00:00</td>\n    </tr>\n    <tr>\n      <th>3429</th>\n      <td>arrival</td>\n      <td>landed</td>\n      <td>cvg</td>\n      <td>kcvg</td>\n      <td>NaN</td>\n      <td>NaN</td>\n      <td>29.0</td>\n      <td>2023-05-10 17:30:00</td>\n      <td>NaT</td>\n      <td>2023-05-10 17:59:00</td>\n      <td>...</td>\n      <td>NaN</td>\n      <td>NaN</td>\n      <td>NaN</td>\n      <td>NaN</td>\n      <td>NaN</td>\n      <td>NaN</td>\n      <td>NaN</td>\n      <td>2023-05-10 19:06:00</td>\n      <td>2023-05-10 19:06:00</td>\n      <td>2023-05-10 19:06:00</td>\n    </tr>\n    <tr>\n      <th>3430</th>\n      <td>arrival</td>\n      <td>scheduled</td>\n      <td>clt</td>\n      <td>kclt</td>\n      <td>NaN</td>\n      <td>NaN</td>\n      <td>57.0</td>\n      <td>2023-05-10 18:13:00</td>\n      <td>NaT</td>\n      <td>2023-05-10 19:10:00</td>\n      <td>...</td>\n      <td>NaN</td>\n      <td>NaN</td>\n      <td>NaN</td>\n      <td>NaN</td>\n      <td>NaN</td>\n      <td>NaN</td>\n      <td>48.0</td>\n      <td>NaT</td>\n      <td>NaT</td>\n      <td>NaT</td>\n    </tr>\n  </tbody>\n</table>\n<p>6674 rows × 35 columns</p>\n</div>"
     },
     "execution_count": 8,
     "metadata": {},
     "output_type": "execute_result"
    }
   ],
   "source": [
    "l = ['departure.scheduledTime', 'departure.estimatedTime', 'departure.actualTime', 'departure.estimatedRunway', 'departure.actualRunway', 'arrival.scheduledTime', 'arrival.estimatedTime', 'arrival.actualTime', 'arrival.estimatedRunway', 'arrival.actualRunway']\n",
    "for i in l:\n",
    "    df_hist_flights[i] = pd.to_datetime(df_hist_flights[i])\n",
    "\n",
    "\n",
    "df_hist_flights"
   ],
   "metadata": {
    "collapsed": false,
    "ExecuteTime": {
     "end_time": "2023-05-18T05:19:37.735287Z",
     "start_time": "2023-05-18T05:19:37.638216Z"
    }
   }
  },
  {
   "cell_type": "code",
   "execution_count": null,
   "outputs": [],
   "source": [],
   "metadata": {
    "collapsed": false
   }
  },
  {
   "cell_type": "code",
   "execution_count": 115,
   "outputs": [],
   "source": [
    "# df_departures.rename(columns={'time':'Time_UTC',\n",
    "#                               'operator':'Operator',\n",
    "#                               'departure.time.timeAMPM':'Departure_Time_AM/PM',\n",
    "#                               'departure.time.time24':'Departure_Time_24',\n",
    "#                               'departure.airport.iata':'Arrival_Airport_IATA',\n",
    "#                               'departure.airport.city':'Arrival_Airport_City',\n",
    "#                               'arrival.timeAMPM':'Arrival_Time_AM/PM',\n",
    "#                               'arrival.time24':'Arrival_Time_24',\n",
    "#                               'carrier.code':'Airline_Code',\n",
    "#                               'carrier.name':'Airline_Name',\n",
    "#                               'carrier.flightNumber':'Airline_Flight_Number',\n",
    "#                               'date':'Date_UTC',\n",
    "#                               'time_EST':'Time_EST',\n",
    "#                               'date_EST':'Date_EST'}, inplace=True)\n",
    "#\n",
    "# df_departures = df_departures[['Time_UTC', 'Date_UTC', 'Time_EST', 'Date_EST', 'Departure_Time_AM/PM', 'Departure_Time_24', 'Arrival_Airport_IATA', 'Arrival_Airport_City', 'Arrival_Time_AM/PM', 'Arrival_Time_24', 'Airline_Code', 'Airline_Name', 'Airline_Flight_Number']]"
   ],
   "metadata": {
    "collapsed": false,
    "ExecuteTime": {
     "end_time": "2023-05-18T02:56:34.574776Z",
     "start_time": "2023-05-18T02:56:34.568670Z"
    }
   }
  },
  {
   "cell_type": "code",
   "execution_count": 116,
   "outputs": [],
   "source": [
    "# df_arrivals.rename(columns={'time':'Time_UTC',\n",
    "#                               'operator':'Operator',\n",
    "#                               'departure.time.timeAMPM':'Departure_Time_AM/PM',\n",
    "#                               'departure.time.time24':'Departure_Time_24',\n",
    "#                               'departure.airport.iata':'Departure_Airport_IATA',\n",
    "#                               'departure.airport.city':'Departure_Airport_City',\n",
    "#                               'arrival.timeAMPM':'Arrival_Time_AM/PM',\n",
    "#                               'arrival.time24':'Arrival_Time_24',\n",
    "#                               'carrier.code':'Airline_Code',\n",
    "#                               'carrier.name':'Airline_Name',\n",
    "#                               'carrier.flightNumber':'Airline_Flight_Number',\n",
    "#                               'date':'Date_UTC',\n",
    "#                               'time_EST':'Time_EST',\n",
    "#                               'date_EST':'Date_EST'}, inplace=True)\n",
    "#\n",
    "# df_arrivals = df_arrivals[['Time_UTC', 'Date_UTC', 'Time_EST', 'Date_EST', 'Departure_Time_AM/PM', 'Departure_Time_24', 'Departure_Airport_IATA', 'Departure_Airport_City', 'Arrival_Time_AM/PM', 'Arrival_Time_24', 'Airline_Code', 'Airline_Name', 'Airline_Flight_Number']]"
   ],
   "metadata": {
    "collapsed": false,
    "ExecuteTime": {
     "end_time": "2023-05-18T02:56:35.366824Z",
     "start_time": "2023-05-18T02:56:35.362754Z"
    }
   }
  },
  {
   "cell_type": "code",
   "execution_count": 22,
   "outputs": [],
   "source": [],
   "metadata": {
    "collapsed": false,
    "ExecuteTime": {
     "end_time": "2023-05-18T01:05:51.403316Z",
     "start_time": "2023-05-18T01:05:51.401459Z"
    }
   }
  }
 ],
 "metadata": {
  "kernelspec": {
   "display_name": "Python 3",
   "language": "python",
   "name": "python3"
  },
  "language_info": {
   "codemirror_mode": {
    "name": "ipython",
    "version": 2
   },
   "file_extension": ".py",
   "mimetype": "text/x-python",
   "name": "python",
   "nbconvert_exporter": "python",
   "pygments_lexer": "ipython2",
   "version": "2.7.6"
  }
 },
 "nbformat": 4,
 "nbformat_minor": 0
}
