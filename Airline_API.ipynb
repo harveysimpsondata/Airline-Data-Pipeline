{
 "cells": [
  {
   "cell_type": "code",
   "execution_count": 10,
   "metadata": {
    "collapsed": true,
    "ExecuteTime": {
     "end_time": "2023-05-17T15:14:18.806984Z",
     "start_time": "2023-05-17T15:14:18.580886Z"
    }
   },
   "outputs": [
    {
     "name": "stdout",
     "output_type": "stream",
     "text": [
      "{'message': 'You have exceeded the DAILY quota for Airport Status on your current plan, BASIC. Upgrade your plan at https://rapidapi.com/farish978/api/flight-fare-search'}\n"
     ]
    }
   ],
   "source": [
    "import http.client\n",
    "import config\n",
    "import pandas as pd\n",
    "import json\n",
    "\n",
    "conn = http.client.HTTPSConnection(\"flight-fare-search.p.rapidapi.com\")\n",
    "\n",
    "headers = {\n",
    "    'X-RapidAPI-Key': f\"{config.api_key}\",\n",
    "    'X-RapidAPI-Host': \"flight-fare-search.p.rapidapi.com\"\n",
    "}\n",
    "\n",
    "conn.request(\"GET\", \"/v2/airport/departures?airportCode=ATL&date=2023-05-17&carrierCode=DL\", headers=headers)\n",
    "\n",
    "data = conn.getresponse().read().decode('utf-8')\n",
    "\n",
    "airline_list = json.loads(data)\n",
    "print(airline_list)\n",
    "# # data = data.decode(\"utf-8\")\n",
    "# data = conn.getresponse().read().decode('utf-8')\n",
    "#         credit_list = json.loads(data)\n",
    "#         credit = credit_list['cast']"
   ]
  },
  {
   "cell_type": "code",
   "execution_count": null,
   "outputs": [],
   "source": [],
   "metadata": {
    "collapsed": false
   }
  }
 ],
 "metadata": {
  "kernelspec": {
   "display_name": "Python 3",
   "language": "python",
   "name": "python3"
  },
  "language_info": {
   "codemirror_mode": {
    "name": "ipython",
    "version": 2
   },
   "file_extension": ".py",
   "mimetype": "text/x-python",
   "name": "python",
   "nbconvert_exporter": "python",
   "pygments_lexer": "ipython2",
   "version": "2.7.6"
  }
 },
 "nbformat": 4,
 "nbformat_minor": 0
}
