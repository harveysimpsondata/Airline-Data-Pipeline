{
 "cells": [
  {
   "cell_type": "code",
   "execution_count": 1,
   "metadata": {
    "collapsed": true,
    "ExecuteTime": {
     "end_time": "2023-05-18T15:16:24.751263Z",
     "start_time": "2023-05-18T15:16:23.685332Z"
    }
   },
   "outputs": [],
   "source": [
    "import http.client\n",
    "import config\n",
    "import pandas as pd\n",
    "import json\n",
    "import folium"
   ]
  },
  {
   "cell_type": "code",
   "execution_count": 5,
   "outputs": [],
   "source": [
    "conn1 = http.client.HTTPSConnection(\"app.goflightlabs.com\")\n",
    "conn2 = http.client.HTTPSConnection(\"app.goflightlabs.com\")\n",
    "\n",
    "conn1.request(\"GET\", f\"/historical/2023-05-14?access_key={config.api_key}&code=ATL&type=arrival\")\n",
    "conn2.request(\"GET\", f\"/historical/2023-05-14?access_key={config.api_key}&code=ATL&type=departure\")\n",
    "\n",
    "historical_arrivals = conn1.getresponse().read().decode('utf-8')\n",
    "historical_arrivals = json.loads(historical_arrivals)\n",
    "\n",
    "historical_departures = conn2.getresponse().read().decode('utf-8')\n",
    "historical_departures = json.loads(historical_departures)\n"
   ],
   "metadata": {
    "collapsed": false,
    "ExecuteTime": {
     "end_time": "2023-05-18T15:16:45.185934Z",
     "start_time": "2023-05-18T15:16:44.333562Z"
    }
   }
  },
  {
   "cell_type": "code",
   "execution_count": 6,
   "outputs": [],
   "source": [
    "df_hist_departures = pd.json_normalize(historical_departures['data'])\n",
    "df_hist_arrivals = pd.json_normalize(historical_arrivals['data'])\n",
    "df_hist_flights = pd.concat([df_hist_departures, df_hist_arrivals])"
   ],
   "metadata": {
    "collapsed": false,
    "ExecuteTime": {
     "end_time": "2023-05-18T15:16:46.101518Z",
     "start_time": "2023-05-18T15:16:45.985633Z"
    }
   }
  },
  {
   "cell_type": "code",
   "execution_count": 7,
   "outputs": [
    {
     "data": {
      "text/plain": "           type   status departure.iataCode departure.icaoCode  \\\n0     departure   active                atl               katl   \n1     departure   active                atl               katl   \n2     departure   active                atl               katl   \n3     departure   active                atl               katl   \n4     departure   active                atl               katl   \n...         ...      ...                ...                ...   \n3523    arrival   landed                clt               kclt   \n3524    arrival   landed                cvg               kcvg   \n3525    arrival   landed                hou               khou   \n3526    arrival   landed                srq               ksrq   \n3527    arrival  unknown                cvg               kcvg   \n\n     departure.terminal departure.gate  departure.delay  \\\n0                     i            e10             25.0   \n1                     s            b21             16.0   \n2                     s            d31             14.0   \n3                     s            c49             18.0   \n4                     s            c49             18.0   \n...                 ...            ...              ...   \n3523                NaN            NaN             13.0   \n3524                NaN            NaN             10.0   \n3525                NaN            NaN            111.0   \n3526                NaN            b12             10.0   \n3527                NaN            NaN             46.0   \n\n      departure.scheduledTime  departure.estimatedTime arrival.iataCode  ...  \\\n0     2023-05-13t20:00:00.000  2023-05-13t20:25:00.000              dub  ...   \n1     2023-05-13t20:00:00.000  2023-05-13t20:05:00.000              msp  ...   \n2     2023-05-13t20:00:00.000  2023-05-13t20:00:00.000              mli  ...   \n3     2023-05-13t20:04:00.000  2023-05-13t20:04:00.000              hpn  ...   \n4     2023-05-13t20:04:00.000  2023-05-13t20:04:00.000              hpn  ...   \n...                       ...                      ...              ...  ...   \n3523  2023-05-14t14:50:00.000                      NaN              atl  ...   \n3524  2023-05-14t14:30:00.000                      NaN              atl  ...   \n3525  2023-05-14t13:15:00.000                      NaN              atl  ...   \n3526  2023-05-14t16:40:00.000                      NaN              atl  ...   \n3527  2023-05-14t16:45:00.000  2023-05-14t17:31:00.000              atl  ...   \n\n     codeshared.airline.name codeshared.airline.iataCode  \\\n0                        NaN                         NaN   \n1                        NaN                         NaN   \n2                        NaN                         NaN   \n3            delta air lines                          dl   \n4            delta air lines                          dl   \n...                      ...                         ...   \n3523                     NaN                         NaN   \n3524                     NaN                         NaN   \n3525                     NaN                         NaN   \n3526                     NaN                         NaN   \n3527                     NaN                         NaN   \n\n     codeshared.airline.icaoCode codeshared.flight.number  \\\n0                            NaN                      NaN   \n1                            NaN                      NaN   \n2                            NaN                      NaN   \n3                            dal                     2718   \n4                            dal                     2718   \n...                          ...                      ...   \n3523                         NaN                      NaN   \n3524                         NaN                      NaN   \n3525                         NaN                      NaN   \n3526                         NaN                      NaN   \n3527                         NaN                      NaN   \n\n     codeshared.flight.iataNumber codeshared.flight.icaoNumber arrival.delay  \\\n0                             NaN                          NaN           NaN   \n1                             NaN                          NaN           NaN   \n2                             NaN                          NaN           NaN   \n3                          dl2718                      dal2718           NaN   \n4                          dl2718                      dal2718           NaN   \n...                           ...                          ...           ...   \n3523                          NaN                          NaN           NaN   \n3524                          NaN                          NaN           NaN   \n3525                          NaN                          NaN          20.0   \n3526                          NaN                          NaN           NaN   \n3527                          NaN                          NaN           NaN   \n\n           arrival.actualTime  arrival.estimatedRunway  \\\n0                         NaN                      NaN   \n1                         NaN                      NaN   \n2                         NaN                      NaN   \n3                         NaN                      NaN   \n4                         NaN                      NaN   \n...                       ...                      ...   \n3523  2023-05-14t15:47:00.000  2023-05-14t15:47:00.000   \n3524  2023-05-14t15:46:00.000  2023-05-14t15:46:00.000   \n3525  2023-05-14t17:42:00.000  2023-05-14t17:42:00.000   \n3526  2023-05-14t18:04:00.000  2023-05-14t18:04:00.000   \n3527                      NaN                      NaN   \n\n         arrival.actualRunway  \n0                         NaN  \n1                         NaN  \n2                         NaN  \n3                         NaN  \n4                         NaN  \n...                       ...  \n3523  2023-05-14t15:47:00.000  \n3524  2023-05-14t15:46:00.000  \n3525  2023-05-14t17:42:00.000  \n3526  2023-05-14t18:04:00.000  \n3527                      NaN  \n\n[6834 rows x 35 columns]",
      "text/html": "<div>\n<style scoped>\n    .dataframe tbody tr th:only-of-type {\n        vertical-align: middle;\n    }\n\n    .dataframe tbody tr th {\n        vertical-align: top;\n    }\n\n    .dataframe thead th {\n        text-align: right;\n    }\n</style>\n<table border=\"1\" class=\"dataframe\">\n  <thead>\n    <tr style=\"text-align: right;\">\n      <th></th>\n      <th>type</th>\n      <th>status</th>\n      <th>departure.iataCode</th>\n      <th>departure.icaoCode</th>\n      <th>departure.terminal</th>\n      <th>departure.gate</th>\n      <th>departure.delay</th>\n      <th>departure.scheduledTime</th>\n      <th>departure.estimatedTime</th>\n      <th>arrival.iataCode</th>\n      <th>...</th>\n      <th>codeshared.airline.name</th>\n      <th>codeshared.airline.iataCode</th>\n      <th>codeshared.airline.icaoCode</th>\n      <th>codeshared.flight.number</th>\n      <th>codeshared.flight.iataNumber</th>\n      <th>codeshared.flight.icaoNumber</th>\n      <th>arrival.delay</th>\n      <th>arrival.actualTime</th>\n      <th>arrival.estimatedRunway</th>\n      <th>arrival.actualRunway</th>\n    </tr>\n  </thead>\n  <tbody>\n    <tr>\n      <th>0</th>\n      <td>departure</td>\n      <td>active</td>\n      <td>atl</td>\n      <td>katl</td>\n      <td>i</td>\n      <td>e10</td>\n      <td>25.0</td>\n      <td>2023-05-13t20:00:00.000</td>\n      <td>2023-05-13t20:25:00.000</td>\n      <td>dub</td>\n      <td>...</td>\n      <td>NaN</td>\n      <td>NaN</td>\n      <td>NaN</td>\n      <td>NaN</td>\n      <td>NaN</td>\n      <td>NaN</td>\n      <td>NaN</td>\n      <td>NaN</td>\n      <td>NaN</td>\n      <td>NaN</td>\n    </tr>\n    <tr>\n      <th>1</th>\n      <td>departure</td>\n      <td>active</td>\n      <td>atl</td>\n      <td>katl</td>\n      <td>s</td>\n      <td>b21</td>\n      <td>16.0</td>\n      <td>2023-05-13t20:00:00.000</td>\n      <td>2023-05-13t20:05:00.000</td>\n      <td>msp</td>\n      <td>...</td>\n      <td>NaN</td>\n      <td>NaN</td>\n      <td>NaN</td>\n      <td>NaN</td>\n      <td>NaN</td>\n      <td>NaN</td>\n      <td>NaN</td>\n      <td>NaN</td>\n      <td>NaN</td>\n      <td>NaN</td>\n    </tr>\n    <tr>\n      <th>2</th>\n      <td>departure</td>\n      <td>active</td>\n      <td>atl</td>\n      <td>katl</td>\n      <td>s</td>\n      <td>d31</td>\n      <td>14.0</td>\n      <td>2023-05-13t20:00:00.000</td>\n      <td>2023-05-13t20:00:00.000</td>\n      <td>mli</td>\n      <td>...</td>\n      <td>NaN</td>\n      <td>NaN</td>\n      <td>NaN</td>\n      <td>NaN</td>\n      <td>NaN</td>\n      <td>NaN</td>\n      <td>NaN</td>\n      <td>NaN</td>\n      <td>NaN</td>\n      <td>NaN</td>\n    </tr>\n    <tr>\n      <th>3</th>\n      <td>departure</td>\n      <td>active</td>\n      <td>atl</td>\n      <td>katl</td>\n      <td>s</td>\n      <td>c49</td>\n      <td>18.0</td>\n      <td>2023-05-13t20:04:00.000</td>\n      <td>2023-05-13t20:04:00.000</td>\n      <td>hpn</td>\n      <td>...</td>\n      <td>delta air lines</td>\n      <td>dl</td>\n      <td>dal</td>\n      <td>2718</td>\n      <td>dl2718</td>\n      <td>dal2718</td>\n      <td>NaN</td>\n      <td>NaN</td>\n      <td>NaN</td>\n      <td>NaN</td>\n    </tr>\n    <tr>\n      <th>4</th>\n      <td>departure</td>\n      <td>active</td>\n      <td>atl</td>\n      <td>katl</td>\n      <td>s</td>\n      <td>c49</td>\n      <td>18.0</td>\n      <td>2023-05-13t20:04:00.000</td>\n      <td>2023-05-13t20:04:00.000</td>\n      <td>hpn</td>\n      <td>...</td>\n      <td>delta air lines</td>\n      <td>dl</td>\n      <td>dal</td>\n      <td>2718</td>\n      <td>dl2718</td>\n      <td>dal2718</td>\n      <td>NaN</td>\n      <td>NaN</td>\n      <td>NaN</td>\n      <td>NaN</td>\n    </tr>\n    <tr>\n      <th>...</th>\n      <td>...</td>\n      <td>...</td>\n      <td>...</td>\n      <td>...</td>\n      <td>...</td>\n      <td>...</td>\n      <td>...</td>\n      <td>...</td>\n      <td>...</td>\n      <td>...</td>\n      <td>...</td>\n      <td>...</td>\n      <td>...</td>\n      <td>...</td>\n      <td>...</td>\n      <td>...</td>\n      <td>...</td>\n      <td>...</td>\n      <td>...</td>\n      <td>...</td>\n      <td>...</td>\n    </tr>\n    <tr>\n      <th>3523</th>\n      <td>arrival</td>\n      <td>landed</td>\n      <td>clt</td>\n      <td>kclt</td>\n      <td>NaN</td>\n      <td>NaN</td>\n      <td>13.0</td>\n      <td>2023-05-14t14:50:00.000</td>\n      <td>NaN</td>\n      <td>atl</td>\n      <td>...</td>\n      <td>NaN</td>\n      <td>NaN</td>\n      <td>NaN</td>\n      <td>NaN</td>\n      <td>NaN</td>\n      <td>NaN</td>\n      <td>NaN</td>\n      <td>2023-05-14t15:47:00.000</td>\n      <td>2023-05-14t15:47:00.000</td>\n      <td>2023-05-14t15:47:00.000</td>\n    </tr>\n    <tr>\n      <th>3524</th>\n      <td>arrival</td>\n      <td>landed</td>\n      <td>cvg</td>\n      <td>kcvg</td>\n      <td>NaN</td>\n      <td>NaN</td>\n      <td>10.0</td>\n      <td>2023-05-14t14:30:00.000</td>\n      <td>NaN</td>\n      <td>atl</td>\n      <td>...</td>\n      <td>NaN</td>\n      <td>NaN</td>\n      <td>NaN</td>\n      <td>NaN</td>\n      <td>NaN</td>\n      <td>NaN</td>\n      <td>NaN</td>\n      <td>2023-05-14t15:46:00.000</td>\n      <td>2023-05-14t15:46:00.000</td>\n      <td>2023-05-14t15:46:00.000</td>\n    </tr>\n    <tr>\n      <th>3525</th>\n      <td>arrival</td>\n      <td>landed</td>\n      <td>hou</td>\n      <td>khou</td>\n      <td>NaN</td>\n      <td>NaN</td>\n      <td>111.0</td>\n      <td>2023-05-14t13:15:00.000</td>\n      <td>NaN</td>\n      <td>atl</td>\n      <td>...</td>\n      <td>NaN</td>\n      <td>NaN</td>\n      <td>NaN</td>\n      <td>NaN</td>\n      <td>NaN</td>\n      <td>NaN</td>\n      <td>20.0</td>\n      <td>2023-05-14t17:42:00.000</td>\n      <td>2023-05-14t17:42:00.000</td>\n      <td>2023-05-14t17:42:00.000</td>\n    </tr>\n    <tr>\n      <th>3526</th>\n      <td>arrival</td>\n      <td>landed</td>\n      <td>srq</td>\n      <td>ksrq</td>\n      <td>NaN</td>\n      <td>b12</td>\n      <td>10.0</td>\n      <td>2023-05-14t16:40:00.000</td>\n      <td>NaN</td>\n      <td>atl</td>\n      <td>...</td>\n      <td>NaN</td>\n      <td>NaN</td>\n      <td>NaN</td>\n      <td>NaN</td>\n      <td>NaN</td>\n      <td>NaN</td>\n      <td>NaN</td>\n      <td>2023-05-14t18:04:00.000</td>\n      <td>2023-05-14t18:04:00.000</td>\n      <td>2023-05-14t18:04:00.000</td>\n    </tr>\n    <tr>\n      <th>3527</th>\n      <td>arrival</td>\n      <td>unknown</td>\n      <td>cvg</td>\n      <td>kcvg</td>\n      <td>NaN</td>\n      <td>NaN</td>\n      <td>46.0</td>\n      <td>2023-05-14t16:45:00.000</td>\n      <td>2023-05-14t17:31:00.000</td>\n      <td>atl</td>\n      <td>...</td>\n      <td>NaN</td>\n      <td>NaN</td>\n      <td>NaN</td>\n      <td>NaN</td>\n      <td>NaN</td>\n      <td>NaN</td>\n      <td>NaN</td>\n      <td>NaN</td>\n      <td>NaN</td>\n      <td>NaN</td>\n    </tr>\n  </tbody>\n</table>\n<p>6834 rows × 35 columns</p>\n</div>"
     },
     "execution_count": 7,
     "metadata": {},
     "output_type": "execute_result"
    }
   ],
   "source": [
    "df_hist_flights"
   ],
   "metadata": {
    "collapsed": false,
    "ExecuteTime": {
     "end_time": "2023-05-18T15:16:46.986440Z",
     "start_time": "2023-05-18T15:16:46.960209Z"
    }
   }
  },
  {
   "cell_type": "code",
   "execution_count": null,
   "outputs": [],
   "source": [],
   "metadata": {
    "collapsed": false
   }
  }
 ],
 "metadata": {
  "kernelspec": {
   "display_name": "Python 3",
   "language": "python",
   "name": "python3"
  },
  "language_info": {
   "codemirror_mode": {
    "name": "ipython",
    "version": 2
   },
   "file_extension": ".py",
   "mimetype": "text/x-python",
   "name": "python",
   "nbconvert_exporter": "python",
   "pygments_lexer": "ipython2",
   "version": "2.7.6"
  }
 },
 "nbformat": 4,
 "nbformat_minor": 0
}
