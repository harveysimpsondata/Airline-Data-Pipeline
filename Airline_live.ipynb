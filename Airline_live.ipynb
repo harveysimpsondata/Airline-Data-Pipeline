{
 "cells": [
  {
   "cell_type": "code",
   "execution_count": 1,
   "outputs": [],
   "source": [
    "import http.client\n",
    "import config\n",
    "import pandas as pd\n",
    "import json\n",
    "import folium"
   ],
   "metadata": {
    "collapsed": false,
    "ExecuteTime": {
     "end_time": "2023-05-18T15:16:13.220052Z",
     "start_time": "2023-05-18T15:16:12.141886Z"
    }
   }
  },
  {
   "cell_type": "code",
   "execution_count": 2,
   "metadata": {
    "collapsed": true,
    "ExecuteTime": {
     "end_time": "2023-05-18T15:16:16.061400Z",
     "start_time": "2023-05-18T15:16:14.829965Z"
    }
   },
   "outputs": [],
   "source": [
    "conn1 = http.client.HTTPSConnection(\"app.goflightlabs.com\")\n",
    "conn2 = http.client.HTTPSConnection(\"app.goflightlabs.com\")\n",
    "\n",
    "conn1.request(\"GET\", f\"/flights?access_key={config.api_key}&arrIata=ATL\")\n",
    "conn2.request(\"GET\", f\"/flights?access_key={config.api_key}&depIata=ATL\")\n",
    "\n",
    "real_time_arrivals = conn1.getresponse().read().decode('utf-8')\n",
    "real_time_arrivals = json.loads(real_time_arrivals)\n",
    "\n",
    "real_time_departures = conn2.getresponse().read().decode('utf-8')\n",
    "real_time_departures = json.loads(real_time_departures)"
   ]
  },
  {
   "cell_type": "code",
   "execution_count": 60,
   "outputs": [],
   "source": [
    "df_real_time_departures = pd.json_normalize(real_time_departures['data'])\n",
    "df_real_time_arrials = pd.json_normalize(real_time_arrivals['data'])\n",
    "df_real_time_flights = pd.concat([df_real_time_departures, df_real_time_arrials])"
   ],
   "metadata": {
    "collapsed": false,
    "ExecuteTime": {
     "end_time": "2023-05-18T16:35:32.288525Z",
     "start_time": "2023-05-18T16:35:32.281393Z"
    }
   }
  },
  {
   "cell_type": "code",
   "execution_count": 61,
   "outputs": [
    {
     "data": {
      "text/plain": "       status aircraft.iataCode aircraft.icao24 aircraft.icaoCode  \\\n0    en-route              B738          A4794E              B738   \n1      landed              A319          A977D4              A319   \n2     started              A320          A3F133              A320   \n3    en-route              A321          A44E24              A321   \n4      landed              B712          AD3C27              B712   \n..        ...               ...             ...               ...   \n132  en-route              A20N          A42A91              A20N   \n133  en-route              A320          A89CCC              A320   \n134  en-route              C525          A6658D              C525   \n135  en-route              A333          4CAF9F              A333   \n136  en-route              A321          A39D95              A321   \n\n    aircraft.regNumber airline.iataCode airline.icaoCode arrival.iataCode  \\\n0               N388DA               DL              DAL              EWR   \n1               N709UW               AA              AAL              ORD   \n2               N353NW               DL              DAL              SAT   \n3               N377DN               DL              DAL              ONT   \n4               N952AT               DL              DAL              OMA   \n..                 ...              ...              ...              ...   \n132             N368FR               F9              FFT              ATL   \n133             N654NK               NK              NKS              ATL   \n134             N511EC                                                ATL   \n135             EI-HEC               D0              DHK              ATL   \n136             N332DN               DL              DAL              ATL   \n\n    arrival.icaoCode departure.iataCode  ... flight.number geography.altitude  \\\n0               KEWR                ATL  ...          2644            1813.56   \n1               KORD                ATL  ...          2893               0.00   \n2               KSAT                ATL  ...          1408               0.00   \n3               KONT                ATL  ...           306           10355.60   \n4               KOMA                ATL  ...          2816               0.00   \n..               ...                ...  ...           ...                ...   \n132             KATL                SAT  ...          2330           11285.20   \n133             KATL                DTW  ...          3901           10668.00   \n134             KATL                DXE  ...           XXF            1584.96   \n135             KATL                KEF  ...           300           11582.40   \n136             KATL                BOS  ...           297           10370.80   \n\n    geography.direction geography.latitude  geography.longitude  \\\n0                    11              40.65               -74.61   \n1                   202              41.98               -87.90   \n2                     2              33.64               -84.44   \n3                   269              33.47               -89.63   \n4                   253              41.30               -95.90   \n..                  ...                ...                  ...   \n132                  77              30.33               -92.11   \n133                 188              35.77               -83.07   \n134                  61              33.64               -84.85   \n135                 228              48.59               -69.17   \n136                 226              37.49               -79.68   \n\n     speed.horizontal  speed.isGround  speed.vspeed  system.squawk  \\\n0             492.632               0             0           None   \n1               0.000               1             0           None   \n2               5.556               1             0           None   \n3             796.360               0             0           None   \n4               0.000               1             0           None   \n..                ...             ...           ...            ...   \n132           838.956               0             0           None   \n133           796.360               0             0           None   \n134           424.108               0             0           None   \n135           916.740               0             0           None   \n136           774.136               0             0           None   \n\n     system.updated  \n0        1684422116  \n1        1684422072  \n2        1684422073  \n3        1684422374  \n4        1684421193  \n..              ...  \n132      1684421497  \n133      1684421762  \n134      1684422077  \n135      1684421498  \n136      1684422075  \n\n[318 rows x 23 columns]",
      "text/html": "<div>\n<style scoped>\n    .dataframe tbody tr th:only-of-type {\n        vertical-align: middle;\n    }\n\n    .dataframe tbody tr th {\n        vertical-align: top;\n    }\n\n    .dataframe thead th {\n        text-align: right;\n    }\n</style>\n<table border=\"1\" class=\"dataframe\">\n  <thead>\n    <tr style=\"text-align: right;\">\n      <th></th>\n      <th>status</th>\n      <th>aircraft.iataCode</th>\n      <th>aircraft.icao24</th>\n      <th>aircraft.icaoCode</th>\n      <th>aircraft.regNumber</th>\n      <th>airline.iataCode</th>\n      <th>airline.icaoCode</th>\n      <th>arrival.iataCode</th>\n      <th>arrival.icaoCode</th>\n      <th>departure.iataCode</th>\n      <th>...</th>\n      <th>flight.number</th>\n      <th>geography.altitude</th>\n      <th>geography.direction</th>\n      <th>geography.latitude</th>\n      <th>geography.longitude</th>\n      <th>speed.horizontal</th>\n      <th>speed.isGround</th>\n      <th>speed.vspeed</th>\n      <th>system.squawk</th>\n      <th>system.updated</th>\n    </tr>\n  </thead>\n  <tbody>\n    <tr>\n      <th>0</th>\n      <td>en-route</td>\n      <td>B738</td>\n      <td>A4794E</td>\n      <td>B738</td>\n      <td>N388DA</td>\n      <td>DL</td>\n      <td>DAL</td>\n      <td>EWR</td>\n      <td>KEWR</td>\n      <td>ATL</td>\n      <td>...</td>\n      <td>2644</td>\n      <td>1813.56</td>\n      <td>11</td>\n      <td>40.65</td>\n      <td>-74.61</td>\n      <td>492.632</td>\n      <td>0</td>\n      <td>0</td>\n      <td>None</td>\n      <td>1684422116</td>\n    </tr>\n    <tr>\n      <th>1</th>\n      <td>landed</td>\n      <td>A319</td>\n      <td>A977D4</td>\n      <td>A319</td>\n      <td>N709UW</td>\n      <td>AA</td>\n      <td>AAL</td>\n      <td>ORD</td>\n      <td>KORD</td>\n      <td>ATL</td>\n      <td>...</td>\n      <td>2893</td>\n      <td>0.00</td>\n      <td>202</td>\n      <td>41.98</td>\n      <td>-87.90</td>\n      <td>0.000</td>\n      <td>1</td>\n      <td>0</td>\n      <td>None</td>\n      <td>1684422072</td>\n    </tr>\n    <tr>\n      <th>2</th>\n      <td>started</td>\n      <td>A320</td>\n      <td>A3F133</td>\n      <td>A320</td>\n      <td>N353NW</td>\n      <td>DL</td>\n      <td>DAL</td>\n      <td>SAT</td>\n      <td>KSAT</td>\n      <td>ATL</td>\n      <td>...</td>\n      <td>1408</td>\n      <td>0.00</td>\n      <td>2</td>\n      <td>33.64</td>\n      <td>-84.44</td>\n      <td>5.556</td>\n      <td>1</td>\n      <td>0</td>\n      <td>None</td>\n      <td>1684422073</td>\n    </tr>\n    <tr>\n      <th>3</th>\n      <td>en-route</td>\n      <td>A321</td>\n      <td>A44E24</td>\n      <td>A321</td>\n      <td>N377DN</td>\n      <td>DL</td>\n      <td>DAL</td>\n      <td>ONT</td>\n      <td>KONT</td>\n      <td>ATL</td>\n      <td>...</td>\n      <td>306</td>\n      <td>10355.60</td>\n      <td>269</td>\n      <td>33.47</td>\n      <td>-89.63</td>\n      <td>796.360</td>\n      <td>0</td>\n      <td>0</td>\n      <td>None</td>\n      <td>1684422374</td>\n    </tr>\n    <tr>\n      <th>4</th>\n      <td>landed</td>\n      <td>B712</td>\n      <td>AD3C27</td>\n      <td>B712</td>\n      <td>N952AT</td>\n      <td>DL</td>\n      <td>DAL</td>\n      <td>OMA</td>\n      <td>KOMA</td>\n      <td>ATL</td>\n      <td>...</td>\n      <td>2816</td>\n      <td>0.00</td>\n      <td>253</td>\n      <td>41.30</td>\n      <td>-95.90</td>\n      <td>0.000</td>\n      <td>1</td>\n      <td>0</td>\n      <td>None</td>\n      <td>1684421193</td>\n    </tr>\n    <tr>\n      <th>...</th>\n      <td>...</td>\n      <td>...</td>\n      <td>...</td>\n      <td>...</td>\n      <td>...</td>\n      <td>...</td>\n      <td>...</td>\n      <td>...</td>\n      <td>...</td>\n      <td>...</td>\n      <td>...</td>\n      <td>...</td>\n      <td>...</td>\n      <td>...</td>\n      <td>...</td>\n      <td>...</td>\n      <td>...</td>\n      <td>...</td>\n      <td>...</td>\n      <td>...</td>\n      <td>...</td>\n    </tr>\n    <tr>\n      <th>132</th>\n      <td>en-route</td>\n      <td>A20N</td>\n      <td>A42A91</td>\n      <td>A20N</td>\n      <td>N368FR</td>\n      <td>F9</td>\n      <td>FFT</td>\n      <td>ATL</td>\n      <td>KATL</td>\n      <td>SAT</td>\n      <td>...</td>\n      <td>2330</td>\n      <td>11285.20</td>\n      <td>77</td>\n      <td>30.33</td>\n      <td>-92.11</td>\n      <td>838.956</td>\n      <td>0</td>\n      <td>0</td>\n      <td>None</td>\n      <td>1684421497</td>\n    </tr>\n    <tr>\n      <th>133</th>\n      <td>en-route</td>\n      <td>A320</td>\n      <td>A89CCC</td>\n      <td>A320</td>\n      <td>N654NK</td>\n      <td>NK</td>\n      <td>NKS</td>\n      <td>ATL</td>\n      <td>KATL</td>\n      <td>DTW</td>\n      <td>...</td>\n      <td>3901</td>\n      <td>10668.00</td>\n      <td>188</td>\n      <td>35.77</td>\n      <td>-83.07</td>\n      <td>796.360</td>\n      <td>0</td>\n      <td>0</td>\n      <td>None</td>\n      <td>1684421762</td>\n    </tr>\n    <tr>\n      <th>134</th>\n      <td>en-route</td>\n      <td>C525</td>\n      <td>A6658D</td>\n      <td>C525</td>\n      <td>N511EC</td>\n      <td></td>\n      <td></td>\n      <td>ATL</td>\n      <td>KATL</td>\n      <td>DXE</td>\n      <td>...</td>\n      <td>XXF</td>\n      <td>1584.96</td>\n      <td>61</td>\n      <td>33.64</td>\n      <td>-84.85</td>\n      <td>424.108</td>\n      <td>0</td>\n      <td>0</td>\n      <td>None</td>\n      <td>1684422077</td>\n    </tr>\n    <tr>\n      <th>135</th>\n      <td>en-route</td>\n      <td>A333</td>\n      <td>4CAF9F</td>\n      <td>A333</td>\n      <td>EI-HEC</td>\n      <td>D0</td>\n      <td>DHK</td>\n      <td>ATL</td>\n      <td>KATL</td>\n      <td>KEF</td>\n      <td>...</td>\n      <td>300</td>\n      <td>11582.40</td>\n      <td>228</td>\n      <td>48.59</td>\n      <td>-69.17</td>\n      <td>916.740</td>\n      <td>0</td>\n      <td>0</td>\n      <td>None</td>\n      <td>1684421498</td>\n    </tr>\n    <tr>\n      <th>136</th>\n      <td>en-route</td>\n      <td>A321</td>\n      <td>A39D95</td>\n      <td>A321</td>\n      <td>N332DN</td>\n      <td>DL</td>\n      <td>DAL</td>\n      <td>ATL</td>\n      <td>KATL</td>\n      <td>BOS</td>\n      <td>...</td>\n      <td>297</td>\n      <td>10370.80</td>\n      <td>226</td>\n      <td>37.49</td>\n      <td>-79.68</td>\n      <td>774.136</td>\n      <td>0</td>\n      <td>0</td>\n      <td>None</td>\n      <td>1684422075</td>\n    </tr>\n  </tbody>\n</table>\n<p>318 rows × 23 columns</p>\n</div>"
     },
     "execution_count": 61,
     "metadata": {},
     "output_type": "execute_result"
    }
   ],
   "source": [
    "df_real_time_flights"
   ],
   "metadata": {
    "collapsed": false,
    "ExecuteTime": {
     "end_time": "2023-05-18T16:35:32.764076Z",
     "start_time": "2023-05-18T16:35:32.760977Z"
    }
   }
  },
  {
   "cell_type": "code",
   "execution_count": 62,
   "outputs": [],
   "source": [
    "df_airports = pd.read_csv('./data/airports.csv')"
   ],
   "metadata": {
    "collapsed": false,
    "ExecuteTime": {
     "end_time": "2023-05-18T16:35:33.786507Z",
     "start_time": "2023-05-18T16:35:33.760663Z"
    }
   }
  },
  {
   "cell_type": "code",
   "execution_count": 63,
   "outputs": [],
   "source": [
    "df_airports_arrival = df_airports.rename(columns={\n",
    "    'airportId': 'arrival.airportId',\n",
    "    'codeIataAirport': 'arrival.iataCode',\n",
    "    'codeIataCity': 'arrival.codeIataCity',\n",
    "    'codeIcaoAirport': 'arrival.codeIcaoAirport',\n",
    "    'codeIso2Country': 'arrival.codeIso2Country',\n",
    "    'latitudeAirport': 'arrival.latitudeAirport',\n",
    "    'longitudeAirport': 'arrival.longitudeAirport',\n",
    "    'nameAirport': 'arrival.nameAirport',\n",
    "    'nameCountry': 'arrival.nameCountry',\n",
    "    'timezone': 'arrival.timezone'\n",
    "})\n",
    "\n",
    "df_airports_arrival = df_airports_arrival.drop(columns=['GMT', 'geonameId','phone'])\n"
   ],
   "metadata": {
    "collapsed": false,
    "ExecuteTime": {
     "end_time": "2023-05-18T16:35:33.965749Z",
     "start_time": "2023-05-18T16:35:33.962856Z"
    }
   }
  },
  {
   "cell_type": "code",
   "execution_count": 64,
   "outputs": [],
   "source": [
    "df_real_time_flights = pd.merge(df_real_time_flights, df_airports_arrival, how='left', on='arrival.iataCode')"
   ],
   "metadata": {
    "collapsed": false,
    "ExecuteTime": {
     "end_time": "2023-05-18T16:35:34.154371Z",
     "start_time": "2023-05-18T16:35:34.143674Z"
    }
   }
  },
  {
   "cell_type": "code",
   "execution_count": 65,
   "outputs": [],
   "source": [
    "df_airports_departure = df_airports.rename(columns={\n",
    "    'airportId': 'departure.airportId',\n",
    "    'codeIataAirport': 'departure.iataCode',\n",
    "    'codeIataCity': 'departure.codeIataCity',\n",
    "    'codeIcaoAirport': 'departure.codeIcaoAirport',\n",
    "    'codeIso2Country': 'departure.codeIso2Country',\n",
    "    'latitudeAirport': 'departure.latitudeAirport',\n",
    "    'longitudeAirport': 'departure.longitudeAirport',\n",
    "    'nameAirport': 'departure.nameAirport',\n",
    "    'nameCountry': 'departure.nameCountry',\n",
    "    'timezone': 'departure.timezone'\n",
    "})\n",
    "df_airports_departure = df_airports_departure.drop(columns=['GMT', 'geonameId','phone'])\n"
   ],
   "metadata": {
    "collapsed": false,
    "ExecuteTime": {
     "end_time": "2023-05-18T16:35:34.343935Z",
     "start_time": "2023-05-18T16:35:34.339430Z"
    }
   }
  },
  {
   "cell_type": "code",
   "execution_count": 66,
   "outputs": [
    {
     "data": {
      "text/plain": "       departure.airportId departure.iataCode departure.codeIataCity  \\\n0                        1                AAA                    AAA   \n1                        2                AAB                    AAB   \n2                        3                AAC                    AAC   \n3                        4                AAE                    AAE   \n4                        5                AAF                    AAF   \n...                    ...                ...                    ...   \n10279                10566                VKX                    NaN   \n10280                10567                WRN                    NaN   \n10281                10568                WXF                    NaN   \n10282                10569                XCD                    NaN   \n10283                10570                ZDY                    NaN   \n\n      departure.codeIcaoAirport departure.codeIso2Country  \\\n0                          NTGA                        PF   \n1                          YARY                        AU   \n2                          HEAR                        EG   \n3                          DABB                        DZ   \n4                          KAAF                        US   \n...                         ...                       ...   \n10279                      KVKX                        US   \n10280                      YWDG                        AU   \n10281                      EGVT                        GB   \n10282                      LFLH                        FR   \n10283              Dalma Island                        AE   \n\n       departure.latitudeAirport  departure.longitudeAirport  \\\n0                     -17.050000                 -145.416670   \n1                     -26.700000                  141.041670   \n2                      31.133333                   33.750000   \n3                      36.821392                    7.811857   \n4                      29.733334                  -84.983330   \n...                          ...                         ...   \n10279                  38.748642                  -76.955922   \n10280                 -30.031667                  119.390000   \n10281                  51.971901                    0.509444   \n10282                  46.826111                    4.817500   \n10283                  24.503383                   52.336053   \n\n                 departure.nameAirport departure.nameCountry  \\\n0                                 Anaa      French Polynesia   \n1                             Arrabury             Australia   \n2       El Arish International Airport                 Egypt   \n3                          Les Salines                   NaN   \n4                Apalachicola Regional         United States   \n...                                ...                   ...   \n10279                 Potomac Airfield         United States   \n10280               Windarling Airport             Australia   \n10281             Wethersfield Airport        United Kingdom   \n10282  Chalon – Champforgeuil Airfield                France   \n10283                    Dalma Airport  United Arab Emirates   \n\n       departure.timezone  \n0          Pacific/Tahiti  \n1      Australia/Brisbane  \n2            Africa/Cairo  \n3          Africa/Algiers  \n4        America/New_York  \n...                   ...  \n10279                 NaN  \n10280                 NaN  \n10281                 NaN  \n10282                 NaN  \n10283                 NaN  \n\n[10284 rows x 10 columns]",
      "text/html": "<div>\n<style scoped>\n    .dataframe tbody tr th:only-of-type {\n        vertical-align: middle;\n    }\n\n    .dataframe tbody tr th {\n        vertical-align: top;\n    }\n\n    .dataframe thead th {\n        text-align: right;\n    }\n</style>\n<table border=\"1\" class=\"dataframe\">\n  <thead>\n    <tr style=\"text-align: right;\">\n      <th></th>\n      <th>departure.airportId</th>\n      <th>departure.iataCode</th>\n      <th>departure.codeIataCity</th>\n      <th>departure.codeIcaoAirport</th>\n      <th>departure.codeIso2Country</th>\n      <th>departure.latitudeAirport</th>\n      <th>departure.longitudeAirport</th>\n      <th>departure.nameAirport</th>\n      <th>departure.nameCountry</th>\n      <th>departure.timezone</th>\n    </tr>\n  </thead>\n  <tbody>\n    <tr>\n      <th>0</th>\n      <td>1</td>\n      <td>AAA</td>\n      <td>AAA</td>\n      <td>NTGA</td>\n      <td>PF</td>\n      <td>-17.050000</td>\n      <td>-145.416670</td>\n      <td>Anaa</td>\n      <td>French Polynesia</td>\n      <td>Pacific/Tahiti</td>\n    </tr>\n    <tr>\n      <th>1</th>\n      <td>2</td>\n      <td>AAB</td>\n      <td>AAB</td>\n      <td>YARY</td>\n      <td>AU</td>\n      <td>-26.700000</td>\n      <td>141.041670</td>\n      <td>Arrabury</td>\n      <td>Australia</td>\n      <td>Australia/Brisbane</td>\n    </tr>\n    <tr>\n      <th>2</th>\n      <td>3</td>\n      <td>AAC</td>\n      <td>AAC</td>\n      <td>HEAR</td>\n      <td>EG</td>\n      <td>31.133333</td>\n      <td>33.750000</td>\n      <td>El Arish International Airport</td>\n      <td>Egypt</td>\n      <td>Africa/Cairo</td>\n    </tr>\n    <tr>\n      <th>3</th>\n      <td>4</td>\n      <td>AAE</td>\n      <td>AAE</td>\n      <td>DABB</td>\n      <td>DZ</td>\n      <td>36.821392</td>\n      <td>7.811857</td>\n      <td>Les Salines</td>\n      <td>NaN</td>\n      <td>Africa/Algiers</td>\n    </tr>\n    <tr>\n      <th>4</th>\n      <td>5</td>\n      <td>AAF</td>\n      <td>AAF</td>\n      <td>KAAF</td>\n      <td>US</td>\n      <td>29.733334</td>\n      <td>-84.983330</td>\n      <td>Apalachicola Regional</td>\n      <td>United States</td>\n      <td>America/New_York</td>\n    </tr>\n    <tr>\n      <th>...</th>\n      <td>...</td>\n      <td>...</td>\n      <td>...</td>\n      <td>...</td>\n      <td>...</td>\n      <td>...</td>\n      <td>...</td>\n      <td>...</td>\n      <td>...</td>\n      <td>...</td>\n    </tr>\n    <tr>\n      <th>10279</th>\n      <td>10566</td>\n      <td>VKX</td>\n      <td>NaN</td>\n      <td>KVKX</td>\n      <td>US</td>\n      <td>38.748642</td>\n      <td>-76.955922</td>\n      <td>Potomac Airfield</td>\n      <td>United States</td>\n      <td>NaN</td>\n    </tr>\n    <tr>\n      <th>10280</th>\n      <td>10567</td>\n      <td>WRN</td>\n      <td>NaN</td>\n      <td>YWDG</td>\n      <td>AU</td>\n      <td>-30.031667</td>\n      <td>119.390000</td>\n      <td>Windarling Airport</td>\n      <td>Australia</td>\n      <td>NaN</td>\n    </tr>\n    <tr>\n      <th>10281</th>\n      <td>10568</td>\n      <td>WXF</td>\n      <td>NaN</td>\n      <td>EGVT</td>\n      <td>GB</td>\n      <td>51.971901</td>\n      <td>0.509444</td>\n      <td>Wethersfield Airport</td>\n      <td>United Kingdom</td>\n      <td>NaN</td>\n    </tr>\n    <tr>\n      <th>10282</th>\n      <td>10569</td>\n      <td>XCD</td>\n      <td>NaN</td>\n      <td>LFLH</td>\n      <td>FR</td>\n      <td>46.826111</td>\n      <td>4.817500</td>\n      <td>Chalon – Champforgeuil Airfield</td>\n      <td>France</td>\n      <td>NaN</td>\n    </tr>\n    <tr>\n      <th>10283</th>\n      <td>10570</td>\n      <td>ZDY</td>\n      <td>NaN</td>\n      <td>Dalma Island</td>\n      <td>AE</td>\n      <td>24.503383</td>\n      <td>52.336053</td>\n      <td>Dalma Airport</td>\n      <td>United Arab Emirates</td>\n      <td>NaN</td>\n    </tr>\n  </tbody>\n</table>\n<p>10284 rows × 10 columns</p>\n</div>"
     },
     "execution_count": 66,
     "metadata": {},
     "output_type": "execute_result"
    }
   ],
   "source": [
    "df_airports_departure"
   ],
   "metadata": {
    "collapsed": false,
    "ExecuteTime": {
     "end_time": "2023-05-18T16:35:34.556102Z",
     "start_time": "2023-05-18T16:35:34.550034Z"
    }
   }
  },
  {
   "cell_type": "code",
   "execution_count": 67,
   "outputs": [],
   "source": [
    "df_real_time_flights = pd.merge(df_real_time_flights, df_airports_departure, how='left', on='departure.iataCode')"
   ],
   "metadata": {
    "collapsed": false,
    "ExecuteTime": {
     "end_time": "2023-05-18T16:35:34.746432Z",
     "start_time": "2023-05-18T16:35:34.738940Z"
    }
   }
  },
  {
   "cell_type": "code",
   "execution_count": 68,
   "outputs": [
    {
     "data": {
      "text/plain": "       status aircraft.iataCode aircraft.icao24 aircraft.icaoCode  \\\n0    en-route              B738          A4794E              B738   \n1      landed              A319          A977D4              A319   \n2     started              A320          A3F133              A320   \n3    en-route              A321          A44E24              A321   \n4      landed              B712          AD3C27              B712   \n..        ...               ...             ...               ...   \n313  en-route              A20N          A42A91              A20N   \n314  en-route              A320          A89CCC              A320   \n315  en-route              C525          A6658D              C525   \n316  en-route              A333          4CAF9F              A333   \n317  en-route              A321          A39D95              A321   \n\n    aircraft.regNumber airline.iataCode airline.icaoCode arrival.iataCode  \\\n0               N388DA               DL              DAL              EWR   \n1               N709UW               AA              AAL              ORD   \n2               N353NW               DL              DAL              SAT   \n3               N377DN               DL              DAL              ONT   \n4               N952AT               DL              DAL              OMA   \n..                 ...              ...              ...              ...   \n313             N368FR               F9              FFT              ATL   \n314             N654NK               NK              NKS              ATL   \n315             N511EC                                                ATL   \n316             EI-HEC               D0              DHK              ATL   \n317             N332DN               DL              DAL              ATL   \n\n    arrival.icaoCode departure.iataCode  ...     arrival.timezone  \\\n0               KEWR                ATL  ...     America/New_York   \n1               KORD                ATL  ...      America/Chicago   \n2               KSAT                ATL  ...      America/Chicago   \n3               KONT                ATL  ...  America/Los_Angeles   \n4               KOMA                ATL  ...      America/Chicago   \n..               ...                ...  ...                  ...   \n313             KATL                SAT  ...     America/New_York   \n314             KATL                DTW  ...     America/New_York   \n315             KATL                DXE  ...     America/New_York   \n316             KATL                KEF  ...     America/New_York   \n317             KATL                BOS  ...     America/New_York   \n\n    departure.airportId departure.codeIataCity departure.codeIcaoAirport  \\\n0                   411                    ATL                      KATL   \n1                   411                    ATL                      KATL   \n2                   411                    ATL                      KATL   \n3                   411                    ATL                      KATL   \n4                   411                    ATL                      KATL   \n..                  ...                    ...                       ...   \n313                6925                    SAT                      KSAT   \n314                1936                    DTT                      KDTW   \n315               10370                    NaN                      KMBO   \n316                3765                    REK                      BIKF   \n317                 876                    BOS                      KBOS   \n\n     departure.codeIso2Country  departure.latitudeAirport  \\\n0                           US                  33.640068   \n1                           US                  33.640068   \n2                           US                  33.640068   \n3                           US                  33.640068   \n4                           US                  33.640068   \n..                         ...                        ...   \n313                         US                  29.524937   \n314                         US                  42.207810   \n315                         US                        NaN   \n316                         IS                  63.997765   \n317                         US                  42.366460   \n\n     departure.longitudeAirport                     departure.nameAirport  \\\n0                    -84.444030  Hartsfield-jackson Atlanta International   \n1                    -84.444030  Hartsfield-jackson Atlanta International   \n2                    -84.444030  Hartsfield-jackson Atlanta International   \n3                    -84.444030  Hartsfield-jackson Atlanta International   \n4                    -84.444030  Hartsfield-jackson Atlanta International   \n..                          ...                                       ...   \n313                  -98.472640                 San Antonio International   \n314                  -83.356050         Detroit Metropolitan Wayne County   \n315                         NaN                      Bruce Campbell Field   \n316                  -22.624283                    Keflavik International   \n317                  -71.020180                       Logan International   \n\n     departure.nameCountry  departure.timezone  \n0            United States    America/New_York  \n1            United States    America/New_York  \n2            United States    America/New_York  \n3            United States    America/New_York  \n4            United States    America/New_York  \n..                     ...                 ...  \n313          United States     America/Chicago  \n314          United States     America/Detroit  \n315      United States\\r\\n                 NaN  \n316                Iceland  Atlantic/Reykjavik  \n317          United States    America/New_York  \n\n[318 rows x 41 columns]",
      "text/html": "<div>\n<style scoped>\n    .dataframe tbody tr th:only-of-type {\n        vertical-align: middle;\n    }\n\n    .dataframe tbody tr th {\n        vertical-align: top;\n    }\n\n    .dataframe thead th {\n        text-align: right;\n    }\n</style>\n<table border=\"1\" class=\"dataframe\">\n  <thead>\n    <tr style=\"text-align: right;\">\n      <th></th>\n      <th>status</th>\n      <th>aircraft.iataCode</th>\n      <th>aircraft.icao24</th>\n      <th>aircraft.icaoCode</th>\n      <th>aircraft.regNumber</th>\n      <th>airline.iataCode</th>\n      <th>airline.icaoCode</th>\n      <th>arrival.iataCode</th>\n      <th>arrival.icaoCode</th>\n      <th>departure.iataCode</th>\n      <th>...</th>\n      <th>arrival.timezone</th>\n      <th>departure.airportId</th>\n      <th>departure.codeIataCity</th>\n      <th>departure.codeIcaoAirport</th>\n      <th>departure.codeIso2Country</th>\n      <th>departure.latitudeAirport</th>\n      <th>departure.longitudeAirport</th>\n      <th>departure.nameAirport</th>\n      <th>departure.nameCountry</th>\n      <th>departure.timezone</th>\n    </tr>\n  </thead>\n  <tbody>\n    <tr>\n      <th>0</th>\n      <td>en-route</td>\n      <td>B738</td>\n      <td>A4794E</td>\n      <td>B738</td>\n      <td>N388DA</td>\n      <td>DL</td>\n      <td>DAL</td>\n      <td>EWR</td>\n      <td>KEWR</td>\n      <td>ATL</td>\n      <td>...</td>\n      <td>America/New_York</td>\n      <td>411</td>\n      <td>ATL</td>\n      <td>KATL</td>\n      <td>US</td>\n      <td>33.640068</td>\n      <td>-84.444030</td>\n      <td>Hartsfield-jackson Atlanta International</td>\n      <td>United States</td>\n      <td>America/New_York</td>\n    </tr>\n    <tr>\n      <th>1</th>\n      <td>landed</td>\n      <td>A319</td>\n      <td>A977D4</td>\n      <td>A319</td>\n      <td>N709UW</td>\n      <td>AA</td>\n      <td>AAL</td>\n      <td>ORD</td>\n      <td>KORD</td>\n      <td>ATL</td>\n      <td>...</td>\n      <td>America/Chicago</td>\n      <td>411</td>\n      <td>ATL</td>\n      <td>KATL</td>\n      <td>US</td>\n      <td>33.640068</td>\n      <td>-84.444030</td>\n      <td>Hartsfield-jackson Atlanta International</td>\n      <td>United States</td>\n      <td>America/New_York</td>\n    </tr>\n    <tr>\n      <th>2</th>\n      <td>started</td>\n      <td>A320</td>\n      <td>A3F133</td>\n      <td>A320</td>\n      <td>N353NW</td>\n      <td>DL</td>\n      <td>DAL</td>\n      <td>SAT</td>\n      <td>KSAT</td>\n      <td>ATL</td>\n      <td>...</td>\n      <td>America/Chicago</td>\n      <td>411</td>\n      <td>ATL</td>\n      <td>KATL</td>\n      <td>US</td>\n      <td>33.640068</td>\n      <td>-84.444030</td>\n      <td>Hartsfield-jackson Atlanta International</td>\n      <td>United States</td>\n      <td>America/New_York</td>\n    </tr>\n    <tr>\n      <th>3</th>\n      <td>en-route</td>\n      <td>A321</td>\n      <td>A44E24</td>\n      <td>A321</td>\n      <td>N377DN</td>\n      <td>DL</td>\n      <td>DAL</td>\n      <td>ONT</td>\n      <td>KONT</td>\n      <td>ATL</td>\n      <td>...</td>\n      <td>America/Los_Angeles</td>\n      <td>411</td>\n      <td>ATL</td>\n      <td>KATL</td>\n      <td>US</td>\n      <td>33.640068</td>\n      <td>-84.444030</td>\n      <td>Hartsfield-jackson Atlanta International</td>\n      <td>United States</td>\n      <td>America/New_York</td>\n    </tr>\n    <tr>\n      <th>4</th>\n      <td>landed</td>\n      <td>B712</td>\n      <td>AD3C27</td>\n      <td>B712</td>\n      <td>N952AT</td>\n      <td>DL</td>\n      <td>DAL</td>\n      <td>OMA</td>\n      <td>KOMA</td>\n      <td>ATL</td>\n      <td>...</td>\n      <td>America/Chicago</td>\n      <td>411</td>\n      <td>ATL</td>\n      <td>KATL</td>\n      <td>US</td>\n      <td>33.640068</td>\n      <td>-84.444030</td>\n      <td>Hartsfield-jackson Atlanta International</td>\n      <td>United States</td>\n      <td>America/New_York</td>\n    </tr>\n    <tr>\n      <th>...</th>\n      <td>...</td>\n      <td>...</td>\n      <td>...</td>\n      <td>...</td>\n      <td>...</td>\n      <td>...</td>\n      <td>...</td>\n      <td>...</td>\n      <td>...</td>\n      <td>...</td>\n      <td>...</td>\n      <td>...</td>\n      <td>...</td>\n      <td>...</td>\n      <td>...</td>\n      <td>...</td>\n      <td>...</td>\n      <td>...</td>\n      <td>...</td>\n      <td>...</td>\n      <td>...</td>\n    </tr>\n    <tr>\n      <th>313</th>\n      <td>en-route</td>\n      <td>A20N</td>\n      <td>A42A91</td>\n      <td>A20N</td>\n      <td>N368FR</td>\n      <td>F9</td>\n      <td>FFT</td>\n      <td>ATL</td>\n      <td>KATL</td>\n      <td>SAT</td>\n      <td>...</td>\n      <td>America/New_York</td>\n      <td>6925</td>\n      <td>SAT</td>\n      <td>KSAT</td>\n      <td>US</td>\n      <td>29.524937</td>\n      <td>-98.472640</td>\n      <td>San Antonio International</td>\n      <td>United States</td>\n      <td>America/Chicago</td>\n    </tr>\n    <tr>\n      <th>314</th>\n      <td>en-route</td>\n      <td>A320</td>\n      <td>A89CCC</td>\n      <td>A320</td>\n      <td>N654NK</td>\n      <td>NK</td>\n      <td>NKS</td>\n      <td>ATL</td>\n      <td>KATL</td>\n      <td>DTW</td>\n      <td>...</td>\n      <td>America/New_York</td>\n      <td>1936</td>\n      <td>DTT</td>\n      <td>KDTW</td>\n      <td>US</td>\n      <td>42.207810</td>\n      <td>-83.356050</td>\n      <td>Detroit Metropolitan Wayne County</td>\n      <td>United States</td>\n      <td>America/Detroit</td>\n    </tr>\n    <tr>\n      <th>315</th>\n      <td>en-route</td>\n      <td>C525</td>\n      <td>A6658D</td>\n      <td>C525</td>\n      <td>N511EC</td>\n      <td></td>\n      <td></td>\n      <td>ATL</td>\n      <td>KATL</td>\n      <td>DXE</td>\n      <td>...</td>\n      <td>America/New_York</td>\n      <td>10370</td>\n      <td>NaN</td>\n      <td>KMBO</td>\n      <td>US</td>\n      <td>NaN</td>\n      <td>NaN</td>\n      <td>Bruce Campbell Field</td>\n      <td>United States\\r\\n</td>\n      <td>NaN</td>\n    </tr>\n    <tr>\n      <th>316</th>\n      <td>en-route</td>\n      <td>A333</td>\n      <td>4CAF9F</td>\n      <td>A333</td>\n      <td>EI-HEC</td>\n      <td>D0</td>\n      <td>DHK</td>\n      <td>ATL</td>\n      <td>KATL</td>\n      <td>KEF</td>\n      <td>...</td>\n      <td>America/New_York</td>\n      <td>3765</td>\n      <td>REK</td>\n      <td>BIKF</td>\n      <td>IS</td>\n      <td>63.997765</td>\n      <td>-22.624283</td>\n      <td>Keflavik International</td>\n      <td>Iceland</td>\n      <td>Atlantic/Reykjavik</td>\n    </tr>\n    <tr>\n      <th>317</th>\n      <td>en-route</td>\n      <td>A321</td>\n      <td>A39D95</td>\n      <td>A321</td>\n      <td>N332DN</td>\n      <td>DL</td>\n      <td>DAL</td>\n      <td>ATL</td>\n      <td>KATL</td>\n      <td>BOS</td>\n      <td>...</td>\n      <td>America/New_York</td>\n      <td>876</td>\n      <td>BOS</td>\n      <td>KBOS</td>\n      <td>US</td>\n      <td>42.366460</td>\n      <td>-71.020180</td>\n      <td>Logan International</td>\n      <td>United States</td>\n      <td>America/New_York</td>\n    </tr>\n  </tbody>\n</table>\n<p>318 rows × 41 columns</p>\n</div>"
     },
     "execution_count": 68,
     "metadata": {},
     "output_type": "execute_result"
    }
   ],
   "source": [
    "df_real_time_flights"
   ],
   "metadata": {
    "collapsed": false,
    "ExecuteTime": {
     "end_time": "2023-05-18T16:35:35.390207Z",
     "start_time": "2023-05-18T16:35:35.386780Z"
    }
   }
  },
  {
   "cell_type": "code",
   "execution_count": 69,
   "outputs": [
    {
     "data": {
      "text/plain": "      ageFleet  airlineId        callsign codeHub airline.iataCode  \\\n0         10.9          1        AMERICAN     DFW               AA   \n1         17.0          2           DELTA     ATL               DL   \n2         13.8          3          UNITED     ORD               UA   \n3         12.3          4       SOUTHWEST     DAL               WN   \n4          6.9          5  CHINA SOUTHERN     CAN               CZ   \n...        ...        ...             ...     ...              ...   \n3955       0.0       3957             NaN     YQB               ZX   \n3956       0.0       3958        AIRCOACH     NaN               ZX   \n3957       0.0       3959         FLYZOOM     GLA               ZX   \n3958       0.0       3960         ADA AIR     TIA               ZY   \n3959       0.0       3961    ANTALYA BIRD     AYT               ZY   \n\n     airline.icaoCode codeIso2Country  founding  iataPrefixAccounting  \\\n0                 AAL              US      1934                   1.0   \n1                 DAL              US      1928                   6.0   \n2                 UAL              US      1931                  16.0   \n3                 SWA              UM      1967                 526.0   \n4                 CSN              CN      2004                 784.0   \n...               ...             ...       ...                   ...   \n3955              AAQ              CA         0                   NaN   \n3956              ABL              CA         0                 742.0   \n3957              UKZ              UK         0                   NaN   \n3958              ADE              AL         0                 121.0   \n3959              SHY              TR         0                   NaN   \n\n                  nameAirline                           nameCountry  \\\n0           American Airlines                         United States   \n1             Delta Air Lines                         United States   \n2             United Airlines                         United States   \n3      Southwest Airlines Co.  United States Minor Outlying Islands   \n4     China Southern Airlines                                 China   \n...                       ...                                   ...   \n3955    Air Alliance (Canada)                                Canada   \n3956                 Air B.C.                                Canada   \n3957            Zoom Airlines                        United Kingdom   \n3958                  Ada Air                               Albania   \n3959             Sky Airlines                                Turkey   \n\n      sizeAirline statusAirline                type  \n0             963        active           scheduled  \n1             823        active  scheduled,division  \n2             715        active  scheduled,division  \n3             712        active           scheduled  \n4             498        active           scheduled  \n...           ...           ...                 ...  \n3955            0        merged           scheduled  \n3956            0    historical                 NaN  \n3957            0    historical             charter  \n3958            0    historical           scheduled  \n3959            0        active           scheduled  \n\n[2789 rows x 14 columns]",
      "text/html": "<div>\n<style scoped>\n    .dataframe tbody tr th:only-of-type {\n        vertical-align: middle;\n    }\n\n    .dataframe tbody tr th {\n        vertical-align: top;\n    }\n\n    .dataframe thead th {\n        text-align: right;\n    }\n</style>\n<table border=\"1\" class=\"dataframe\">\n  <thead>\n    <tr style=\"text-align: right;\">\n      <th></th>\n      <th>ageFleet</th>\n      <th>airlineId</th>\n      <th>callsign</th>\n      <th>codeHub</th>\n      <th>airline.iataCode</th>\n      <th>airline.icaoCode</th>\n      <th>codeIso2Country</th>\n      <th>founding</th>\n      <th>iataPrefixAccounting</th>\n      <th>nameAirline</th>\n      <th>nameCountry</th>\n      <th>sizeAirline</th>\n      <th>statusAirline</th>\n      <th>type</th>\n    </tr>\n  </thead>\n  <tbody>\n    <tr>\n      <th>0</th>\n      <td>10.9</td>\n      <td>1</td>\n      <td>AMERICAN</td>\n      <td>DFW</td>\n      <td>AA</td>\n      <td>AAL</td>\n      <td>US</td>\n      <td>1934</td>\n      <td>1.0</td>\n      <td>American Airlines</td>\n      <td>United States</td>\n      <td>963</td>\n      <td>active</td>\n      <td>scheduled</td>\n    </tr>\n    <tr>\n      <th>1</th>\n      <td>17.0</td>\n      <td>2</td>\n      <td>DELTA</td>\n      <td>ATL</td>\n      <td>DL</td>\n      <td>DAL</td>\n      <td>US</td>\n      <td>1928</td>\n      <td>6.0</td>\n      <td>Delta Air Lines</td>\n      <td>United States</td>\n      <td>823</td>\n      <td>active</td>\n      <td>scheduled,division</td>\n    </tr>\n    <tr>\n      <th>2</th>\n      <td>13.8</td>\n      <td>3</td>\n      <td>UNITED</td>\n      <td>ORD</td>\n      <td>UA</td>\n      <td>UAL</td>\n      <td>US</td>\n      <td>1931</td>\n      <td>16.0</td>\n      <td>United Airlines</td>\n      <td>United States</td>\n      <td>715</td>\n      <td>active</td>\n      <td>scheduled,division</td>\n    </tr>\n    <tr>\n      <th>3</th>\n      <td>12.3</td>\n      <td>4</td>\n      <td>SOUTHWEST</td>\n      <td>DAL</td>\n      <td>WN</td>\n      <td>SWA</td>\n      <td>UM</td>\n      <td>1967</td>\n      <td>526.0</td>\n      <td>Southwest Airlines Co.</td>\n      <td>United States Minor Outlying Islands</td>\n      <td>712</td>\n      <td>active</td>\n      <td>scheduled</td>\n    </tr>\n    <tr>\n      <th>4</th>\n      <td>6.9</td>\n      <td>5</td>\n      <td>CHINA SOUTHERN</td>\n      <td>CAN</td>\n      <td>CZ</td>\n      <td>CSN</td>\n      <td>CN</td>\n      <td>2004</td>\n      <td>784.0</td>\n      <td>China Southern Airlines</td>\n      <td>China</td>\n      <td>498</td>\n      <td>active</td>\n      <td>scheduled</td>\n    </tr>\n    <tr>\n      <th>...</th>\n      <td>...</td>\n      <td>...</td>\n      <td>...</td>\n      <td>...</td>\n      <td>...</td>\n      <td>...</td>\n      <td>...</td>\n      <td>...</td>\n      <td>...</td>\n      <td>...</td>\n      <td>...</td>\n      <td>...</td>\n      <td>...</td>\n      <td>...</td>\n    </tr>\n    <tr>\n      <th>3955</th>\n      <td>0.0</td>\n      <td>3957</td>\n      <td>NaN</td>\n      <td>YQB</td>\n      <td>ZX</td>\n      <td>AAQ</td>\n      <td>CA</td>\n      <td>0</td>\n      <td>NaN</td>\n      <td>Air Alliance (Canada)</td>\n      <td>Canada</td>\n      <td>0</td>\n      <td>merged</td>\n      <td>scheduled</td>\n    </tr>\n    <tr>\n      <th>3956</th>\n      <td>0.0</td>\n      <td>3958</td>\n      <td>AIRCOACH</td>\n      <td>NaN</td>\n      <td>ZX</td>\n      <td>ABL</td>\n      <td>CA</td>\n      <td>0</td>\n      <td>742.0</td>\n      <td>Air B.C.</td>\n      <td>Canada</td>\n      <td>0</td>\n      <td>historical</td>\n      <td>NaN</td>\n    </tr>\n    <tr>\n      <th>3957</th>\n      <td>0.0</td>\n      <td>3959</td>\n      <td>FLYZOOM</td>\n      <td>GLA</td>\n      <td>ZX</td>\n      <td>UKZ</td>\n      <td>UK</td>\n      <td>0</td>\n      <td>NaN</td>\n      <td>Zoom Airlines</td>\n      <td>United Kingdom</td>\n      <td>0</td>\n      <td>historical</td>\n      <td>charter</td>\n    </tr>\n    <tr>\n      <th>3958</th>\n      <td>0.0</td>\n      <td>3960</td>\n      <td>ADA AIR</td>\n      <td>TIA</td>\n      <td>ZY</td>\n      <td>ADE</td>\n      <td>AL</td>\n      <td>0</td>\n      <td>121.0</td>\n      <td>Ada Air</td>\n      <td>Albania</td>\n      <td>0</td>\n      <td>historical</td>\n      <td>scheduled</td>\n    </tr>\n    <tr>\n      <th>3959</th>\n      <td>0.0</td>\n      <td>3961</td>\n      <td>ANTALYA BIRD</td>\n      <td>AYT</td>\n      <td>ZY</td>\n      <td>SHY</td>\n      <td>TR</td>\n      <td>0</td>\n      <td>NaN</td>\n      <td>Sky Airlines</td>\n      <td>Turkey</td>\n      <td>0</td>\n      <td>active</td>\n      <td>scheduled</td>\n    </tr>\n  </tbody>\n</table>\n<p>2789 rows × 14 columns</p>\n</div>"
     },
     "execution_count": 69,
     "metadata": {},
     "output_type": "execute_result"
    }
   ],
   "source": [
    "df_airlines = pd.read_csv('./data/airlines.csv')\n",
    "df_airlines = df_airlines.rename(columns={\n",
    "    'codeIataAirline': 'airline.iataCode',\n",
    "    'codeIcaoAirline': 'airline.icaoCode'})\n",
    "df_airlines = df_airlines.dropna(subset=['airline.iataCode', 'airline.icaoCode'])\n",
    "df_airlines"
   ],
   "metadata": {
    "collapsed": false,
    "ExecuteTime": {
     "end_time": "2023-05-18T16:35:36.294972Z",
     "start_time": "2023-05-18T16:35:36.248862Z"
    }
   }
  },
  {
   "cell_type": "code",
   "execution_count": 70,
   "outputs": [],
   "source": [
    "df_real_time_flights = pd.merge(df_real_time_flights, df_airlines, how='left',\n",
    "                                left_on=['airline.iataCode', 'airline.icaoCode'],\n",
    "                                right_on=['airline.iataCode', 'airline.icaoCode'])\n"
   ],
   "metadata": {
    "collapsed": false,
    "ExecuteTime": {
     "end_time": "2023-05-18T16:35:36.964399Z",
     "start_time": "2023-05-18T16:35:36.955411Z"
    }
   }
  },
  {
   "cell_type": "code",
   "execution_count": 71,
   "outputs": [
    {
     "data": {
      "text/plain": "       status aircraft.iataCode aircraft.icao24 aircraft.icaoCode  \\\n0    en-route              B738          A4794E              B738   \n1      landed              A319          A977D4              A319   \n2     started              A320          A3F133              A320   \n3    en-route              A321          A44E24              A321   \n4      landed              B712          AD3C27              B712   \n..        ...               ...             ...               ...   \n313  en-route              A20N          A42A91              A20N   \n314  en-route              A320          A89CCC              A320   \n315  en-route              C525          A6658D              C525   \n316  en-route              A333          4CAF9F              A333   \n317  en-route              A321          A39D95              A321   \n\n    aircraft.regNumber airline.iataCode airline.icaoCode arrival.iataCode  \\\n0               N388DA               DL              DAL              EWR   \n1               N709UW               AA              AAL              ORD   \n2               N353NW               DL              DAL              SAT   \n3               N377DN               DL              DAL              ONT   \n4               N952AT               DL              DAL              OMA   \n..                 ...              ...              ...              ...   \n313             N368FR               F9              FFT              ATL   \n314             N654NK               NK              NKS              ATL   \n315             N511EC                                                ATL   \n316             EI-HEC               D0              DHK              ATL   \n317             N332DN               DL              DAL              ATL   \n\n    arrival.icaoCode departure.iataCode  ...         callsign codeHub  \\\n0               KEWR                ATL  ...            DELTA     ATL   \n1               KORD                ATL  ...         AMERICAN     DFW   \n2               KSAT                ATL  ...            DELTA     ATL   \n3               KONT                ATL  ...            DELTA     ATL   \n4               KOMA                ATL  ...            DELTA     ATL   \n..               ...                ...  ...              ...     ...   \n313             KATL                SAT  ...  FRONTIER FLIGHT     DEN   \n314             KATL                DTW  ...     SPIRIT WINGS     FLL   \n315             KATL                DXE  ...              NaN     NaN   \n316             KATL                KEF  ...    WORLD EXPRESS     EMA   \n317             KATL                BOS  ...            DELTA     ATL   \n\n    codeIso2Country founding  iataPrefixAccounting              nameAirline  \\\n0                US   1928.0                   6.0          Delta Air Lines   \n1                US   1934.0                   1.0        American Airlines   \n2                US   1928.0                   6.0          Delta Air Lines   \n3                US   1928.0                   6.0          Delta Air Lines   \n4                US   1928.0                   6.0          Delta Air Lines   \n..              ...      ...                   ...                      ...   \n313              UM   1994.0                 422.0  Frontier Airlines, Inc.   \n314              UM   1980.0                 487.0          Spirit Airlines   \n315             NaN      NaN                   NaN                      NaN   \n316              GB      0.0                 936.0                  DHL Air   \n317              US   1928.0                   6.0          Delta Air Lines   \n\n                              nameCountry  sizeAirline  statusAirline  \\\n0                           United States        823.0         active   \n1                           United States        963.0         active   \n2                           United States        823.0         active   \n3                           United States        823.0         active   \n4                           United States        823.0         active   \n..                                    ...          ...            ...   \n313  United States Minor Outlying Islands         58.0         active   \n314  United States Minor Outlying Islands         84.0         active   \n315                                   NaN          NaN            NaN   \n316                        United Kingdom         29.0         active   \n317                         United States        823.0         active   \n\n                   type  \n0    scheduled,division  \n1             scheduled  \n2    scheduled,division  \n3    scheduled,division  \n4    scheduled,division  \n..                  ...  \n313           scheduled  \n314           scheduled  \n315                 NaN  \n316     scheduled,cargo  \n317  scheduled,division  \n\n[318 rows x 53 columns]",
      "text/html": "<div>\n<style scoped>\n    .dataframe tbody tr th:only-of-type {\n        vertical-align: middle;\n    }\n\n    .dataframe tbody tr th {\n        vertical-align: top;\n    }\n\n    .dataframe thead th {\n        text-align: right;\n    }\n</style>\n<table border=\"1\" class=\"dataframe\">\n  <thead>\n    <tr style=\"text-align: right;\">\n      <th></th>\n      <th>status</th>\n      <th>aircraft.iataCode</th>\n      <th>aircraft.icao24</th>\n      <th>aircraft.icaoCode</th>\n      <th>aircraft.regNumber</th>\n      <th>airline.iataCode</th>\n      <th>airline.icaoCode</th>\n      <th>arrival.iataCode</th>\n      <th>arrival.icaoCode</th>\n      <th>departure.iataCode</th>\n      <th>...</th>\n      <th>callsign</th>\n      <th>codeHub</th>\n      <th>codeIso2Country</th>\n      <th>founding</th>\n      <th>iataPrefixAccounting</th>\n      <th>nameAirline</th>\n      <th>nameCountry</th>\n      <th>sizeAirline</th>\n      <th>statusAirline</th>\n      <th>type</th>\n    </tr>\n  </thead>\n  <tbody>\n    <tr>\n      <th>0</th>\n      <td>en-route</td>\n      <td>B738</td>\n      <td>A4794E</td>\n      <td>B738</td>\n      <td>N388DA</td>\n      <td>DL</td>\n      <td>DAL</td>\n      <td>EWR</td>\n      <td>KEWR</td>\n      <td>ATL</td>\n      <td>...</td>\n      <td>DELTA</td>\n      <td>ATL</td>\n      <td>US</td>\n      <td>1928.0</td>\n      <td>6.0</td>\n      <td>Delta Air Lines</td>\n      <td>United States</td>\n      <td>823.0</td>\n      <td>active</td>\n      <td>scheduled,division</td>\n    </tr>\n    <tr>\n      <th>1</th>\n      <td>landed</td>\n      <td>A319</td>\n      <td>A977D4</td>\n      <td>A319</td>\n      <td>N709UW</td>\n      <td>AA</td>\n      <td>AAL</td>\n      <td>ORD</td>\n      <td>KORD</td>\n      <td>ATL</td>\n      <td>...</td>\n      <td>AMERICAN</td>\n      <td>DFW</td>\n      <td>US</td>\n      <td>1934.0</td>\n      <td>1.0</td>\n      <td>American Airlines</td>\n      <td>United States</td>\n      <td>963.0</td>\n      <td>active</td>\n      <td>scheduled</td>\n    </tr>\n    <tr>\n      <th>2</th>\n      <td>started</td>\n      <td>A320</td>\n      <td>A3F133</td>\n      <td>A320</td>\n      <td>N353NW</td>\n      <td>DL</td>\n      <td>DAL</td>\n      <td>SAT</td>\n      <td>KSAT</td>\n      <td>ATL</td>\n      <td>...</td>\n      <td>DELTA</td>\n      <td>ATL</td>\n      <td>US</td>\n      <td>1928.0</td>\n      <td>6.0</td>\n      <td>Delta Air Lines</td>\n      <td>United States</td>\n      <td>823.0</td>\n      <td>active</td>\n      <td>scheduled,division</td>\n    </tr>\n    <tr>\n      <th>3</th>\n      <td>en-route</td>\n      <td>A321</td>\n      <td>A44E24</td>\n      <td>A321</td>\n      <td>N377DN</td>\n      <td>DL</td>\n      <td>DAL</td>\n      <td>ONT</td>\n      <td>KONT</td>\n      <td>ATL</td>\n      <td>...</td>\n      <td>DELTA</td>\n      <td>ATL</td>\n      <td>US</td>\n      <td>1928.0</td>\n      <td>6.0</td>\n      <td>Delta Air Lines</td>\n      <td>United States</td>\n      <td>823.0</td>\n      <td>active</td>\n      <td>scheduled,division</td>\n    </tr>\n    <tr>\n      <th>4</th>\n      <td>landed</td>\n      <td>B712</td>\n      <td>AD3C27</td>\n      <td>B712</td>\n      <td>N952AT</td>\n      <td>DL</td>\n      <td>DAL</td>\n      <td>OMA</td>\n      <td>KOMA</td>\n      <td>ATL</td>\n      <td>...</td>\n      <td>DELTA</td>\n      <td>ATL</td>\n      <td>US</td>\n      <td>1928.0</td>\n      <td>6.0</td>\n      <td>Delta Air Lines</td>\n      <td>United States</td>\n      <td>823.0</td>\n      <td>active</td>\n      <td>scheduled,division</td>\n    </tr>\n    <tr>\n      <th>...</th>\n      <td>...</td>\n      <td>...</td>\n      <td>...</td>\n      <td>...</td>\n      <td>...</td>\n      <td>...</td>\n      <td>...</td>\n      <td>...</td>\n      <td>...</td>\n      <td>...</td>\n      <td>...</td>\n      <td>...</td>\n      <td>...</td>\n      <td>...</td>\n      <td>...</td>\n      <td>...</td>\n      <td>...</td>\n      <td>...</td>\n      <td>...</td>\n      <td>...</td>\n      <td>...</td>\n    </tr>\n    <tr>\n      <th>313</th>\n      <td>en-route</td>\n      <td>A20N</td>\n      <td>A42A91</td>\n      <td>A20N</td>\n      <td>N368FR</td>\n      <td>F9</td>\n      <td>FFT</td>\n      <td>ATL</td>\n      <td>KATL</td>\n      <td>SAT</td>\n      <td>...</td>\n      <td>FRONTIER FLIGHT</td>\n      <td>DEN</td>\n      <td>UM</td>\n      <td>1994.0</td>\n      <td>422.0</td>\n      <td>Frontier Airlines, Inc.</td>\n      <td>United States Minor Outlying Islands</td>\n      <td>58.0</td>\n      <td>active</td>\n      <td>scheduled</td>\n    </tr>\n    <tr>\n      <th>314</th>\n      <td>en-route</td>\n      <td>A320</td>\n      <td>A89CCC</td>\n      <td>A320</td>\n      <td>N654NK</td>\n      <td>NK</td>\n      <td>NKS</td>\n      <td>ATL</td>\n      <td>KATL</td>\n      <td>DTW</td>\n      <td>...</td>\n      <td>SPIRIT WINGS</td>\n      <td>FLL</td>\n      <td>UM</td>\n      <td>1980.0</td>\n      <td>487.0</td>\n      <td>Spirit Airlines</td>\n      <td>United States Minor Outlying Islands</td>\n      <td>84.0</td>\n      <td>active</td>\n      <td>scheduled</td>\n    </tr>\n    <tr>\n      <th>315</th>\n      <td>en-route</td>\n      <td>C525</td>\n      <td>A6658D</td>\n      <td>C525</td>\n      <td>N511EC</td>\n      <td></td>\n      <td></td>\n      <td>ATL</td>\n      <td>KATL</td>\n      <td>DXE</td>\n      <td>...</td>\n      <td>NaN</td>\n      <td>NaN</td>\n      <td>NaN</td>\n      <td>NaN</td>\n      <td>NaN</td>\n      <td>NaN</td>\n      <td>NaN</td>\n      <td>NaN</td>\n      <td>NaN</td>\n      <td>NaN</td>\n    </tr>\n    <tr>\n      <th>316</th>\n      <td>en-route</td>\n      <td>A333</td>\n      <td>4CAF9F</td>\n      <td>A333</td>\n      <td>EI-HEC</td>\n      <td>D0</td>\n      <td>DHK</td>\n      <td>ATL</td>\n      <td>KATL</td>\n      <td>KEF</td>\n      <td>...</td>\n      <td>WORLD EXPRESS</td>\n      <td>EMA</td>\n      <td>GB</td>\n      <td>0.0</td>\n      <td>936.0</td>\n      <td>DHL Air</td>\n      <td>United Kingdom</td>\n      <td>29.0</td>\n      <td>active</td>\n      <td>scheduled,cargo</td>\n    </tr>\n    <tr>\n      <th>317</th>\n      <td>en-route</td>\n      <td>A321</td>\n      <td>A39D95</td>\n      <td>A321</td>\n      <td>N332DN</td>\n      <td>DL</td>\n      <td>DAL</td>\n      <td>ATL</td>\n      <td>KATL</td>\n      <td>BOS</td>\n      <td>...</td>\n      <td>DELTA</td>\n      <td>ATL</td>\n      <td>US</td>\n      <td>1928.0</td>\n      <td>6.0</td>\n      <td>Delta Air Lines</td>\n      <td>United States</td>\n      <td>823.0</td>\n      <td>active</td>\n      <td>scheduled,division</td>\n    </tr>\n  </tbody>\n</table>\n<p>318 rows × 53 columns</p>\n</div>"
     },
     "execution_count": 71,
     "metadata": {},
     "output_type": "execute_result"
    }
   ],
   "source": [
    "df_real_time_flights"
   ],
   "metadata": {
    "collapsed": false,
    "ExecuteTime": {
     "end_time": "2023-05-18T16:35:38.131226Z",
     "start_time": "2023-05-18T16:35:38.127191Z"
    }
   }
  },
  {
   "cell_type": "code",
   "execution_count": null,
   "outputs": [],
   "source": [],
   "metadata": {
    "collapsed": false
   }
  }
 ],
 "metadata": {
  "kernelspec": {
   "display_name": "Python 3",
   "language": "python",
   "name": "python3"
  },
  "language_info": {
   "codemirror_mode": {
    "name": "ipython",
    "version": 2
   },
   "file_extension": ".py",
   "mimetype": "text/x-python",
   "name": "python",
   "nbconvert_exporter": "python",
   "pygments_lexer": "ipython2",
   "version": "2.7.6"
  }
 },
 "nbformat": 4,
 "nbformat_minor": 0
}
