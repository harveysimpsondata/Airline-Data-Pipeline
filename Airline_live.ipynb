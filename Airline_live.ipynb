{
 "cells": [
  {
   "cell_type": "code",
   "execution_count": 137,
   "outputs": [],
   "source": [
    "import http.client\n",
    "import config\n",
    "import pandas as pd\n",
    "import json\n",
    "import datetime\n",
    "import os\n",
    "import folium"
   ],
   "metadata": {
    "collapsed": false,
    "ExecuteTime": {
     "end_time": "2023-05-18T19:24:11.352766Z",
     "start_time": "2023-05-18T19:24:11.346950Z"
    }
   }
  },
  {
   "cell_type": "code",
   "execution_count": 138,
   "metadata": {
    "collapsed": true,
    "ExecuteTime": {
     "end_time": "2023-05-18T19:24:12.856060Z",
     "start_time": "2023-05-18T19:24:11.360547Z"
    }
   },
   "outputs": [],
   "source": [
    "conn1 = http.client.HTTPSConnection(\"app.goflightlabs.com\")\n",
    "conn2 = http.client.HTTPSConnection(\"app.goflightlabs.com\")\n",
    "\n",
    "conn1.request(\"GET\", f\"/flights?access_key={config.api_key}&arrIata=ATL\")\n",
    "conn2.request(\"GET\", f\"/flights?access_key={config.api_key}&depIata=ATL\")\n",
    "\n",
    "real_time_arrivals = conn1.getresponse().read().decode('utf-8')\n",
    "real_time_arrivals = json.loads(real_time_arrivals)\n",
    "\n",
    "real_time_departures = conn2.getresponse().read().decode('utf-8')\n",
    "real_time_departures = json.loads(real_time_departures)"
   ]
  },
  {
   "cell_type": "code",
   "execution_count": 139,
   "outputs": [],
   "source": [
    "df_real_time_departures = pd.json_normalize(real_time_departures['data'])\n",
    "df_real_time_arrivals = pd.json_normalize(real_time_arrivals['data'])\n",
    "df_real_time_flights = pd.concat([df_real_time_departures, df_real_time_arrivals])"
   ],
   "metadata": {
    "collapsed": false,
    "ExecuteTime": {
     "end_time": "2023-05-18T19:24:12.857430Z",
     "start_time": "2023-05-18T19:24:12.856333Z"
    }
   }
  },
  {
   "cell_type": "code",
   "execution_count": 140,
   "outputs": [
    {
     "data": {
      "text/plain": "       status aircraft.iataCode aircraft.icao24 aircraft.icaoCode  \\\n0    en-route              B752          A8DF06              B752   \n1    en-route              B753          A77AE0              B753   \n2    en-route              B752          A8DE56              B752   \n3      landed              A321          A446B6              A321   \n4    en-route              A321          A41F37              A321   \n..        ...               ...             ...               ...   \n157  en-route              B77W          06A078              B77W   \n158  en-route              E55P          A390D5              E55P   \n159  en-route              B763          A49CE2              B763   \n160  en-route              A320          A81B2A              A320   \n161  en-route              A359          39CF00              A359   \n\n    aircraft.regNumber airline.iataCode airline.icaoCode arrival.iataCode  \\\n0               N6707A               DL              DAL              SNA   \n1               N581NW               DL              DAL              LAX   \n2                N6702               DL              DAL              FLL   \n3               N375DN               DL              DAL              PHX   \n4               N365DN               DL              DAL              PBI   \n..                 ...              ...              ...              ...   \n157             A7-BAK               QR              QTR              ATL   \n158             N329MC                                                ATL   \n159             N397AZ                                                ATL   \n160             N621NK               NK              NKS              ATL   \n161             F-HTYA               AF              AFR              ATL   \n\n    arrival.icaoCode departure.iataCode  ... flight.number geography.altitude  \\\n0               KSNA                ATL  ...           447            9753.60   \n1               KLAX                ATL  ...           895           10363.20   \n2               KFLL                ATL  ...          1375            6416.04   \n3               KPHX                ATL  ...           796               0.00   \n4               KPBI                ATL  ...          1173           10660.40   \n..               ...                ...  ...           ...                ...   \n157             KATL                DOH  ...           755           10668.00   \n158             KATL                PSF  ...           XXF           12496.80   \n159             KATL                CVG  ...          3434            8199.12   \n160             KATL                ORD  ...          1784            6553.20   \n161             KATL                CDG  ...           686           11581.20   \n\n    geography.direction geography.latitude  geography.longitude  \\\n0                   260              34.03              -115.74   \n1                   266              34.55              -103.04   \n2                   169              33.08               -84.19   \n3                   137              33.44              -112.02   \n4                   145              29.80               -82.73   \n..                  ...                ...                  ...   \n157                 155              36.30               -83.36   \n158                 226              39.31               -76.97   \n159                 176              38.25               -84.49   \n160                 178              41.22               -87.89   \n161                 269              48.06               -33.41   \n\n     speed.horizontal  speed.isGround  speed.vspeed  system.squawk  \\\n0             885.256               0             0           None   \n1             814.880               0             0           None   \n2             700.056               0             0           None   \n3              31.484               1             0           None   \n4             853.772               0             0           None   \n..                ...             ...           ...            ...   \n157           851.920               0             0           None   \n158           679.684               0             0           None   \n159           783.396               0             0           None   \n160           733.392               0             0           None   \n161           846.364               0             0           None   \n\n     system.updated  \n0        1684436790  \n1        1684437064  \n2        1684436785  \n3        1684437074  \n4        1684436786  \n..              ...  \n157      1684436480  \n158      1684436764  \n159      1684436480  \n160      1684436469  \n161      1684436492  \n\n[268 rows x 23 columns]",
      "text/html": "<div>\n<style scoped>\n    .dataframe tbody tr th:only-of-type {\n        vertical-align: middle;\n    }\n\n    .dataframe tbody tr th {\n        vertical-align: top;\n    }\n\n    .dataframe thead th {\n        text-align: right;\n    }\n</style>\n<table border=\"1\" class=\"dataframe\">\n  <thead>\n    <tr style=\"text-align: right;\">\n      <th></th>\n      <th>status</th>\n      <th>aircraft.iataCode</th>\n      <th>aircraft.icao24</th>\n      <th>aircraft.icaoCode</th>\n      <th>aircraft.regNumber</th>\n      <th>airline.iataCode</th>\n      <th>airline.icaoCode</th>\n      <th>arrival.iataCode</th>\n      <th>arrival.icaoCode</th>\n      <th>departure.iataCode</th>\n      <th>...</th>\n      <th>flight.number</th>\n      <th>geography.altitude</th>\n      <th>geography.direction</th>\n      <th>geography.latitude</th>\n      <th>geography.longitude</th>\n      <th>speed.horizontal</th>\n      <th>speed.isGround</th>\n      <th>speed.vspeed</th>\n      <th>system.squawk</th>\n      <th>system.updated</th>\n    </tr>\n  </thead>\n  <tbody>\n    <tr>\n      <th>0</th>\n      <td>en-route</td>\n      <td>B752</td>\n      <td>A8DF06</td>\n      <td>B752</td>\n      <td>N6707A</td>\n      <td>DL</td>\n      <td>DAL</td>\n      <td>SNA</td>\n      <td>KSNA</td>\n      <td>ATL</td>\n      <td>...</td>\n      <td>447</td>\n      <td>9753.60</td>\n      <td>260</td>\n      <td>34.03</td>\n      <td>-115.74</td>\n      <td>885.256</td>\n      <td>0</td>\n      <td>0</td>\n      <td>None</td>\n      <td>1684436790</td>\n    </tr>\n    <tr>\n      <th>1</th>\n      <td>en-route</td>\n      <td>B753</td>\n      <td>A77AE0</td>\n      <td>B753</td>\n      <td>N581NW</td>\n      <td>DL</td>\n      <td>DAL</td>\n      <td>LAX</td>\n      <td>KLAX</td>\n      <td>ATL</td>\n      <td>...</td>\n      <td>895</td>\n      <td>10363.20</td>\n      <td>266</td>\n      <td>34.55</td>\n      <td>-103.04</td>\n      <td>814.880</td>\n      <td>0</td>\n      <td>0</td>\n      <td>None</td>\n      <td>1684437064</td>\n    </tr>\n    <tr>\n      <th>2</th>\n      <td>en-route</td>\n      <td>B752</td>\n      <td>A8DE56</td>\n      <td>B752</td>\n      <td>N6702</td>\n      <td>DL</td>\n      <td>DAL</td>\n      <td>FLL</td>\n      <td>KFLL</td>\n      <td>ATL</td>\n      <td>...</td>\n      <td>1375</td>\n      <td>6416.04</td>\n      <td>169</td>\n      <td>33.08</td>\n      <td>-84.19</td>\n      <td>700.056</td>\n      <td>0</td>\n      <td>0</td>\n      <td>None</td>\n      <td>1684436785</td>\n    </tr>\n    <tr>\n      <th>3</th>\n      <td>landed</td>\n      <td>A321</td>\n      <td>A446B6</td>\n      <td>A321</td>\n      <td>N375DN</td>\n      <td>DL</td>\n      <td>DAL</td>\n      <td>PHX</td>\n      <td>KPHX</td>\n      <td>ATL</td>\n      <td>...</td>\n      <td>796</td>\n      <td>0.00</td>\n      <td>137</td>\n      <td>33.44</td>\n      <td>-112.02</td>\n      <td>31.484</td>\n      <td>1</td>\n      <td>0</td>\n      <td>None</td>\n      <td>1684437074</td>\n    </tr>\n    <tr>\n      <th>4</th>\n      <td>en-route</td>\n      <td>A321</td>\n      <td>A41F37</td>\n      <td>A321</td>\n      <td>N365DN</td>\n      <td>DL</td>\n      <td>DAL</td>\n      <td>PBI</td>\n      <td>KPBI</td>\n      <td>ATL</td>\n      <td>...</td>\n      <td>1173</td>\n      <td>10660.40</td>\n      <td>145</td>\n      <td>29.80</td>\n      <td>-82.73</td>\n      <td>853.772</td>\n      <td>0</td>\n      <td>0</td>\n      <td>None</td>\n      <td>1684436786</td>\n    </tr>\n    <tr>\n      <th>...</th>\n      <td>...</td>\n      <td>...</td>\n      <td>...</td>\n      <td>...</td>\n      <td>...</td>\n      <td>...</td>\n      <td>...</td>\n      <td>...</td>\n      <td>...</td>\n      <td>...</td>\n      <td>...</td>\n      <td>...</td>\n      <td>...</td>\n      <td>...</td>\n      <td>...</td>\n      <td>...</td>\n      <td>...</td>\n      <td>...</td>\n      <td>...</td>\n      <td>...</td>\n      <td>...</td>\n    </tr>\n    <tr>\n      <th>157</th>\n      <td>en-route</td>\n      <td>B77W</td>\n      <td>06A078</td>\n      <td>B77W</td>\n      <td>A7-BAK</td>\n      <td>QR</td>\n      <td>QTR</td>\n      <td>ATL</td>\n      <td>KATL</td>\n      <td>DOH</td>\n      <td>...</td>\n      <td>755</td>\n      <td>10668.00</td>\n      <td>155</td>\n      <td>36.30</td>\n      <td>-83.36</td>\n      <td>851.920</td>\n      <td>0</td>\n      <td>0</td>\n      <td>None</td>\n      <td>1684436480</td>\n    </tr>\n    <tr>\n      <th>158</th>\n      <td>en-route</td>\n      <td>E55P</td>\n      <td>A390D5</td>\n      <td>E55P</td>\n      <td>N329MC</td>\n      <td></td>\n      <td></td>\n      <td>ATL</td>\n      <td>KATL</td>\n      <td>PSF</td>\n      <td>...</td>\n      <td>XXF</td>\n      <td>12496.80</td>\n      <td>226</td>\n      <td>39.31</td>\n      <td>-76.97</td>\n      <td>679.684</td>\n      <td>0</td>\n      <td>0</td>\n      <td>None</td>\n      <td>1684436764</td>\n    </tr>\n    <tr>\n      <th>159</th>\n      <td>en-route</td>\n      <td>B763</td>\n      <td>A49CE2</td>\n      <td>B763</td>\n      <td>N397AZ</td>\n      <td></td>\n      <td></td>\n      <td>ATL</td>\n      <td>KATL</td>\n      <td>CVG</td>\n      <td>...</td>\n      <td>3434</td>\n      <td>8199.12</td>\n      <td>176</td>\n      <td>38.25</td>\n      <td>-84.49</td>\n      <td>783.396</td>\n      <td>0</td>\n      <td>0</td>\n      <td>None</td>\n      <td>1684436480</td>\n    </tr>\n    <tr>\n      <th>160</th>\n      <td>en-route</td>\n      <td>A320</td>\n      <td>A81B2A</td>\n      <td>A320</td>\n      <td>N621NK</td>\n      <td>NK</td>\n      <td>NKS</td>\n      <td>ATL</td>\n      <td>KATL</td>\n      <td>ORD</td>\n      <td>...</td>\n      <td>1784</td>\n      <td>6553.20</td>\n      <td>178</td>\n      <td>41.22</td>\n      <td>-87.89</td>\n      <td>733.392</td>\n      <td>0</td>\n      <td>0</td>\n      <td>None</td>\n      <td>1684436469</td>\n    </tr>\n    <tr>\n      <th>161</th>\n      <td>en-route</td>\n      <td>A359</td>\n      <td>39CF00</td>\n      <td>A359</td>\n      <td>F-HTYA</td>\n      <td>AF</td>\n      <td>AFR</td>\n      <td>ATL</td>\n      <td>KATL</td>\n      <td>CDG</td>\n      <td>...</td>\n      <td>686</td>\n      <td>11581.20</td>\n      <td>269</td>\n      <td>48.06</td>\n      <td>-33.41</td>\n      <td>846.364</td>\n      <td>0</td>\n      <td>0</td>\n      <td>None</td>\n      <td>1684436492</td>\n    </tr>\n  </tbody>\n</table>\n<p>268 rows × 23 columns</p>\n</div>"
     },
     "execution_count": 140,
     "metadata": {},
     "output_type": "execute_result"
    }
   ],
   "source": [
    "df_real_time_flights"
   ],
   "metadata": {
    "collapsed": false,
    "ExecuteTime": {
     "end_time": "2023-05-18T19:24:12.857843Z",
     "start_time": "2023-05-18T19:24:12.856589Z"
    }
   }
  },
  {
   "cell_type": "code",
   "execution_count": 141,
   "outputs": [],
   "source": [
    "df_airports = pd.read_csv('./data/airports.csv')"
   ],
   "metadata": {
    "collapsed": false,
    "ExecuteTime": {
     "end_time": "2023-05-18T19:24:12.857922Z",
     "start_time": "2023-05-18T19:24:12.856735Z"
    }
   }
  },
  {
   "cell_type": "code",
   "execution_count": 142,
   "outputs": [],
   "source": [
    "df_airports_arrival = df_airports.rename(columns={\n",
    "    'airportId': 'arrival.airportId',\n",
    "    'codeIataAirport': 'arrival.iataCode',\n",
    "    'codeIataCity': 'arrival.codeIataCity',\n",
    "    'codeIcaoAirport': 'arrival.codeIcaoAirport',\n",
    "    'codeIso2Country': 'arrival.codeIso2Country',\n",
    "    'latitudeAirport': 'arrival.latitudeAirport',\n",
    "    'longitudeAirport': 'arrival.longitudeAirport',\n",
    "    'nameAirport': 'arrival.nameAirport',\n",
    "    'nameCountry': 'arrival.nameCountry',\n",
    "    'timezone': 'arrival.timezone'\n",
    "})\n",
    "\n",
    "df_airports_arrival = df_airports_arrival.drop(columns=['GMT', 'geonameId','phone'])\n"
   ],
   "metadata": {
    "collapsed": false,
    "ExecuteTime": {
     "end_time": "2023-05-18T19:24:12.857981Z",
     "start_time": "2023-05-18T19:24:12.856796Z"
    }
   }
  },
  {
   "cell_type": "code",
   "execution_count": 143,
   "outputs": [],
   "source": [
    "df_real_time_flights = pd.merge(df_real_time_flights, df_airports_arrival, how='left', on='arrival.iataCode')"
   ],
   "metadata": {
    "collapsed": false,
    "ExecuteTime": {
     "end_time": "2023-05-18T19:24:12.858023Z",
     "start_time": "2023-05-18T19:24:12.856850Z"
    }
   }
  },
  {
   "cell_type": "code",
   "execution_count": 144,
   "outputs": [],
   "source": [
    "df_airports_departure = df_airports.rename(columns={\n",
    "    'airportId': 'departure.airportId',\n",
    "    'codeIataAirport': 'departure.iataCode',\n",
    "    'codeIataCity': 'departure.codeIataCity',\n",
    "    'codeIcaoAirport': 'departure.codeIcaoAirport',\n",
    "    'codeIso2Country': 'departure.codeIso2Country',\n",
    "    'latitudeAirport': 'departure.latitudeAirport',\n",
    "    'longitudeAirport': 'departure.longitudeAirport',\n",
    "    'nameAirport': 'departure.nameAirport',\n",
    "    'nameCountry': 'departure.nameCountry',\n",
    "    'timezone': 'departure.timezone'\n",
    "})\n",
    "df_airports_departure = df_airports_departure.drop(columns=['GMT', 'geonameId','phone'])\n"
   ],
   "metadata": {
    "collapsed": false,
    "ExecuteTime": {
     "end_time": "2023-05-18T19:24:12.858061Z",
     "start_time": "2023-05-18T19:24:12.856899Z"
    }
   }
  },
  {
   "cell_type": "code",
   "execution_count": 145,
   "outputs": [
    {
     "data": {
      "text/plain": "       departure.airportId departure.iataCode departure.codeIataCity  \\\n0                        1                AAA                    AAA   \n1                        2                AAB                    AAB   \n2                        3                AAC                    AAC   \n3                        4                AAE                    AAE   \n4                        5                AAF                    AAF   \n...                    ...                ...                    ...   \n10279                10566                VKX                    NaN   \n10280                10567                WRN                    NaN   \n10281                10568                WXF                    NaN   \n10282                10569                XCD                    NaN   \n10283                10570                ZDY                    NaN   \n\n      departure.codeIcaoAirport departure.codeIso2Country  \\\n0                          NTGA                        PF   \n1                          YARY                        AU   \n2                          HEAR                        EG   \n3                          DABB                        DZ   \n4                          KAAF                        US   \n...                         ...                       ...   \n10279                      KVKX                        US   \n10280                      YWDG                        AU   \n10281                      EGVT                        GB   \n10282                      LFLH                        FR   \n10283              Dalma Island                        AE   \n\n       departure.latitudeAirport  departure.longitudeAirport  \\\n0                     -17.050000                 -145.416670   \n1                     -26.700000                  141.041670   \n2                      31.133333                   33.750000   \n3                      36.821392                    7.811857   \n4                      29.733334                  -84.983330   \n...                          ...                         ...   \n10279                  38.748642                  -76.955922   \n10280                 -30.031667                  119.390000   \n10281                  51.971901                    0.509444   \n10282                  46.826111                    4.817500   \n10283                  24.503383                   52.336053   \n\n                 departure.nameAirport departure.nameCountry  \\\n0                                 Anaa      French Polynesia   \n1                             Arrabury             Australia   \n2       El Arish International Airport                 Egypt   \n3                          Les Salines                   NaN   \n4                Apalachicola Regional         United States   \n...                                ...                   ...   \n10279                 Potomac Airfield         United States   \n10280               Windarling Airport             Australia   \n10281             Wethersfield Airport        United Kingdom   \n10282  Chalon – Champforgeuil Airfield                France   \n10283                    Dalma Airport  United Arab Emirates   \n\n       departure.timezone  \n0          Pacific/Tahiti  \n1      Australia/Brisbane  \n2            Africa/Cairo  \n3          Africa/Algiers  \n4        America/New_York  \n...                   ...  \n10279                 NaN  \n10280                 NaN  \n10281                 NaN  \n10282                 NaN  \n10283                 NaN  \n\n[10284 rows x 10 columns]",
      "text/html": "<div>\n<style scoped>\n    .dataframe tbody tr th:only-of-type {\n        vertical-align: middle;\n    }\n\n    .dataframe tbody tr th {\n        vertical-align: top;\n    }\n\n    .dataframe thead th {\n        text-align: right;\n    }\n</style>\n<table border=\"1\" class=\"dataframe\">\n  <thead>\n    <tr style=\"text-align: right;\">\n      <th></th>\n      <th>departure.airportId</th>\n      <th>departure.iataCode</th>\n      <th>departure.codeIataCity</th>\n      <th>departure.codeIcaoAirport</th>\n      <th>departure.codeIso2Country</th>\n      <th>departure.latitudeAirport</th>\n      <th>departure.longitudeAirport</th>\n      <th>departure.nameAirport</th>\n      <th>departure.nameCountry</th>\n      <th>departure.timezone</th>\n    </tr>\n  </thead>\n  <tbody>\n    <tr>\n      <th>0</th>\n      <td>1</td>\n      <td>AAA</td>\n      <td>AAA</td>\n      <td>NTGA</td>\n      <td>PF</td>\n      <td>-17.050000</td>\n      <td>-145.416670</td>\n      <td>Anaa</td>\n      <td>French Polynesia</td>\n      <td>Pacific/Tahiti</td>\n    </tr>\n    <tr>\n      <th>1</th>\n      <td>2</td>\n      <td>AAB</td>\n      <td>AAB</td>\n      <td>YARY</td>\n      <td>AU</td>\n      <td>-26.700000</td>\n      <td>141.041670</td>\n      <td>Arrabury</td>\n      <td>Australia</td>\n      <td>Australia/Brisbane</td>\n    </tr>\n    <tr>\n      <th>2</th>\n      <td>3</td>\n      <td>AAC</td>\n      <td>AAC</td>\n      <td>HEAR</td>\n      <td>EG</td>\n      <td>31.133333</td>\n      <td>33.750000</td>\n      <td>El Arish International Airport</td>\n      <td>Egypt</td>\n      <td>Africa/Cairo</td>\n    </tr>\n    <tr>\n      <th>3</th>\n      <td>4</td>\n      <td>AAE</td>\n      <td>AAE</td>\n      <td>DABB</td>\n      <td>DZ</td>\n      <td>36.821392</td>\n      <td>7.811857</td>\n      <td>Les Salines</td>\n      <td>NaN</td>\n      <td>Africa/Algiers</td>\n    </tr>\n    <tr>\n      <th>4</th>\n      <td>5</td>\n      <td>AAF</td>\n      <td>AAF</td>\n      <td>KAAF</td>\n      <td>US</td>\n      <td>29.733334</td>\n      <td>-84.983330</td>\n      <td>Apalachicola Regional</td>\n      <td>United States</td>\n      <td>America/New_York</td>\n    </tr>\n    <tr>\n      <th>...</th>\n      <td>...</td>\n      <td>...</td>\n      <td>...</td>\n      <td>...</td>\n      <td>...</td>\n      <td>...</td>\n      <td>...</td>\n      <td>...</td>\n      <td>...</td>\n      <td>...</td>\n    </tr>\n    <tr>\n      <th>10279</th>\n      <td>10566</td>\n      <td>VKX</td>\n      <td>NaN</td>\n      <td>KVKX</td>\n      <td>US</td>\n      <td>38.748642</td>\n      <td>-76.955922</td>\n      <td>Potomac Airfield</td>\n      <td>United States</td>\n      <td>NaN</td>\n    </tr>\n    <tr>\n      <th>10280</th>\n      <td>10567</td>\n      <td>WRN</td>\n      <td>NaN</td>\n      <td>YWDG</td>\n      <td>AU</td>\n      <td>-30.031667</td>\n      <td>119.390000</td>\n      <td>Windarling Airport</td>\n      <td>Australia</td>\n      <td>NaN</td>\n    </tr>\n    <tr>\n      <th>10281</th>\n      <td>10568</td>\n      <td>WXF</td>\n      <td>NaN</td>\n      <td>EGVT</td>\n      <td>GB</td>\n      <td>51.971901</td>\n      <td>0.509444</td>\n      <td>Wethersfield Airport</td>\n      <td>United Kingdom</td>\n      <td>NaN</td>\n    </tr>\n    <tr>\n      <th>10282</th>\n      <td>10569</td>\n      <td>XCD</td>\n      <td>NaN</td>\n      <td>LFLH</td>\n      <td>FR</td>\n      <td>46.826111</td>\n      <td>4.817500</td>\n      <td>Chalon – Champforgeuil Airfield</td>\n      <td>France</td>\n      <td>NaN</td>\n    </tr>\n    <tr>\n      <th>10283</th>\n      <td>10570</td>\n      <td>ZDY</td>\n      <td>NaN</td>\n      <td>Dalma Island</td>\n      <td>AE</td>\n      <td>24.503383</td>\n      <td>52.336053</td>\n      <td>Dalma Airport</td>\n      <td>United Arab Emirates</td>\n      <td>NaN</td>\n    </tr>\n  </tbody>\n</table>\n<p>10284 rows × 10 columns</p>\n</div>"
     },
     "execution_count": 145,
     "metadata": {},
     "output_type": "execute_result"
    }
   ],
   "source": [
    "df_airports_departure"
   ],
   "metadata": {
    "collapsed": false,
    "ExecuteTime": {
     "end_time": "2023-05-18T19:24:12.858147Z",
     "start_time": "2023-05-18T19:24:12.856947Z"
    }
   }
  },
  {
   "cell_type": "code",
   "execution_count": 146,
   "outputs": [],
   "source": [
    "df_real_time_flights = pd.merge(df_real_time_flights, df_airports_departure, how='left', on='departure.iataCode')"
   ],
   "metadata": {
    "collapsed": false,
    "ExecuteTime": {
     "end_time": "2023-05-18T19:24:12.858184Z",
     "start_time": "2023-05-18T19:24:12.857068Z"
    }
   }
  },
  {
   "cell_type": "code",
   "execution_count": 147,
   "outputs": [
    {
     "data": {
      "text/plain": "       status aircraft.iataCode aircraft.icao24 aircraft.icaoCode  \\\n0    en-route              B752          A8DF06              B752   \n1    en-route              B753          A77AE0              B753   \n2    en-route              B752          A8DE56              B752   \n3      landed              A321          A446B6              A321   \n4    en-route              A321          A41F37              A321   \n..        ...               ...             ...               ...   \n263  en-route              B77W          06A078              B77W   \n264  en-route              E55P          A390D5              E55P   \n265  en-route              B763          A49CE2              B763   \n266  en-route              A320          A81B2A              A320   \n267  en-route              A359          39CF00              A359   \n\n    aircraft.regNumber airline.iataCode airline.icaoCode arrival.iataCode  \\\n0               N6707A               DL              DAL              SNA   \n1               N581NW               DL              DAL              LAX   \n2                N6702               DL              DAL              FLL   \n3               N375DN               DL              DAL              PHX   \n4               N365DN               DL              DAL              PBI   \n..                 ...              ...              ...              ...   \n263             A7-BAK               QR              QTR              ATL   \n264             N329MC                                                ATL   \n265             N397AZ                                                ATL   \n266             N621NK               NK              NKS              ATL   \n267             F-HTYA               AF              AFR              ATL   \n\n    arrival.icaoCode departure.iataCode  ...     arrival.timezone  \\\n0               KSNA                ATL  ...  America/Los_Angeles   \n1               KLAX                ATL  ...  America/Los_Angeles   \n2               KFLL                ATL  ...     America/New_York   \n3               KPHX                ATL  ...      America/Phoenix   \n4               KPBI                ATL  ...     America/New_York   \n..               ...                ...  ...                  ...   \n263             KATL                DOH  ...     America/New_York   \n264             KATL                PSF  ...     America/New_York   \n265             KATL                CVG  ...     America/New_York   \n266             KATL                ORD  ...     America/New_York   \n267             KATL                CDG  ...     America/New_York   \n\n    departure.airportId departure.codeIataCity departure.codeIcaoAirport  \\\n0                   411                    ATL                      KATL   \n1                   411                    ATL                      KATL   \n2                   411                    ATL                      KATL   \n3                   411                    ATL                      KATL   \n4                   411                    ATL                      KATL   \n..                  ...                    ...                       ...   \n263                1875                    DOH                      OTBD   \n264                6315                    PSF                       NaN   \n265                1604                    CVG                      KCVG   \n266                5818                    CHI                      KORD   \n267                1203                    PAR                      LFPG   \n\n     departure.codeIso2Country  departure.latitudeAirport  \\\n0                           US                  33.640068   \n1                           US                  33.640068   \n2                           US                  33.640068   \n3                           US                  33.640068   \n4                           US                  33.640068   \n..                         ...                        ...   \n263                         QA                  25.267569   \n264                         US                  42.426666   \n265                         US                  39.055500   \n266                         US                  41.976913   \n267                         FR                  49.003197   \n\n     departure.longitudeAirport                     departure.nameAirport  \\\n0                    -84.444030  Hartsfield-jackson Atlanta International   \n1                    -84.444030  Hartsfield-jackson Atlanta International   \n2                    -84.444030  Hartsfield-jackson Atlanta International   \n3                    -84.444030  Hartsfield-jackson Atlanta International   \n4                    -84.444030  Hartsfield-jackson Atlanta International   \n..                          ...                                       ...   \n263                   51.558067                        Doha International   \n264                  -73.291664                                Pittsfield   \n265                  -84.661450              Cincinnati/Northern Kentucky   \n266                  -87.904880              Chicago O'hare International   \n267                    2.567023                         Charles De Gaulle   \n\n     departure.nameCountry  departure.timezone  \n0            United States    America/New_York  \n1            United States    America/New_York  \n2            United States    America/New_York  \n3            United States    America/New_York  \n4            United States    America/New_York  \n..                     ...                 ...  \n263                  Qatar          Asia/Qatar  \n264          United States    America/New_York  \n265          United States    America/New_York  \n266          United States     America/Chicago  \n267                 France        Europe/Paris  \n\n[268 rows x 41 columns]",
      "text/html": "<div>\n<style scoped>\n    .dataframe tbody tr th:only-of-type {\n        vertical-align: middle;\n    }\n\n    .dataframe tbody tr th {\n        vertical-align: top;\n    }\n\n    .dataframe thead th {\n        text-align: right;\n    }\n</style>\n<table border=\"1\" class=\"dataframe\">\n  <thead>\n    <tr style=\"text-align: right;\">\n      <th></th>\n      <th>status</th>\n      <th>aircraft.iataCode</th>\n      <th>aircraft.icao24</th>\n      <th>aircraft.icaoCode</th>\n      <th>aircraft.regNumber</th>\n      <th>airline.iataCode</th>\n      <th>airline.icaoCode</th>\n      <th>arrival.iataCode</th>\n      <th>arrival.icaoCode</th>\n      <th>departure.iataCode</th>\n      <th>...</th>\n      <th>arrival.timezone</th>\n      <th>departure.airportId</th>\n      <th>departure.codeIataCity</th>\n      <th>departure.codeIcaoAirport</th>\n      <th>departure.codeIso2Country</th>\n      <th>departure.latitudeAirport</th>\n      <th>departure.longitudeAirport</th>\n      <th>departure.nameAirport</th>\n      <th>departure.nameCountry</th>\n      <th>departure.timezone</th>\n    </tr>\n  </thead>\n  <tbody>\n    <tr>\n      <th>0</th>\n      <td>en-route</td>\n      <td>B752</td>\n      <td>A8DF06</td>\n      <td>B752</td>\n      <td>N6707A</td>\n      <td>DL</td>\n      <td>DAL</td>\n      <td>SNA</td>\n      <td>KSNA</td>\n      <td>ATL</td>\n      <td>...</td>\n      <td>America/Los_Angeles</td>\n      <td>411</td>\n      <td>ATL</td>\n      <td>KATL</td>\n      <td>US</td>\n      <td>33.640068</td>\n      <td>-84.444030</td>\n      <td>Hartsfield-jackson Atlanta International</td>\n      <td>United States</td>\n      <td>America/New_York</td>\n    </tr>\n    <tr>\n      <th>1</th>\n      <td>en-route</td>\n      <td>B753</td>\n      <td>A77AE0</td>\n      <td>B753</td>\n      <td>N581NW</td>\n      <td>DL</td>\n      <td>DAL</td>\n      <td>LAX</td>\n      <td>KLAX</td>\n      <td>ATL</td>\n      <td>...</td>\n      <td>America/Los_Angeles</td>\n      <td>411</td>\n      <td>ATL</td>\n      <td>KATL</td>\n      <td>US</td>\n      <td>33.640068</td>\n      <td>-84.444030</td>\n      <td>Hartsfield-jackson Atlanta International</td>\n      <td>United States</td>\n      <td>America/New_York</td>\n    </tr>\n    <tr>\n      <th>2</th>\n      <td>en-route</td>\n      <td>B752</td>\n      <td>A8DE56</td>\n      <td>B752</td>\n      <td>N6702</td>\n      <td>DL</td>\n      <td>DAL</td>\n      <td>FLL</td>\n      <td>KFLL</td>\n      <td>ATL</td>\n      <td>...</td>\n      <td>America/New_York</td>\n      <td>411</td>\n      <td>ATL</td>\n      <td>KATL</td>\n      <td>US</td>\n      <td>33.640068</td>\n      <td>-84.444030</td>\n      <td>Hartsfield-jackson Atlanta International</td>\n      <td>United States</td>\n      <td>America/New_York</td>\n    </tr>\n    <tr>\n      <th>3</th>\n      <td>landed</td>\n      <td>A321</td>\n      <td>A446B6</td>\n      <td>A321</td>\n      <td>N375DN</td>\n      <td>DL</td>\n      <td>DAL</td>\n      <td>PHX</td>\n      <td>KPHX</td>\n      <td>ATL</td>\n      <td>...</td>\n      <td>America/Phoenix</td>\n      <td>411</td>\n      <td>ATL</td>\n      <td>KATL</td>\n      <td>US</td>\n      <td>33.640068</td>\n      <td>-84.444030</td>\n      <td>Hartsfield-jackson Atlanta International</td>\n      <td>United States</td>\n      <td>America/New_York</td>\n    </tr>\n    <tr>\n      <th>4</th>\n      <td>en-route</td>\n      <td>A321</td>\n      <td>A41F37</td>\n      <td>A321</td>\n      <td>N365DN</td>\n      <td>DL</td>\n      <td>DAL</td>\n      <td>PBI</td>\n      <td>KPBI</td>\n      <td>ATL</td>\n      <td>...</td>\n      <td>America/New_York</td>\n      <td>411</td>\n      <td>ATL</td>\n      <td>KATL</td>\n      <td>US</td>\n      <td>33.640068</td>\n      <td>-84.444030</td>\n      <td>Hartsfield-jackson Atlanta International</td>\n      <td>United States</td>\n      <td>America/New_York</td>\n    </tr>\n    <tr>\n      <th>...</th>\n      <td>...</td>\n      <td>...</td>\n      <td>...</td>\n      <td>...</td>\n      <td>...</td>\n      <td>...</td>\n      <td>...</td>\n      <td>...</td>\n      <td>...</td>\n      <td>...</td>\n      <td>...</td>\n      <td>...</td>\n      <td>...</td>\n      <td>...</td>\n      <td>...</td>\n      <td>...</td>\n      <td>...</td>\n      <td>...</td>\n      <td>...</td>\n      <td>...</td>\n      <td>...</td>\n    </tr>\n    <tr>\n      <th>263</th>\n      <td>en-route</td>\n      <td>B77W</td>\n      <td>06A078</td>\n      <td>B77W</td>\n      <td>A7-BAK</td>\n      <td>QR</td>\n      <td>QTR</td>\n      <td>ATL</td>\n      <td>KATL</td>\n      <td>DOH</td>\n      <td>...</td>\n      <td>America/New_York</td>\n      <td>1875</td>\n      <td>DOH</td>\n      <td>OTBD</td>\n      <td>QA</td>\n      <td>25.267569</td>\n      <td>51.558067</td>\n      <td>Doha International</td>\n      <td>Qatar</td>\n      <td>Asia/Qatar</td>\n    </tr>\n    <tr>\n      <th>264</th>\n      <td>en-route</td>\n      <td>E55P</td>\n      <td>A390D5</td>\n      <td>E55P</td>\n      <td>N329MC</td>\n      <td></td>\n      <td></td>\n      <td>ATL</td>\n      <td>KATL</td>\n      <td>PSF</td>\n      <td>...</td>\n      <td>America/New_York</td>\n      <td>6315</td>\n      <td>PSF</td>\n      <td>NaN</td>\n      <td>US</td>\n      <td>42.426666</td>\n      <td>-73.291664</td>\n      <td>Pittsfield</td>\n      <td>United States</td>\n      <td>America/New_York</td>\n    </tr>\n    <tr>\n      <th>265</th>\n      <td>en-route</td>\n      <td>B763</td>\n      <td>A49CE2</td>\n      <td>B763</td>\n      <td>N397AZ</td>\n      <td></td>\n      <td></td>\n      <td>ATL</td>\n      <td>KATL</td>\n      <td>CVG</td>\n      <td>...</td>\n      <td>America/New_York</td>\n      <td>1604</td>\n      <td>CVG</td>\n      <td>KCVG</td>\n      <td>US</td>\n      <td>39.055500</td>\n      <td>-84.661450</td>\n      <td>Cincinnati/Northern Kentucky</td>\n      <td>United States</td>\n      <td>America/New_York</td>\n    </tr>\n    <tr>\n      <th>266</th>\n      <td>en-route</td>\n      <td>A320</td>\n      <td>A81B2A</td>\n      <td>A320</td>\n      <td>N621NK</td>\n      <td>NK</td>\n      <td>NKS</td>\n      <td>ATL</td>\n      <td>KATL</td>\n      <td>ORD</td>\n      <td>...</td>\n      <td>America/New_York</td>\n      <td>5818</td>\n      <td>CHI</td>\n      <td>KORD</td>\n      <td>US</td>\n      <td>41.976913</td>\n      <td>-87.904880</td>\n      <td>Chicago O'hare International</td>\n      <td>United States</td>\n      <td>America/Chicago</td>\n    </tr>\n    <tr>\n      <th>267</th>\n      <td>en-route</td>\n      <td>A359</td>\n      <td>39CF00</td>\n      <td>A359</td>\n      <td>F-HTYA</td>\n      <td>AF</td>\n      <td>AFR</td>\n      <td>ATL</td>\n      <td>KATL</td>\n      <td>CDG</td>\n      <td>...</td>\n      <td>America/New_York</td>\n      <td>1203</td>\n      <td>PAR</td>\n      <td>LFPG</td>\n      <td>FR</td>\n      <td>49.003197</td>\n      <td>2.567023</td>\n      <td>Charles De Gaulle</td>\n      <td>France</td>\n      <td>Europe/Paris</td>\n    </tr>\n  </tbody>\n</table>\n<p>268 rows × 41 columns</p>\n</div>"
     },
     "execution_count": 147,
     "metadata": {},
     "output_type": "execute_result"
    }
   ],
   "source": [
    "df_real_time_flights"
   ],
   "metadata": {
    "collapsed": false,
    "ExecuteTime": {
     "end_time": "2023-05-18T19:24:12.858326Z",
     "start_time": "2023-05-18T19:24:12.857115Z"
    }
   }
  },
  {
   "cell_type": "code",
   "execution_count": 148,
   "outputs": [
    {
     "data": {
      "text/plain": "      ageFleet  airlineId        callsign codeHub airline.iataCode  \\\n0         10.9          1        AMERICAN     DFW               AA   \n1         17.0          2           DELTA     ATL               DL   \n2         13.8          3          UNITED     ORD               UA   \n3         12.3          4       SOUTHWEST     DAL               WN   \n4          6.9          5  CHINA SOUTHERN     CAN               CZ   \n...        ...        ...             ...     ...              ...   \n3955       0.0       3957             NaN     YQB               ZX   \n3956       0.0       3958        AIRCOACH     NaN               ZX   \n3957       0.0       3959         FLYZOOM     GLA               ZX   \n3958       0.0       3960         ADA AIR     TIA               ZY   \n3959       0.0       3961    ANTALYA BIRD     AYT               ZY   \n\n     airline.icaoCode codeIso2Country  founding  iataPrefixAccounting  \\\n0                 AAL              US      1934                   1.0   \n1                 DAL              US      1928                   6.0   \n2                 UAL              US      1931                  16.0   \n3                 SWA              UM      1967                 526.0   \n4                 CSN              CN      2004                 784.0   \n...               ...             ...       ...                   ...   \n3955              AAQ              CA         0                   NaN   \n3956              ABL              CA         0                 742.0   \n3957              UKZ              UK         0                   NaN   \n3958              ADE              AL         0                 121.0   \n3959              SHY              TR         0                   NaN   \n\n                  nameAirline                           nameCountry  \\\n0           American Airlines                         United States   \n1             Delta Air Lines                         United States   \n2             United Airlines                         United States   \n3      Southwest Airlines Co.  United States Minor Outlying Islands   \n4     China Southern Airlines                                 China   \n...                       ...                                   ...   \n3955    Air Alliance (Canada)                                Canada   \n3956                 Air B.C.                                Canada   \n3957            Zoom Airlines                        United Kingdom   \n3958                  Ada Air                               Albania   \n3959             Sky Airlines                                Turkey   \n\n      sizeAirline statusAirline                type  \n0             963        active           scheduled  \n1             823        active  scheduled,division  \n2             715        active  scheduled,division  \n3             712        active           scheduled  \n4             498        active           scheduled  \n...           ...           ...                 ...  \n3955            0        merged           scheduled  \n3956            0    historical                 NaN  \n3957            0    historical             charter  \n3958            0    historical           scheduled  \n3959            0        active           scheduled  \n\n[2789 rows x 14 columns]",
      "text/html": "<div>\n<style scoped>\n    .dataframe tbody tr th:only-of-type {\n        vertical-align: middle;\n    }\n\n    .dataframe tbody tr th {\n        vertical-align: top;\n    }\n\n    .dataframe thead th {\n        text-align: right;\n    }\n</style>\n<table border=\"1\" class=\"dataframe\">\n  <thead>\n    <tr style=\"text-align: right;\">\n      <th></th>\n      <th>ageFleet</th>\n      <th>airlineId</th>\n      <th>callsign</th>\n      <th>codeHub</th>\n      <th>airline.iataCode</th>\n      <th>airline.icaoCode</th>\n      <th>codeIso2Country</th>\n      <th>founding</th>\n      <th>iataPrefixAccounting</th>\n      <th>nameAirline</th>\n      <th>nameCountry</th>\n      <th>sizeAirline</th>\n      <th>statusAirline</th>\n      <th>type</th>\n    </tr>\n  </thead>\n  <tbody>\n    <tr>\n      <th>0</th>\n      <td>10.9</td>\n      <td>1</td>\n      <td>AMERICAN</td>\n      <td>DFW</td>\n      <td>AA</td>\n      <td>AAL</td>\n      <td>US</td>\n      <td>1934</td>\n      <td>1.0</td>\n      <td>American Airlines</td>\n      <td>United States</td>\n      <td>963</td>\n      <td>active</td>\n      <td>scheduled</td>\n    </tr>\n    <tr>\n      <th>1</th>\n      <td>17.0</td>\n      <td>2</td>\n      <td>DELTA</td>\n      <td>ATL</td>\n      <td>DL</td>\n      <td>DAL</td>\n      <td>US</td>\n      <td>1928</td>\n      <td>6.0</td>\n      <td>Delta Air Lines</td>\n      <td>United States</td>\n      <td>823</td>\n      <td>active</td>\n      <td>scheduled,division</td>\n    </tr>\n    <tr>\n      <th>2</th>\n      <td>13.8</td>\n      <td>3</td>\n      <td>UNITED</td>\n      <td>ORD</td>\n      <td>UA</td>\n      <td>UAL</td>\n      <td>US</td>\n      <td>1931</td>\n      <td>16.0</td>\n      <td>United Airlines</td>\n      <td>United States</td>\n      <td>715</td>\n      <td>active</td>\n      <td>scheduled,division</td>\n    </tr>\n    <tr>\n      <th>3</th>\n      <td>12.3</td>\n      <td>4</td>\n      <td>SOUTHWEST</td>\n      <td>DAL</td>\n      <td>WN</td>\n      <td>SWA</td>\n      <td>UM</td>\n      <td>1967</td>\n      <td>526.0</td>\n      <td>Southwest Airlines Co.</td>\n      <td>United States Minor Outlying Islands</td>\n      <td>712</td>\n      <td>active</td>\n      <td>scheduled</td>\n    </tr>\n    <tr>\n      <th>4</th>\n      <td>6.9</td>\n      <td>5</td>\n      <td>CHINA SOUTHERN</td>\n      <td>CAN</td>\n      <td>CZ</td>\n      <td>CSN</td>\n      <td>CN</td>\n      <td>2004</td>\n      <td>784.0</td>\n      <td>China Southern Airlines</td>\n      <td>China</td>\n      <td>498</td>\n      <td>active</td>\n      <td>scheduled</td>\n    </tr>\n    <tr>\n      <th>...</th>\n      <td>...</td>\n      <td>...</td>\n      <td>...</td>\n      <td>...</td>\n      <td>...</td>\n      <td>...</td>\n      <td>...</td>\n      <td>...</td>\n      <td>...</td>\n      <td>...</td>\n      <td>...</td>\n      <td>...</td>\n      <td>...</td>\n      <td>...</td>\n    </tr>\n    <tr>\n      <th>3955</th>\n      <td>0.0</td>\n      <td>3957</td>\n      <td>NaN</td>\n      <td>YQB</td>\n      <td>ZX</td>\n      <td>AAQ</td>\n      <td>CA</td>\n      <td>0</td>\n      <td>NaN</td>\n      <td>Air Alliance (Canada)</td>\n      <td>Canada</td>\n      <td>0</td>\n      <td>merged</td>\n      <td>scheduled</td>\n    </tr>\n    <tr>\n      <th>3956</th>\n      <td>0.0</td>\n      <td>3958</td>\n      <td>AIRCOACH</td>\n      <td>NaN</td>\n      <td>ZX</td>\n      <td>ABL</td>\n      <td>CA</td>\n      <td>0</td>\n      <td>742.0</td>\n      <td>Air B.C.</td>\n      <td>Canada</td>\n      <td>0</td>\n      <td>historical</td>\n      <td>NaN</td>\n    </tr>\n    <tr>\n      <th>3957</th>\n      <td>0.0</td>\n      <td>3959</td>\n      <td>FLYZOOM</td>\n      <td>GLA</td>\n      <td>ZX</td>\n      <td>UKZ</td>\n      <td>UK</td>\n      <td>0</td>\n      <td>NaN</td>\n      <td>Zoom Airlines</td>\n      <td>United Kingdom</td>\n      <td>0</td>\n      <td>historical</td>\n      <td>charter</td>\n    </tr>\n    <tr>\n      <th>3958</th>\n      <td>0.0</td>\n      <td>3960</td>\n      <td>ADA AIR</td>\n      <td>TIA</td>\n      <td>ZY</td>\n      <td>ADE</td>\n      <td>AL</td>\n      <td>0</td>\n      <td>121.0</td>\n      <td>Ada Air</td>\n      <td>Albania</td>\n      <td>0</td>\n      <td>historical</td>\n      <td>scheduled</td>\n    </tr>\n    <tr>\n      <th>3959</th>\n      <td>0.0</td>\n      <td>3961</td>\n      <td>ANTALYA BIRD</td>\n      <td>AYT</td>\n      <td>ZY</td>\n      <td>SHY</td>\n      <td>TR</td>\n      <td>0</td>\n      <td>NaN</td>\n      <td>Sky Airlines</td>\n      <td>Turkey</td>\n      <td>0</td>\n      <td>active</td>\n      <td>scheduled</td>\n    </tr>\n  </tbody>\n</table>\n<p>2789 rows × 14 columns</p>\n</div>"
     },
     "execution_count": 148,
     "metadata": {},
     "output_type": "execute_result"
    }
   ],
   "source": [
    "df_airlines = pd.read_csv('./data/airlines.csv')\n",
    "df_airlines = df_airlines.rename(columns={\n",
    "    'codeIataAirline': 'airline.iataCode',\n",
    "    'codeIcaoAirline': 'airline.icaoCode'})\n",
    "df_airlines = df_airlines.dropna(subset=['airline.iataCode', 'airline.icaoCode'])\n",
    "df_airlines"
   ],
   "metadata": {
    "collapsed": false,
    "ExecuteTime": {
     "end_time": "2023-05-18T19:24:12.858424Z",
     "start_time": "2023-05-18T19:24:12.857282Z"
    }
   }
  },
  {
   "cell_type": "code",
   "execution_count": 149,
   "outputs": [],
   "source": [
    "df_real_time_flights = pd.merge(df_real_time_flights, df_airlines, how='left',\n",
    "                                left_on=['airline.iataCode', 'airline.icaoCode'],\n",
    "                                right_on=['airline.iataCode', 'airline.icaoCode'])\n",
    "\n",
    "now = datetime.datetime.now()\n",
    "\n",
    "# Format date and time as a string to be used in the filename\n",
    "datetime_string = now.strftime(\"%Y-%m-%d %H:%M:%S\")\n",
    "df_real_time_flights['date_EST'] = datetime_string"
   ],
   "metadata": {
    "collapsed": false,
    "ExecuteTime": {
     "end_time": "2023-05-18T19:24:12.858482Z",
     "start_time": "2023-05-18T19:24:12.857605Z"
    }
   }
  },
  {
   "cell_type": "code",
   "execution_count": 150,
   "outputs": [
    {
     "data": {
      "text/plain": "       status aircraft.iataCode aircraft.icao24 aircraft.icaoCode  \\\n0    en-route              B752          A8DF06              B752   \n1    en-route              B753          A77AE0              B753   \n2    en-route              B752          A8DE56              B752   \n3      landed              A321          A446B6              A321   \n4    en-route              A321          A41F37              A321   \n..        ...               ...             ...               ...   \n263  en-route              B77W          06A078              B77W   \n264  en-route              E55P          A390D5              E55P   \n265  en-route              B763          A49CE2              B763   \n266  en-route              A320          A81B2A              A320   \n267  en-route              A359          39CF00              A359   \n\n    aircraft.regNumber airline.iataCode airline.icaoCode arrival.iataCode  \\\n0               N6707A               DL              DAL              SNA   \n1               N581NW               DL              DAL              LAX   \n2                N6702               DL              DAL              FLL   \n3               N375DN               DL              DAL              PHX   \n4               N365DN               DL              DAL              PBI   \n..                 ...              ...              ...              ...   \n263             A7-BAK               QR              QTR              ATL   \n264             N329MC                                                ATL   \n265             N397AZ                                                ATL   \n266             N621NK               NK              NKS              ATL   \n267             F-HTYA               AF              AFR              ATL   \n\n    arrival.icaoCode departure.iataCode  ... codeHub codeIso2Country founding  \\\n0               KSNA                ATL  ...     ATL              US   1928.0   \n1               KLAX                ATL  ...     ATL              US   1928.0   \n2               KFLL                ATL  ...     ATL              US   1928.0   \n3               KPHX                ATL  ...     ATL              US   1928.0   \n4               KPBI                ATL  ...     ATL              US   1928.0   \n..               ...                ...  ...     ...             ...      ...   \n263             KATL                DOH  ...     DOH              QA   1994.0   \n264             KATL                PSF  ...     NaN             NaN      NaN   \n265             KATL                CVG  ...     NaN             NaN      NaN   \n266             KATL                ORD  ...     FLL              UM   1980.0   \n267             KATL                CDG  ...     CDG              FR   1933.0   \n\n    iataPrefixAccounting      nameAirline  \\\n0                    6.0  Delta Air Lines   \n1                    6.0  Delta Air Lines   \n2                    6.0  Delta Air Lines   \n3                    6.0  Delta Air Lines   \n4                    6.0  Delta Air Lines   \n..                   ...              ...   \n263                157.0    Qatar Airways   \n264                  NaN              NaN   \n265                  NaN              NaN   \n266                487.0  Spirit Airlines   \n267                 57.0       Air France   \n\n                              nameCountry  sizeAirline  statusAirline  \\\n0                           United States        823.0         active   \n1                           United States        823.0         active   \n2                           United States        823.0         active   \n3                           United States        823.0         active   \n4                           United States        823.0         active   \n..                                    ...          ...            ...   \n263                                 Qatar        176.0         active   \n264                                   NaN          NaN            NaN   \n265                                   NaN          NaN            NaN   \n266  United States Minor Outlying Islands         84.0         active   \n267                                France        226.0         active   \n\n                   type             date_EST  \n0    scheduled,division  2023-05-18 15:24:12  \n1    scheduled,division  2023-05-18 15:24:12  \n2    scheduled,division  2023-05-18 15:24:12  \n3    scheduled,division  2023-05-18 15:24:12  \n4    scheduled,division  2023-05-18 15:24:12  \n..                  ...                  ...  \n263           scheduled  2023-05-18 15:24:12  \n264                 NaN  2023-05-18 15:24:12  \n265                 NaN  2023-05-18 15:24:12  \n266           scheduled  2023-05-18 15:24:12  \n267           scheduled  2023-05-18 15:24:12  \n\n[268 rows x 54 columns]",
      "text/html": "<div>\n<style scoped>\n    .dataframe tbody tr th:only-of-type {\n        vertical-align: middle;\n    }\n\n    .dataframe tbody tr th {\n        vertical-align: top;\n    }\n\n    .dataframe thead th {\n        text-align: right;\n    }\n</style>\n<table border=\"1\" class=\"dataframe\">\n  <thead>\n    <tr style=\"text-align: right;\">\n      <th></th>\n      <th>status</th>\n      <th>aircraft.iataCode</th>\n      <th>aircraft.icao24</th>\n      <th>aircraft.icaoCode</th>\n      <th>aircraft.regNumber</th>\n      <th>airline.iataCode</th>\n      <th>airline.icaoCode</th>\n      <th>arrival.iataCode</th>\n      <th>arrival.icaoCode</th>\n      <th>departure.iataCode</th>\n      <th>...</th>\n      <th>codeHub</th>\n      <th>codeIso2Country</th>\n      <th>founding</th>\n      <th>iataPrefixAccounting</th>\n      <th>nameAirline</th>\n      <th>nameCountry</th>\n      <th>sizeAirline</th>\n      <th>statusAirline</th>\n      <th>type</th>\n      <th>date_EST</th>\n    </tr>\n  </thead>\n  <tbody>\n    <tr>\n      <th>0</th>\n      <td>en-route</td>\n      <td>B752</td>\n      <td>A8DF06</td>\n      <td>B752</td>\n      <td>N6707A</td>\n      <td>DL</td>\n      <td>DAL</td>\n      <td>SNA</td>\n      <td>KSNA</td>\n      <td>ATL</td>\n      <td>...</td>\n      <td>ATL</td>\n      <td>US</td>\n      <td>1928.0</td>\n      <td>6.0</td>\n      <td>Delta Air Lines</td>\n      <td>United States</td>\n      <td>823.0</td>\n      <td>active</td>\n      <td>scheduled,division</td>\n      <td>2023-05-18 15:24:12</td>\n    </tr>\n    <tr>\n      <th>1</th>\n      <td>en-route</td>\n      <td>B753</td>\n      <td>A77AE0</td>\n      <td>B753</td>\n      <td>N581NW</td>\n      <td>DL</td>\n      <td>DAL</td>\n      <td>LAX</td>\n      <td>KLAX</td>\n      <td>ATL</td>\n      <td>...</td>\n      <td>ATL</td>\n      <td>US</td>\n      <td>1928.0</td>\n      <td>6.0</td>\n      <td>Delta Air Lines</td>\n      <td>United States</td>\n      <td>823.0</td>\n      <td>active</td>\n      <td>scheduled,division</td>\n      <td>2023-05-18 15:24:12</td>\n    </tr>\n    <tr>\n      <th>2</th>\n      <td>en-route</td>\n      <td>B752</td>\n      <td>A8DE56</td>\n      <td>B752</td>\n      <td>N6702</td>\n      <td>DL</td>\n      <td>DAL</td>\n      <td>FLL</td>\n      <td>KFLL</td>\n      <td>ATL</td>\n      <td>...</td>\n      <td>ATL</td>\n      <td>US</td>\n      <td>1928.0</td>\n      <td>6.0</td>\n      <td>Delta Air Lines</td>\n      <td>United States</td>\n      <td>823.0</td>\n      <td>active</td>\n      <td>scheduled,division</td>\n      <td>2023-05-18 15:24:12</td>\n    </tr>\n    <tr>\n      <th>3</th>\n      <td>landed</td>\n      <td>A321</td>\n      <td>A446B6</td>\n      <td>A321</td>\n      <td>N375DN</td>\n      <td>DL</td>\n      <td>DAL</td>\n      <td>PHX</td>\n      <td>KPHX</td>\n      <td>ATL</td>\n      <td>...</td>\n      <td>ATL</td>\n      <td>US</td>\n      <td>1928.0</td>\n      <td>6.0</td>\n      <td>Delta Air Lines</td>\n      <td>United States</td>\n      <td>823.0</td>\n      <td>active</td>\n      <td>scheduled,division</td>\n      <td>2023-05-18 15:24:12</td>\n    </tr>\n    <tr>\n      <th>4</th>\n      <td>en-route</td>\n      <td>A321</td>\n      <td>A41F37</td>\n      <td>A321</td>\n      <td>N365DN</td>\n      <td>DL</td>\n      <td>DAL</td>\n      <td>PBI</td>\n      <td>KPBI</td>\n      <td>ATL</td>\n      <td>...</td>\n      <td>ATL</td>\n      <td>US</td>\n      <td>1928.0</td>\n      <td>6.0</td>\n      <td>Delta Air Lines</td>\n      <td>United States</td>\n      <td>823.0</td>\n      <td>active</td>\n      <td>scheduled,division</td>\n      <td>2023-05-18 15:24:12</td>\n    </tr>\n    <tr>\n      <th>...</th>\n      <td>...</td>\n      <td>...</td>\n      <td>...</td>\n      <td>...</td>\n      <td>...</td>\n      <td>...</td>\n      <td>...</td>\n      <td>...</td>\n      <td>...</td>\n      <td>...</td>\n      <td>...</td>\n      <td>...</td>\n      <td>...</td>\n      <td>...</td>\n      <td>...</td>\n      <td>...</td>\n      <td>...</td>\n      <td>...</td>\n      <td>...</td>\n      <td>...</td>\n      <td>...</td>\n    </tr>\n    <tr>\n      <th>263</th>\n      <td>en-route</td>\n      <td>B77W</td>\n      <td>06A078</td>\n      <td>B77W</td>\n      <td>A7-BAK</td>\n      <td>QR</td>\n      <td>QTR</td>\n      <td>ATL</td>\n      <td>KATL</td>\n      <td>DOH</td>\n      <td>...</td>\n      <td>DOH</td>\n      <td>QA</td>\n      <td>1994.0</td>\n      <td>157.0</td>\n      <td>Qatar Airways</td>\n      <td>Qatar</td>\n      <td>176.0</td>\n      <td>active</td>\n      <td>scheduled</td>\n      <td>2023-05-18 15:24:12</td>\n    </tr>\n    <tr>\n      <th>264</th>\n      <td>en-route</td>\n      <td>E55P</td>\n      <td>A390D5</td>\n      <td>E55P</td>\n      <td>N329MC</td>\n      <td></td>\n      <td></td>\n      <td>ATL</td>\n      <td>KATL</td>\n      <td>PSF</td>\n      <td>...</td>\n      <td>NaN</td>\n      <td>NaN</td>\n      <td>NaN</td>\n      <td>NaN</td>\n      <td>NaN</td>\n      <td>NaN</td>\n      <td>NaN</td>\n      <td>NaN</td>\n      <td>NaN</td>\n      <td>2023-05-18 15:24:12</td>\n    </tr>\n    <tr>\n      <th>265</th>\n      <td>en-route</td>\n      <td>B763</td>\n      <td>A49CE2</td>\n      <td>B763</td>\n      <td>N397AZ</td>\n      <td></td>\n      <td></td>\n      <td>ATL</td>\n      <td>KATL</td>\n      <td>CVG</td>\n      <td>...</td>\n      <td>NaN</td>\n      <td>NaN</td>\n      <td>NaN</td>\n      <td>NaN</td>\n      <td>NaN</td>\n      <td>NaN</td>\n      <td>NaN</td>\n      <td>NaN</td>\n      <td>NaN</td>\n      <td>2023-05-18 15:24:12</td>\n    </tr>\n    <tr>\n      <th>266</th>\n      <td>en-route</td>\n      <td>A320</td>\n      <td>A81B2A</td>\n      <td>A320</td>\n      <td>N621NK</td>\n      <td>NK</td>\n      <td>NKS</td>\n      <td>ATL</td>\n      <td>KATL</td>\n      <td>ORD</td>\n      <td>...</td>\n      <td>FLL</td>\n      <td>UM</td>\n      <td>1980.0</td>\n      <td>487.0</td>\n      <td>Spirit Airlines</td>\n      <td>United States Minor Outlying Islands</td>\n      <td>84.0</td>\n      <td>active</td>\n      <td>scheduled</td>\n      <td>2023-05-18 15:24:12</td>\n    </tr>\n    <tr>\n      <th>267</th>\n      <td>en-route</td>\n      <td>A359</td>\n      <td>39CF00</td>\n      <td>A359</td>\n      <td>F-HTYA</td>\n      <td>AF</td>\n      <td>AFR</td>\n      <td>ATL</td>\n      <td>KATL</td>\n      <td>CDG</td>\n      <td>...</td>\n      <td>CDG</td>\n      <td>FR</td>\n      <td>1933.0</td>\n      <td>57.0</td>\n      <td>Air France</td>\n      <td>France</td>\n      <td>226.0</td>\n      <td>active</td>\n      <td>scheduled</td>\n      <td>2023-05-18 15:24:12</td>\n    </tr>\n  </tbody>\n</table>\n<p>268 rows × 54 columns</p>\n</div>"
     },
     "execution_count": 150,
     "metadata": {},
     "output_type": "execute_result"
    }
   ],
   "source": [
    "df_real_time_flights"
   ],
   "metadata": {
    "collapsed": false,
    "ExecuteTime": {
     "end_time": "2023-05-18T19:24:12.858585Z",
     "start_time": "2023-05-18T19:24:12.858088Z"
    }
   }
  },
  {
   "cell_type": "code",
   "execution_count": 151,
   "outputs": [],
   "source": [
    "df_real_time_flights = df_real_time_flights.drop(columns=['speed.vspeed', 'system.squawk', 'system.updated', 'ageFleet', 'founding', 'iataPrefixAccounting', 'type'])\n",
    "\n",
    "\n",
    "df_real_time_flights = df_real_time_flights[['date_EST',\n",
    "                                           'status',\n",
    "                                           'aircraft.iataCode',\n",
    "                                           'aircraft.icao24',\n",
    "                                           'aircraft.icaoCode',\n",
    "                                           'aircraft.regNumber',\n",
    "                                           'airline.iataCode',\n",
    "                                           'airline.icaoCode',\n",
    "                                           'nameAirline',\n",
    "                                           'flight.iataNumber',\n",
    "                                           'flight.icaoNumber',\n",
    "                                           'geography.altitude',\n",
    "                                           'geography.direction',\n",
    "                                           'geography.latitude',\n",
    "                                           'geography.longitude',\n",
    "                                           'speed.horizontal',\n",
    "                                           'speed.isGround',\n",
    "                                           'departure.airportId',\n",
    "                                           'departure.nameAirport',\n",
    "                                           'departure.iataCode',\n",
    "                                           'departure.icaoCode',\n",
    "                                           'departure.codeIataCity',\n",
    "                                           'departure.codeIso2Country',\n",
    "                                           'departure.nameCountry',\n",
    "                                           'departure.latitudeAirport',\n",
    "                                           'departure.longitudeAirport',\n",
    "                                           'departure.timezone',\n",
    "                                           'arrival.airportId',\n",
    "                                           'arrival.nameAirport',\n",
    "                                           'arrival.iataCode',\n",
    "                                           'arrival.icaoCode',\n",
    "                                           'arrival.codeIataCity',\n",
    "                                           'arrival.codeIso2Country',\n",
    "                                           'arrival.nameCountry',\n",
    "                                           'arrival.latitudeAirport',\n",
    "                                           'arrival.longitudeAirport',\n",
    "                                           'arrival.timezone']]\n"
   ],
   "metadata": {
    "collapsed": false,
    "ExecuteTime": {
     "end_time": "2023-05-18T19:24:13.077519Z",
     "start_time": "2023-05-18T19:24:12.858654Z"
    }
   }
  },
  {
   "cell_type": "code",
   "execution_count": 152,
   "outputs": [
    {
     "data": {
      "text/plain": "                date_EST    status aircraft.iataCode aircraft.icao24  \\\n0    2023-05-18 15:24:12  en-route              B752          A8DF06   \n1    2023-05-18 15:24:12  en-route              B753          A77AE0   \n2    2023-05-18 15:24:12  en-route              B752          A8DE56   \n3    2023-05-18 15:24:12    landed              A321          A446B6   \n4    2023-05-18 15:24:12  en-route              A321          A41F37   \n..                   ...       ...               ...             ...   \n263  2023-05-18 15:24:12  en-route              B77W          06A078   \n264  2023-05-18 15:24:12  en-route              E55P          A390D5   \n265  2023-05-18 15:24:12  en-route              B763          A49CE2   \n266  2023-05-18 15:24:12  en-route              A320          A81B2A   \n267  2023-05-18 15:24:12  en-route              A359          39CF00   \n\n    aircraft.icaoCode aircraft.regNumber airline.iataCode airline.icaoCode  \\\n0                B752             N6707A               DL              DAL   \n1                B753             N581NW               DL              DAL   \n2                B752              N6702               DL              DAL   \n3                A321             N375DN               DL              DAL   \n4                A321             N365DN               DL              DAL   \n..                ...                ...              ...              ...   \n263              B77W             A7-BAK               QR              QTR   \n264              E55P             N329MC                                     \n265              B763             N397AZ                                     \n266              A320             N621NK               NK              NKS   \n267              A359             F-HTYA               AF              AFR   \n\n         nameAirline flight.iataNumber  ... arrival.airportId  \\\n0    Delta Air Lines             DL447  ...            7224.0   \n1    Delta Air Lines             DL895  ...            4189.0   \n2    Delta Air Lines            DL1375  ...            2344.0   \n3    Delta Air Lines             DL796  ...            6100.0   \n4    Delta Air Lines            DL1173  ...            5966.0   \n..               ...               ...  ...               ...   \n263    Qatar Airways             QR755  ...             411.0   \n264              NaN               XXD  ...             411.0   \n265              NaN            8C3434  ...             411.0   \n266  Spirit Airlines            NK1784  ...             411.0   \n267       Air France             AF686  ...             411.0   \n\n                          arrival.nameAirport  arrival.iataCode  \\\n0                                  John Wayne               SNA   \n1                   Los Angeles International               LAX   \n2     Fort Lauderdale–Hollywood International               FLL   \n3                    Sky Harbor International               PHX   \n4            Palm Beach International Airport               PBI   \n..                                        ...               ...   \n263  Hartsfield-jackson Atlanta International               ATL   \n264  Hartsfield-jackson Atlanta International               ATL   \n265  Hartsfield-jackson Atlanta International               ATL   \n266  Hartsfield-jackson Atlanta International               ATL   \n267  Hartsfield-jackson Atlanta International               ATL   \n\n     arrival.icaoCode  arrival.codeIataCity  arrival.codeIso2Country  \\\n0                KSNA                   SNA                       US   \n1                KLAX                   LAX                       US   \n2                KFLL                   FLL                       US   \n3                KPHX                   PHX                       US   \n4                KPBI                   PBI                       US   \n..                ...                   ...                      ...   \n263              KATL                   ATL                       US   \n264              KATL                   ATL                       US   \n265              KATL                   ATL                       US   \n266              KATL                   ATL                       US   \n267              KATL                   ATL                       US   \n\n     arrival.nameCountry  arrival.latitudeAirport arrival.longitudeAirport  \\\n0          United States                33.680202              -117.860535   \n1          United States                33.943398              -118.408280   \n2          United States                26.071491               -80.144905   \n3          United States                33.435036              -112.000160   \n4          United States                26.688885               -80.090440   \n..                   ...                      ...                      ...   \n263        United States                33.640068               -84.444030   \n264        United States                33.640068               -84.444030   \n265        United States                33.640068               -84.444030   \n266        United States                33.640068               -84.444030   \n267        United States                33.640068               -84.444030   \n\n        arrival.timezone  \n0    America/Los_Angeles  \n1    America/Los_Angeles  \n2       America/New_York  \n3        America/Phoenix  \n4       America/New_York  \n..                   ...  \n263     America/New_York  \n264     America/New_York  \n265     America/New_York  \n266     America/New_York  \n267     America/New_York  \n\n[268 rows x 37 columns]",
      "text/html": "<div>\n<style scoped>\n    .dataframe tbody tr th:only-of-type {\n        vertical-align: middle;\n    }\n\n    .dataframe tbody tr th {\n        vertical-align: top;\n    }\n\n    .dataframe thead th {\n        text-align: right;\n    }\n</style>\n<table border=\"1\" class=\"dataframe\">\n  <thead>\n    <tr style=\"text-align: right;\">\n      <th></th>\n      <th>date_EST</th>\n      <th>status</th>\n      <th>aircraft.iataCode</th>\n      <th>aircraft.icao24</th>\n      <th>aircraft.icaoCode</th>\n      <th>aircraft.regNumber</th>\n      <th>airline.iataCode</th>\n      <th>airline.icaoCode</th>\n      <th>nameAirline</th>\n      <th>flight.iataNumber</th>\n      <th>...</th>\n      <th>arrival.airportId</th>\n      <th>arrival.nameAirport</th>\n      <th>arrival.iataCode</th>\n      <th>arrival.icaoCode</th>\n      <th>arrival.codeIataCity</th>\n      <th>arrival.codeIso2Country</th>\n      <th>arrival.nameCountry</th>\n      <th>arrival.latitudeAirport</th>\n      <th>arrival.longitudeAirport</th>\n      <th>arrival.timezone</th>\n    </tr>\n  </thead>\n  <tbody>\n    <tr>\n      <th>0</th>\n      <td>2023-05-18 15:24:12</td>\n      <td>en-route</td>\n      <td>B752</td>\n      <td>A8DF06</td>\n      <td>B752</td>\n      <td>N6707A</td>\n      <td>DL</td>\n      <td>DAL</td>\n      <td>Delta Air Lines</td>\n      <td>DL447</td>\n      <td>...</td>\n      <td>7224.0</td>\n      <td>John Wayne</td>\n      <td>SNA</td>\n      <td>KSNA</td>\n      <td>SNA</td>\n      <td>US</td>\n      <td>United States</td>\n      <td>33.680202</td>\n      <td>-117.860535</td>\n      <td>America/Los_Angeles</td>\n    </tr>\n    <tr>\n      <th>1</th>\n      <td>2023-05-18 15:24:12</td>\n      <td>en-route</td>\n      <td>B753</td>\n      <td>A77AE0</td>\n      <td>B753</td>\n      <td>N581NW</td>\n      <td>DL</td>\n      <td>DAL</td>\n      <td>Delta Air Lines</td>\n      <td>DL895</td>\n      <td>...</td>\n      <td>4189.0</td>\n      <td>Los Angeles International</td>\n      <td>LAX</td>\n      <td>KLAX</td>\n      <td>LAX</td>\n      <td>US</td>\n      <td>United States</td>\n      <td>33.943398</td>\n      <td>-118.408280</td>\n      <td>America/Los_Angeles</td>\n    </tr>\n    <tr>\n      <th>2</th>\n      <td>2023-05-18 15:24:12</td>\n      <td>en-route</td>\n      <td>B752</td>\n      <td>A8DE56</td>\n      <td>B752</td>\n      <td>N6702</td>\n      <td>DL</td>\n      <td>DAL</td>\n      <td>Delta Air Lines</td>\n      <td>DL1375</td>\n      <td>...</td>\n      <td>2344.0</td>\n      <td>Fort Lauderdale–Hollywood International</td>\n      <td>FLL</td>\n      <td>KFLL</td>\n      <td>FLL</td>\n      <td>US</td>\n      <td>United States</td>\n      <td>26.071491</td>\n      <td>-80.144905</td>\n      <td>America/New_York</td>\n    </tr>\n    <tr>\n      <th>3</th>\n      <td>2023-05-18 15:24:12</td>\n      <td>landed</td>\n      <td>A321</td>\n      <td>A446B6</td>\n      <td>A321</td>\n      <td>N375DN</td>\n      <td>DL</td>\n      <td>DAL</td>\n      <td>Delta Air Lines</td>\n      <td>DL796</td>\n      <td>...</td>\n      <td>6100.0</td>\n      <td>Sky Harbor International</td>\n      <td>PHX</td>\n      <td>KPHX</td>\n      <td>PHX</td>\n      <td>US</td>\n      <td>United States</td>\n      <td>33.435036</td>\n      <td>-112.000160</td>\n      <td>America/Phoenix</td>\n    </tr>\n    <tr>\n      <th>4</th>\n      <td>2023-05-18 15:24:12</td>\n      <td>en-route</td>\n      <td>A321</td>\n      <td>A41F37</td>\n      <td>A321</td>\n      <td>N365DN</td>\n      <td>DL</td>\n      <td>DAL</td>\n      <td>Delta Air Lines</td>\n      <td>DL1173</td>\n      <td>...</td>\n      <td>5966.0</td>\n      <td>Palm Beach International Airport</td>\n      <td>PBI</td>\n      <td>KPBI</td>\n      <td>PBI</td>\n      <td>US</td>\n      <td>United States</td>\n      <td>26.688885</td>\n      <td>-80.090440</td>\n      <td>America/New_York</td>\n    </tr>\n    <tr>\n      <th>...</th>\n      <td>...</td>\n      <td>...</td>\n      <td>...</td>\n      <td>...</td>\n      <td>...</td>\n      <td>...</td>\n      <td>...</td>\n      <td>...</td>\n      <td>...</td>\n      <td>...</td>\n      <td>...</td>\n      <td>...</td>\n      <td>...</td>\n      <td>...</td>\n      <td>...</td>\n      <td>...</td>\n      <td>...</td>\n      <td>...</td>\n      <td>...</td>\n      <td>...</td>\n      <td>...</td>\n    </tr>\n    <tr>\n      <th>263</th>\n      <td>2023-05-18 15:24:12</td>\n      <td>en-route</td>\n      <td>B77W</td>\n      <td>06A078</td>\n      <td>B77W</td>\n      <td>A7-BAK</td>\n      <td>QR</td>\n      <td>QTR</td>\n      <td>Qatar Airways</td>\n      <td>QR755</td>\n      <td>...</td>\n      <td>411.0</td>\n      <td>Hartsfield-jackson Atlanta International</td>\n      <td>ATL</td>\n      <td>KATL</td>\n      <td>ATL</td>\n      <td>US</td>\n      <td>United States</td>\n      <td>33.640068</td>\n      <td>-84.444030</td>\n      <td>America/New_York</td>\n    </tr>\n    <tr>\n      <th>264</th>\n      <td>2023-05-18 15:24:12</td>\n      <td>en-route</td>\n      <td>E55P</td>\n      <td>A390D5</td>\n      <td>E55P</td>\n      <td>N329MC</td>\n      <td></td>\n      <td></td>\n      <td>NaN</td>\n      <td>XXD</td>\n      <td>...</td>\n      <td>411.0</td>\n      <td>Hartsfield-jackson Atlanta International</td>\n      <td>ATL</td>\n      <td>KATL</td>\n      <td>ATL</td>\n      <td>US</td>\n      <td>United States</td>\n      <td>33.640068</td>\n      <td>-84.444030</td>\n      <td>America/New_York</td>\n    </tr>\n    <tr>\n      <th>265</th>\n      <td>2023-05-18 15:24:12</td>\n      <td>en-route</td>\n      <td>B763</td>\n      <td>A49CE2</td>\n      <td>B763</td>\n      <td>N397AZ</td>\n      <td></td>\n      <td></td>\n      <td>NaN</td>\n      <td>8C3434</td>\n      <td>...</td>\n      <td>411.0</td>\n      <td>Hartsfield-jackson Atlanta International</td>\n      <td>ATL</td>\n      <td>KATL</td>\n      <td>ATL</td>\n      <td>US</td>\n      <td>United States</td>\n      <td>33.640068</td>\n      <td>-84.444030</td>\n      <td>America/New_York</td>\n    </tr>\n    <tr>\n      <th>266</th>\n      <td>2023-05-18 15:24:12</td>\n      <td>en-route</td>\n      <td>A320</td>\n      <td>A81B2A</td>\n      <td>A320</td>\n      <td>N621NK</td>\n      <td>NK</td>\n      <td>NKS</td>\n      <td>Spirit Airlines</td>\n      <td>NK1784</td>\n      <td>...</td>\n      <td>411.0</td>\n      <td>Hartsfield-jackson Atlanta International</td>\n      <td>ATL</td>\n      <td>KATL</td>\n      <td>ATL</td>\n      <td>US</td>\n      <td>United States</td>\n      <td>33.640068</td>\n      <td>-84.444030</td>\n      <td>America/New_York</td>\n    </tr>\n    <tr>\n      <th>267</th>\n      <td>2023-05-18 15:24:12</td>\n      <td>en-route</td>\n      <td>A359</td>\n      <td>39CF00</td>\n      <td>A359</td>\n      <td>F-HTYA</td>\n      <td>AF</td>\n      <td>AFR</td>\n      <td>Air France</td>\n      <td>AF686</td>\n      <td>...</td>\n      <td>411.0</td>\n      <td>Hartsfield-jackson Atlanta International</td>\n      <td>ATL</td>\n      <td>KATL</td>\n      <td>ATL</td>\n      <td>US</td>\n      <td>United States</td>\n      <td>33.640068</td>\n      <td>-84.444030</td>\n      <td>America/New_York</td>\n    </tr>\n  </tbody>\n</table>\n<p>268 rows × 37 columns</p>\n</div>"
     },
     "execution_count": 152,
     "metadata": {},
     "output_type": "execute_result"
    }
   ],
   "source": [
    "df_real_time_flights"
   ],
   "metadata": {
    "collapsed": false,
    "ExecuteTime": {
     "end_time": "2023-05-18T19:24:13.077978Z",
     "start_time": "2023-05-18T19:24:12.858729Z"
    }
   }
  },
  {
   "cell_type": "code",
   "execution_count": 153,
   "outputs": [],
   "source": [
    "# Get current date and time\n",
    "now = datetime.datetime.now()\n",
    "\n",
    "# Format date and time as a string to be used in the filename\n",
    "datetime_string = now.strftime(\"%Y-%m-%d_%H-%M-%S\")\n",
    "\n",
    "year = now.strftime(\"%Y\")\n",
    "month = now.strftime(\"%m\")\n",
    "day = now.strftime(\"%d\")\n",
    "\n",
    "dir_path = f'./data/real_time/{year}/{month}/{day}/'\n",
    "os.makedirs(dir_path, exist_ok=True)\n",
    "# Create filename with date and time\n",
    "filename = f'{dir_path}{datetime_string}_df_real_time_flights.csv'\n",
    "\n",
    "# Export DataFrame to CSV\n",
    "df_real_time_flights.to_csv(filename, index=False)\n"
   ],
   "metadata": {
    "collapsed": false,
    "ExecuteTime": {
     "end_time": "2023-05-18T19:24:13.078025Z",
     "start_time": "2023-05-18T19:24:12.858886Z"
    }
   }
  },
  {
   "cell_type": "code",
   "execution_count": 153,
   "outputs": [],
   "source": [],
   "metadata": {
    "collapsed": false,
    "ExecuteTime": {
     "end_time": "2023-05-18T19:24:13.078062Z",
     "start_time": "2023-05-18T19:24:12.858937Z"
    }
   }
  }
 ],
 "metadata": {
  "kernelspec": {
   "display_name": "Python 3",
   "language": "python",
   "name": "python3"
  },
  "language_info": {
   "codemirror_mode": {
    "name": "ipython",
    "version": 2
   },
   "file_extension": ".py",
   "mimetype": "text/x-python",
   "name": "python",
   "nbconvert_exporter": "python",
   "pygments_lexer": "ipython2",
   "version": "2.7.6"
  }
 },
 "nbformat": 4,
 "nbformat_minor": 0
}
