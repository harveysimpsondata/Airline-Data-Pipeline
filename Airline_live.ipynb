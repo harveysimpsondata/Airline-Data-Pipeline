{
 "cells": [
  {
   "cell_type": "code",
   "execution_count": 188,
   "outputs": [],
   "source": [
    "import http.client\n",
    "import config\n",
    "import pandas as pd\n",
    "import json\n",
    "import datetime\n",
    "import os\n",
    "import folium"
   ],
   "metadata": {
    "collapsed": false,
    "ExecuteTime": {
     "end_time": "2023-05-18T20:29:12.778280Z",
     "start_time": "2023-05-18T20:29:12.765958Z"
    }
   }
  },
  {
   "cell_type": "code",
   "execution_count": 189,
   "metadata": {
    "collapsed": true,
    "ExecuteTime": {
     "end_time": "2023-05-18T20:29:14.031907Z",
     "start_time": "2023-05-18T20:29:12.767880Z"
    }
   },
   "outputs": [],
   "source": [
    "conn1 = http.client.HTTPSConnection(\"app.goflightlabs.com\")\n",
    "conn2 = http.client.HTTPSConnection(\"app.goflightlabs.com\")\n",
    "\n",
    "conn1.request(\"GET\", f\"/flights?access_key={config.api_key}&arrIata=ATL\")\n",
    "conn2.request(\"GET\", f\"/flights?access_key={config.api_key}&depIata=ATL\")\n",
    "\n",
    "real_time_arrivals = conn1.getresponse().read().decode('utf-8')\n",
    "real_time_arrivals = json.loads(real_time_arrivals)\n",
    "\n",
    "real_time_departures = conn2.getresponse().read().decode('utf-8')\n",
    "real_time_departures = json.loads(real_time_departures)"
   ]
  },
  {
   "cell_type": "code",
   "execution_count": 190,
   "outputs": [],
   "source": [
    "df_real_time_departures = pd.json_normalize(real_time_departures['data'])\n",
    "df_real_time_arrivals = pd.json_normalize(real_time_arrivals['data'])\n",
    "df_real_time_flights = pd.concat([df_real_time_departures, df_real_time_arrivals])"
   ],
   "metadata": {
    "collapsed": false,
    "ExecuteTime": {
     "end_time": "2023-05-18T20:29:14.044357Z",
     "start_time": "2023-05-18T20:29:14.036445Z"
    }
   }
  },
  {
   "cell_type": "code",
   "execution_count": 191,
   "outputs": [
    {
     "data": {
      "text/plain": "       status aircraft.iataCode aircraft.icao24 aircraft.icaoCode  \\\n0    en-route              B753          A77AE0              B753   \n1    en-route              B752          A8DE56              B752   \n2     unknown              A321          A41F37              A321   \n3    en-route              A321          A44308              A321   \n4    en-route              B753          A78605              B753   \n..        ...               ...             ...               ...   \n153  en-route              A320          A81B2A              A320   \n154  en-route              E75S          A00CE0              E75S   \n155  en-route              A359          39CF00              A359   \n156  en-route              A20N          AD73A6              A20N   \n157   started              A20N          A42323              A20N   \n\n    aircraft.regNumber airline.iataCode airline.icaoCode arrival.iataCode  \\\n0               N581NW               DL              DAL              LAX   \n1                N6702               DL              DAL              FLL   \n2               N365DN               DL              DAL              PBI   \n3               N374DX               DL              DAL              SLC   \n4               N584NW               DL              DAL              SAN   \n..                 ...              ...              ...              ...   \n153             N621NK               NK              NKS              ATL   \n154             N102HQ               AA              AAL              ATL   \n155             F-HTYA               AF              AFR              ATL   \n156             N966NK               NK              NKS              ATL   \n157             N366FR               F9              FFT              ATL   \n\n    arrival.icaoCode departure.iataCode  ... flight.number geography.altitude  \\\n0               KLAX                ATL  ...           895           10972.80   \n1               KFLL                ATL  ...          1375            1836.42   \n2               KPBI                ATL  ...          1173             609.60   \n3               KSLC                ATL  ...           423           10363.20   \n4               KSAN                ATL  ...           843            9753.60   \n..               ...                ...  ...           ...                ...   \n153             KATL                ORD  ...          1784            2720.34   \n154             KATL                PHL  ...          4250            9144.00   \n155             KATL                CDG  ...           686           11581.20   \n156             KATL                LAS  ...           271           11216.60   \n157             KATL                TTN  ...           861               0.00   \n\n    geography.direction geography.latitude  geography.longitude  \\\n0                   261              34.65              -112.95   \n1                    84              26.06               -80.81   \n2                    93              26.69               -80.22   \n3                   293              39.52               -98.06   \n4                   282              36.13               -86.71   \n..                  ...                ...                  ...   \n153                 175              33.89               -84.83   \n154                 227              37.43               -79.76   \n155                 257              49.37               -45.44   \n156                  85              36.22              -110.59   \n157                  50              40.28               -74.82   \n\n     speed.horizontal  speed.isGround  speed.vspeed  system.squawk  \\\n0             840.808               0             0           None   \n1             531.524               0             0           None   \n2             344.472               0             0           None   \n3             766.728               0             0           None   \n4             831.548               0             0           None   \n..                ...             ...           ...            ...   \n153           446.332               0             0           None   \n154           777.840               0             0           None   \n155           807.472               0             0           None   \n156           866.736               0             0           None   \n157            20.372               1             0           None   \n\n     system.updated  \n0        1684440956  \n1        1684440677  \n2        1684440603  \n3        1684440994  \n4        1684440973  \n..              ...  \n153      1684440388  \n154      1684440387  \n155      1684440400  \n156      1684440668  \n157      1684440686  \n\n[286 rows x 23 columns]",
      "text/html": "<div>\n<style scoped>\n    .dataframe tbody tr th:only-of-type {\n        vertical-align: middle;\n    }\n\n    .dataframe tbody tr th {\n        vertical-align: top;\n    }\n\n    .dataframe thead th {\n        text-align: right;\n    }\n</style>\n<table border=\"1\" class=\"dataframe\">\n  <thead>\n    <tr style=\"text-align: right;\">\n      <th></th>\n      <th>status</th>\n      <th>aircraft.iataCode</th>\n      <th>aircraft.icao24</th>\n      <th>aircraft.icaoCode</th>\n      <th>aircraft.regNumber</th>\n      <th>airline.iataCode</th>\n      <th>airline.icaoCode</th>\n      <th>arrival.iataCode</th>\n      <th>arrival.icaoCode</th>\n      <th>departure.iataCode</th>\n      <th>...</th>\n      <th>flight.number</th>\n      <th>geography.altitude</th>\n      <th>geography.direction</th>\n      <th>geography.latitude</th>\n      <th>geography.longitude</th>\n      <th>speed.horizontal</th>\n      <th>speed.isGround</th>\n      <th>speed.vspeed</th>\n      <th>system.squawk</th>\n      <th>system.updated</th>\n    </tr>\n  </thead>\n  <tbody>\n    <tr>\n      <th>0</th>\n      <td>en-route</td>\n      <td>B753</td>\n      <td>A77AE0</td>\n      <td>B753</td>\n      <td>N581NW</td>\n      <td>DL</td>\n      <td>DAL</td>\n      <td>LAX</td>\n      <td>KLAX</td>\n      <td>ATL</td>\n      <td>...</td>\n      <td>895</td>\n      <td>10972.80</td>\n      <td>261</td>\n      <td>34.65</td>\n      <td>-112.95</td>\n      <td>840.808</td>\n      <td>0</td>\n      <td>0</td>\n      <td>None</td>\n      <td>1684440956</td>\n    </tr>\n    <tr>\n      <th>1</th>\n      <td>en-route</td>\n      <td>B752</td>\n      <td>A8DE56</td>\n      <td>B752</td>\n      <td>N6702</td>\n      <td>DL</td>\n      <td>DAL</td>\n      <td>FLL</td>\n      <td>KFLL</td>\n      <td>ATL</td>\n      <td>...</td>\n      <td>1375</td>\n      <td>1836.42</td>\n      <td>84</td>\n      <td>26.06</td>\n      <td>-80.81</td>\n      <td>531.524</td>\n      <td>0</td>\n      <td>0</td>\n      <td>None</td>\n      <td>1684440677</td>\n    </tr>\n    <tr>\n      <th>2</th>\n      <td>unknown</td>\n      <td>A321</td>\n      <td>A41F37</td>\n      <td>A321</td>\n      <td>N365DN</td>\n      <td>DL</td>\n      <td>DAL</td>\n      <td>PBI</td>\n      <td>KPBI</td>\n      <td>ATL</td>\n      <td>...</td>\n      <td>1173</td>\n      <td>609.60</td>\n      <td>93</td>\n      <td>26.69</td>\n      <td>-80.22</td>\n      <td>344.472</td>\n      <td>0</td>\n      <td>0</td>\n      <td>None</td>\n      <td>1684440603</td>\n    </tr>\n    <tr>\n      <th>3</th>\n      <td>en-route</td>\n      <td>A321</td>\n      <td>A44308</td>\n      <td>A321</td>\n      <td>N374DX</td>\n      <td>DL</td>\n      <td>DAL</td>\n      <td>SLC</td>\n      <td>KSLC</td>\n      <td>ATL</td>\n      <td>...</td>\n      <td>423</td>\n      <td>10363.20</td>\n      <td>293</td>\n      <td>39.52</td>\n      <td>-98.06</td>\n      <td>766.728</td>\n      <td>0</td>\n      <td>0</td>\n      <td>None</td>\n      <td>1684440994</td>\n    </tr>\n    <tr>\n      <th>4</th>\n      <td>en-route</td>\n      <td>B753</td>\n      <td>A78605</td>\n      <td>B753</td>\n      <td>N584NW</td>\n      <td>DL</td>\n      <td>DAL</td>\n      <td>SAN</td>\n      <td>KSAN</td>\n      <td>ATL</td>\n      <td>...</td>\n      <td>843</td>\n      <td>9753.60</td>\n      <td>282</td>\n      <td>36.13</td>\n      <td>-86.71</td>\n      <td>831.548</td>\n      <td>0</td>\n      <td>0</td>\n      <td>None</td>\n      <td>1684440973</td>\n    </tr>\n    <tr>\n      <th>...</th>\n      <td>...</td>\n      <td>...</td>\n      <td>...</td>\n      <td>...</td>\n      <td>...</td>\n      <td>...</td>\n      <td>...</td>\n      <td>...</td>\n      <td>...</td>\n      <td>...</td>\n      <td>...</td>\n      <td>...</td>\n      <td>...</td>\n      <td>...</td>\n      <td>...</td>\n      <td>...</td>\n      <td>...</td>\n      <td>...</td>\n      <td>...</td>\n      <td>...</td>\n      <td>...</td>\n    </tr>\n    <tr>\n      <th>153</th>\n      <td>en-route</td>\n      <td>A320</td>\n      <td>A81B2A</td>\n      <td>A320</td>\n      <td>N621NK</td>\n      <td>NK</td>\n      <td>NKS</td>\n      <td>ATL</td>\n      <td>KATL</td>\n      <td>ORD</td>\n      <td>...</td>\n      <td>1784</td>\n      <td>2720.34</td>\n      <td>175</td>\n      <td>33.89</td>\n      <td>-84.83</td>\n      <td>446.332</td>\n      <td>0</td>\n      <td>0</td>\n      <td>None</td>\n      <td>1684440388</td>\n    </tr>\n    <tr>\n      <th>154</th>\n      <td>en-route</td>\n      <td>E75S</td>\n      <td>A00CE0</td>\n      <td>E75S</td>\n      <td>N102HQ</td>\n      <td>AA</td>\n      <td>AAL</td>\n      <td>ATL</td>\n      <td>KATL</td>\n      <td>PHL</td>\n      <td>...</td>\n      <td>4250</td>\n      <td>9144.00</td>\n      <td>227</td>\n      <td>37.43</td>\n      <td>-79.76</td>\n      <td>777.840</td>\n      <td>0</td>\n      <td>0</td>\n      <td>None</td>\n      <td>1684440387</td>\n    </tr>\n    <tr>\n      <th>155</th>\n      <td>en-route</td>\n      <td>A359</td>\n      <td>39CF00</td>\n      <td>A359</td>\n      <td>F-HTYA</td>\n      <td>AF</td>\n      <td>AFR</td>\n      <td>ATL</td>\n      <td>KATL</td>\n      <td>CDG</td>\n      <td>...</td>\n      <td>686</td>\n      <td>11581.20</td>\n      <td>257</td>\n      <td>49.37</td>\n      <td>-45.44</td>\n      <td>807.472</td>\n      <td>0</td>\n      <td>0</td>\n      <td>None</td>\n      <td>1684440400</td>\n    </tr>\n    <tr>\n      <th>156</th>\n      <td>en-route</td>\n      <td>A20N</td>\n      <td>AD73A6</td>\n      <td>A20N</td>\n      <td>N966NK</td>\n      <td>NK</td>\n      <td>NKS</td>\n      <td>ATL</td>\n      <td>KATL</td>\n      <td>LAS</td>\n      <td>...</td>\n      <td>271</td>\n      <td>11216.60</td>\n      <td>85</td>\n      <td>36.22</td>\n      <td>-110.59</td>\n      <td>866.736</td>\n      <td>0</td>\n      <td>0</td>\n      <td>None</td>\n      <td>1684440668</td>\n    </tr>\n    <tr>\n      <th>157</th>\n      <td>started</td>\n      <td>A20N</td>\n      <td>A42323</td>\n      <td>A20N</td>\n      <td>N366FR</td>\n      <td>F9</td>\n      <td>FFT</td>\n      <td>ATL</td>\n      <td>KATL</td>\n      <td>TTN</td>\n      <td>...</td>\n      <td>861</td>\n      <td>0.00</td>\n      <td>50</td>\n      <td>40.28</td>\n      <td>-74.82</td>\n      <td>20.372</td>\n      <td>1</td>\n      <td>0</td>\n      <td>None</td>\n      <td>1684440686</td>\n    </tr>\n  </tbody>\n</table>\n<p>286 rows × 23 columns</p>\n</div>"
     },
     "execution_count": 191,
     "metadata": {},
     "output_type": "execute_result"
    }
   ],
   "source": [
    "df_real_time_flights"
   ],
   "metadata": {
    "collapsed": false,
    "ExecuteTime": {
     "end_time": "2023-05-18T20:29:14.060914Z",
     "start_time": "2023-05-18T20:29:14.057212Z"
    }
   }
  },
  {
   "cell_type": "code",
   "execution_count": 192,
   "outputs": [],
   "source": [
    "df_airports = pd.read_csv('./data/airports.csv')"
   ],
   "metadata": {
    "collapsed": false,
    "ExecuteTime": {
     "end_time": "2023-05-18T20:29:14.087071Z",
     "start_time": "2023-05-18T20:29:14.062606Z"
    }
   }
  },
  {
   "cell_type": "code",
   "execution_count": 193,
   "outputs": [],
   "source": [
    "df_airports_arrival = df_airports.rename(columns={\n",
    "    'airportId': 'arrival.airportId',\n",
    "    'codeIataAirport': 'arrival.iataCode',\n",
    "    'codeIataCity': 'arrival.codeIataCity',\n",
    "    'codeIcaoAirport': 'arrival.codeIcaoAirport',\n",
    "    'codeIso2Country': 'arrival.codeIso2Country',\n",
    "    'latitudeAirport': 'arrival.latitudeAirport',\n",
    "    'longitudeAirport': 'arrival.longitudeAirport',\n",
    "    'nameAirport': 'arrival.nameAirport',\n",
    "    'nameCountry': 'arrival.nameCountry',\n",
    "    'timezone': 'arrival.timezone'\n",
    "})\n",
    "\n",
    "df_airports_arrival = df_airports_arrival.drop(columns=['GMT', 'geonameId','phone'])\n"
   ],
   "metadata": {
    "collapsed": false,
    "ExecuteTime": {
     "end_time": "2023-05-18T20:29:14.104942Z",
     "start_time": "2023-05-18T20:29:14.085268Z"
    }
   }
  },
  {
   "cell_type": "code",
   "execution_count": 194,
   "outputs": [],
   "source": [
    "df_real_time_flights = pd.merge(df_real_time_flights, df_airports_arrival, how='left', on='arrival.iataCode')"
   ],
   "metadata": {
    "collapsed": false,
    "ExecuteTime": {
     "end_time": "2023-05-18T20:29:14.151004Z",
     "start_time": "2023-05-18T20:29:14.105128Z"
    }
   }
  },
  {
   "cell_type": "code",
   "execution_count": 195,
   "outputs": [],
   "source": [
    "df_airports_departure = df_airports.rename(columns={\n",
    "    'airportId': 'departure.airportId',\n",
    "    'codeIataAirport': 'departure.iataCode',\n",
    "    'codeIataCity': 'departure.codeIataCity',\n",
    "    'codeIcaoAirport': 'departure.codeIcaoAirport',\n",
    "    'codeIso2Country': 'departure.codeIso2Country',\n",
    "    'latitudeAirport': 'departure.latitudeAirport',\n",
    "    'longitudeAirport': 'departure.longitudeAirport',\n",
    "    'nameAirport': 'departure.nameAirport',\n",
    "    'nameCountry': 'departure.nameCountry',\n",
    "    'timezone': 'departure.timezone'\n",
    "})\n",
    "df_airports_departure = df_airports_departure.drop(columns=['GMT', 'geonameId','phone'])\n"
   ],
   "metadata": {
    "collapsed": false,
    "ExecuteTime": {
     "end_time": "2023-05-18T20:29:14.151179Z",
     "start_time": "2023-05-18T20:29:14.105412Z"
    }
   }
  },
  {
   "cell_type": "code",
   "execution_count": 196,
   "outputs": [
    {
     "data": {
      "text/plain": "       departure.airportId departure.iataCode departure.codeIataCity  \\\n0                        1                AAA                    AAA   \n1                        2                AAB                    AAB   \n2                        3                AAC                    AAC   \n3                        4                AAE                    AAE   \n4                        5                AAF                    AAF   \n...                    ...                ...                    ...   \n10279                10566                VKX                    NaN   \n10280                10567                WRN                    NaN   \n10281                10568                WXF                    NaN   \n10282                10569                XCD                    NaN   \n10283                10570                ZDY                    NaN   \n\n      departure.codeIcaoAirport departure.codeIso2Country  \\\n0                          NTGA                        PF   \n1                          YARY                        AU   \n2                          HEAR                        EG   \n3                          DABB                        DZ   \n4                          KAAF                        US   \n...                         ...                       ...   \n10279                      KVKX                        US   \n10280                      YWDG                        AU   \n10281                      EGVT                        GB   \n10282                      LFLH                        FR   \n10283              Dalma Island                        AE   \n\n       departure.latitudeAirport  departure.longitudeAirport  \\\n0                     -17.050000                 -145.416670   \n1                     -26.700000                  141.041670   \n2                      31.133333                   33.750000   \n3                      36.821392                    7.811857   \n4                      29.733334                  -84.983330   \n...                          ...                         ...   \n10279                  38.748642                  -76.955922   \n10280                 -30.031667                  119.390000   \n10281                  51.971901                    0.509444   \n10282                  46.826111                    4.817500   \n10283                  24.503383                   52.336053   \n\n                 departure.nameAirport departure.nameCountry  \\\n0                                 Anaa      French Polynesia   \n1                             Arrabury             Australia   \n2       El Arish International Airport                 Egypt   \n3                          Les Salines                   NaN   \n4                Apalachicola Regional         United States   \n...                                ...                   ...   \n10279                 Potomac Airfield         United States   \n10280               Windarling Airport             Australia   \n10281             Wethersfield Airport        United Kingdom   \n10282  Chalon – Champforgeuil Airfield                France   \n10283                    Dalma Airport  United Arab Emirates   \n\n       departure.timezone  \n0          Pacific/Tahiti  \n1      Australia/Brisbane  \n2            Africa/Cairo  \n3          Africa/Algiers  \n4        America/New_York  \n...                   ...  \n10279                 NaN  \n10280                 NaN  \n10281                 NaN  \n10282                 NaN  \n10283                 NaN  \n\n[10284 rows x 10 columns]",
      "text/html": "<div>\n<style scoped>\n    .dataframe tbody tr th:only-of-type {\n        vertical-align: middle;\n    }\n\n    .dataframe tbody tr th {\n        vertical-align: top;\n    }\n\n    .dataframe thead th {\n        text-align: right;\n    }\n</style>\n<table border=\"1\" class=\"dataframe\">\n  <thead>\n    <tr style=\"text-align: right;\">\n      <th></th>\n      <th>departure.airportId</th>\n      <th>departure.iataCode</th>\n      <th>departure.codeIataCity</th>\n      <th>departure.codeIcaoAirport</th>\n      <th>departure.codeIso2Country</th>\n      <th>departure.latitudeAirport</th>\n      <th>departure.longitudeAirport</th>\n      <th>departure.nameAirport</th>\n      <th>departure.nameCountry</th>\n      <th>departure.timezone</th>\n    </tr>\n  </thead>\n  <tbody>\n    <tr>\n      <th>0</th>\n      <td>1</td>\n      <td>AAA</td>\n      <td>AAA</td>\n      <td>NTGA</td>\n      <td>PF</td>\n      <td>-17.050000</td>\n      <td>-145.416670</td>\n      <td>Anaa</td>\n      <td>French Polynesia</td>\n      <td>Pacific/Tahiti</td>\n    </tr>\n    <tr>\n      <th>1</th>\n      <td>2</td>\n      <td>AAB</td>\n      <td>AAB</td>\n      <td>YARY</td>\n      <td>AU</td>\n      <td>-26.700000</td>\n      <td>141.041670</td>\n      <td>Arrabury</td>\n      <td>Australia</td>\n      <td>Australia/Brisbane</td>\n    </tr>\n    <tr>\n      <th>2</th>\n      <td>3</td>\n      <td>AAC</td>\n      <td>AAC</td>\n      <td>HEAR</td>\n      <td>EG</td>\n      <td>31.133333</td>\n      <td>33.750000</td>\n      <td>El Arish International Airport</td>\n      <td>Egypt</td>\n      <td>Africa/Cairo</td>\n    </tr>\n    <tr>\n      <th>3</th>\n      <td>4</td>\n      <td>AAE</td>\n      <td>AAE</td>\n      <td>DABB</td>\n      <td>DZ</td>\n      <td>36.821392</td>\n      <td>7.811857</td>\n      <td>Les Salines</td>\n      <td>NaN</td>\n      <td>Africa/Algiers</td>\n    </tr>\n    <tr>\n      <th>4</th>\n      <td>5</td>\n      <td>AAF</td>\n      <td>AAF</td>\n      <td>KAAF</td>\n      <td>US</td>\n      <td>29.733334</td>\n      <td>-84.983330</td>\n      <td>Apalachicola Regional</td>\n      <td>United States</td>\n      <td>America/New_York</td>\n    </tr>\n    <tr>\n      <th>...</th>\n      <td>...</td>\n      <td>...</td>\n      <td>...</td>\n      <td>...</td>\n      <td>...</td>\n      <td>...</td>\n      <td>...</td>\n      <td>...</td>\n      <td>...</td>\n      <td>...</td>\n    </tr>\n    <tr>\n      <th>10279</th>\n      <td>10566</td>\n      <td>VKX</td>\n      <td>NaN</td>\n      <td>KVKX</td>\n      <td>US</td>\n      <td>38.748642</td>\n      <td>-76.955922</td>\n      <td>Potomac Airfield</td>\n      <td>United States</td>\n      <td>NaN</td>\n    </tr>\n    <tr>\n      <th>10280</th>\n      <td>10567</td>\n      <td>WRN</td>\n      <td>NaN</td>\n      <td>YWDG</td>\n      <td>AU</td>\n      <td>-30.031667</td>\n      <td>119.390000</td>\n      <td>Windarling Airport</td>\n      <td>Australia</td>\n      <td>NaN</td>\n    </tr>\n    <tr>\n      <th>10281</th>\n      <td>10568</td>\n      <td>WXF</td>\n      <td>NaN</td>\n      <td>EGVT</td>\n      <td>GB</td>\n      <td>51.971901</td>\n      <td>0.509444</td>\n      <td>Wethersfield Airport</td>\n      <td>United Kingdom</td>\n      <td>NaN</td>\n    </tr>\n    <tr>\n      <th>10282</th>\n      <td>10569</td>\n      <td>XCD</td>\n      <td>NaN</td>\n      <td>LFLH</td>\n      <td>FR</td>\n      <td>46.826111</td>\n      <td>4.817500</td>\n      <td>Chalon – Champforgeuil Airfield</td>\n      <td>France</td>\n      <td>NaN</td>\n    </tr>\n    <tr>\n      <th>10283</th>\n      <td>10570</td>\n      <td>ZDY</td>\n      <td>NaN</td>\n      <td>Dalma Island</td>\n      <td>AE</td>\n      <td>24.503383</td>\n      <td>52.336053</td>\n      <td>Dalma Airport</td>\n      <td>United Arab Emirates</td>\n      <td>NaN</td>\n    </tr>\n  </tbody>\n</table>\n<p>10284 rows × 10 columns</p>\n</div>"
     },
     "execution_count": 196,
     "metadata": {},
     "output_type": "execute_result"
    }
   ],
   "source": [
    "df_airports_departure"
   ],
   "metadata": {
    "collapsed": false,
    "ExecuteTime": {
     "end_time": "2023-05-18T20:29:14.182144Z",
     "start_time": "2023-05-18T20:29:14.111041Z"
    }
   }
  },
  {
   "cell_type": "code",
   "execution_count": 197,
   "outputs": [],
   "source": [
    "df_real_time_flights = pd.merge(df_real_time_flights, df_airports_departure, how='left', on='departure.iataCode')"
   ],
   "metadata": {
    "collapsed": false,
    "ExecuteTime": {
     "end_time": "2023-05-18T20:29:14.182331Z",
     "start_time": "2023-05-18T20:29:14.114142Z"
    }
   }
  },
  {
   "cell_type": "code",
   "execution_count": 198,
   "outputs": [
    {
     "data": {
      "text/plain": "       status aircraft.iataCode aircraft.icao24 aircraft.icaoCode  \\\n0    en-route              B753          A77AE0              B753   \n1    en-route              B752          A8DE56              B752   \n2     unknown              A321          A41F37              A321   \n3    en-route              A321          A44308              A321   \n4    en-route              B753          A78605              B753   \n..        ...               ...             ...               ...   \n281  en-route              A320          A81B2A              A320   \n282  en-route              E75S          A00CE0              E75S   \n283  en-route              A359          39CF00              A359   \n284  en-route              A20N          AD73A6              A20N   \n285   started              A20N          A42323              A20N   \n\n    aircraft.regNumber airline.iataCode airline.icaoCode arrival.iataCode  \\\n0               N581NW               DL              DAL              LAX   \n1                N6702               DL              DAL              FLL   \n2               N365DN               DL              DAL              PBI   \n3               N374DX               DL              DAL              SLC   \n4               N584NW               DL              DAL              SAN   \n..                 ...              ...              ...              ...   \n281             N621NK               NK              NKS              ATL   \n282             N102HQ               AA              AAL              ATL   \n283             F-HTYA               AF              AFR              ATL   \n284             N966NK               NK              NKS              ATL   \n285             N366FR               F9              FFT              ATL   \n\n    arrival.icaoCode departure.iataCode  ...     arrival.timezone  \\\n0               KLAX                ATL  ...  America/Los_Angeles   \n1               KFLL                ATL  ...     America/New_York   \n2               KPBI                ATL  ...     America/New_York   \n3               KSLC                ATL  ...       America/Denver   \n4               KSAN                ATL  ...  America/Los_Angeles   \n..               ...                ...  ...                  ...   \n281             KATL                ORD  ...     America/New_York   \n282             KATL                PHL  ...     America/New_York   \n283             KATL                CDG  ...     America/New_York   \n284             KATL                LAS  ...     America/New_York   \n285             KATL                TTN  ...     America/New_York   \n\n    departure.airportId departure.codeIataCity departure.codeIcaoAirport  \\\n0                   411                    ATL                      KATL   \n1                   411                    ATL                      KATL   \n2                   411                    ATL                      KATL   \n3                   411                    ATL                      KATL   \n4                   411                    ATL                      KATL   \n..                  ...                    ...                       ...   \n281                5818                    CHI                      KORD   \n282                6091                    PHL                      KPHL   \n283                1203                    PAR                      LFPG   \n284                4184                    LAS                      KLAS   \n285                7953                    PHL                      KTTN   \n\n     departure.codeIso2Country  departure.latitudeAirport  \\\n0                           US                  33.640068   \n1                           US                  33.640068   \n2                           US                  33.640068   \n3                           US                  33.640068   \n4                           US                  33.640068   \n..                         ...                        ...   \n281                         US                  41.976913   \n282                         US                  39.876410   \n283                         FR                  49.003197   \n284                         US                  36.086945   \n285                         US                  40.278057   \n\n     departure.longitudeAirport                     departure.nameAirport  \\\n0                    -84.444030  Hartsfield-jackson Atlanta International   \n1                    -84.444030  Hartsfield-jackson Atlanta International   \n2                    -84.444030  Hartsfield-jackson Atlanta International   \n3                    -84.444030  Hartsfield-jackson Atlanta International   \n4                    -84.444030  Hartsfield-jackson Atlanta International   \n..                          ...                                       ...   \n281                  -87.904880              Chicago O'hare International   \n282                  -75.243300                Philadelphia International   \n283                    2.567023                         Charles De Gaulle   \n284                 -115.148600                   Mc Carran International   \n285                  -74.812500                    Trenton Mercer Airport   \n\n     departure.nameCountry   departure.timezone  \n0            United States     America/New_York  \n1            United States     America/New_York  \n2            United States     America/New_York  \n3            United States     America/New_York  \n4            United States     America/New_York  \n..                     ...                  ...  \n281          United States      America/Chicago  \n282          United States     America/New_York  \n283                 France         Europe/Paris  \n284          United States  America/Los_Angeles  \n285          United States     America/New_York  \n\n[286 rows x 41 columns]",
      "text/html": "<div>\n<style scoped>\n    .dataframe tbody tr th:only-of-type {\n        vertical-align: middle;\n    }\n\n    .dataframe tbody tr th {\n        vertical-align: top;\n    }\n\n    .dataframe thead th {\n        text-align: right;\n    }\n</style>\n<table border=\"1\" class=\"dataframe\">\n  <thead>\n    <tr style=\"text-align: right;\">\n      <th></th>\n      <th>status</th>\n      <th>aircraft.iataCode</th>\n      <th>aircraft.icao24</th>\n      <th>aircraft.icaoCode</th>\n      <th>aircraft.regNumber</th>\n      <th>airline.iataCode</th>\n      <th>airline.icaoCode</th>\n      <th>arrival.iataCode</th>\n      <th>arrival.icaoCode</th>\n      <th>departure.iataCode</th>\n      <th>...</th>\n      <th>arrival.timezone</th>\n      <th>departure.airportId</th>\n      <th>departure.codeIataCity</th>\n      <th>departure.codeIcaoAirport</th>\n      <th>departure.codeIso2Country</th>\n      <th>departure.latitudeAirport</th>\n      <th>departure.longitudeAirport</th>\n      <th>departure.nameAirport</th>\n      <th>departure.nameCountry</th>\n      <th>departure.timezone</th>\n    </tr>\n  </thead>\n  <tbody>\n    <tr>\n      <th>0</th>\n      <td>en-route</td>\n      <td>B753</td>\n      <td>A77AE0</td>\n      <td>B753</td>\n      <td>N581NW</td>\n      <td>DL</td>\n      <td>DAL</td>\n      <td>LAX</td>\n      <td>KLAX</td>\n      <td>ATL</td>\n      <td>...</td>\n      <td>America/Los_Angeles</td>\n      <td>411</td>\n      <td>ATL</td>\n      <td>KATL</td>\n      <td>US</td>\n      <td>33.640068</td>\n      <td>-84.444030</td>\n      <td>Hartsfield-jackson Atlanta International</td>\n      <td>United States</td>\n      <td>America/New_York</td>\n    </tr>\n    <tr>\n      <th>1</th>\n      <td>en-route</td>\n      <td>B752</td>\n      <td>A8DE56</td>\n      <td>B752</td>\n      <td>N6702</td>\n      <td>DL</td>\n      <td>DAL</td>\n      <td>FLL</td>\n      <td>KFLL</td>\n      <td>ATL</td>\n      <td>...</td>\n      <td>America/New_York</td>\n      <td>411</td>\n      <td>ATL</td>\n      <td>KATL</td>\n      <td>US</td>\n      <td>33.640068</td>\n      <td>-84.444030</td>\n      <td>Hartsfield-jackson Atlanta International</td>\n      <td>United States</td>\n      <td>America/New_York</td>\n    </tr>\n    <tr>\n      <th>2</th>\n      <td>unknown</td>\n      <td>A321</td>\n      <td>A41F37</td>\n      <td>A321</td>\n      <td>N365DN</td>\n      <td>DL</td>\n      <td>DAL</td>\n      <td>PBI</td>\n      <td>KPBI</td>\n      <td>ATL</td>\n      <td>...</td>\n      <td>America/New_York</td>\n      <td>411</td>\n      <td>ATL</td>\n      <td>KATL</td>\n      <td>US</td>\n      <td>33.640068</td>\n      <td>-84.444030</td>\n      <td>Hartsfield-jackson Atlanta International</td>\n      <td>United States</td>\n      <td>America/New_York</td>\n    </tr>\n    <tr>\n      <th>3</th>\n      <td>en-route</td>\n      <td>A321</td>\n      <td>A44308</td>\n      <td>A321</td>\n      <td>N374DX</td>\n      <td>DL</td>\n      <td>DAL</td>\n      <td>SLC</td>\n      <td>KSLC</td>\n      <td>ATL</td>\n      <td>...</td>\n      <td>America/Denver</td>\n      <td>411</td>\n      <td>ATL</td>\n      <td>KATL</td>\n      <td>US</td>\n      <td>33.640068</td>\n      <td>-84.444030</td>\n      <td>Hartsfield-jackson Atlanta International</td>\n      <td>United States</td>\n      <td>America/New_York</td>\n    </tr>\n    <tr>\n      <th>4</th>\n      <td>en-route</td>\n      <td>B753</td>\n      <td>A78605</td>\n      <td>B753</td>\n      <td>N584NW</td>\n      <td>DL</td>\n      <td>DAL</td>\n      <td>SAN</td>\n      <td>KSAN</td>\n      <td>ATL</td>\n      <td>...</td>\n      <td>America/Los_Angeles</td>\n      <td>411</td>\n      <td>ATL</td>\n      <td>KATL</td>\n      <td>US</td>\n      <td>33.640068</td>\n      <td>-84.444030</td>\n      <td>Hartsfield-jackson Atlanta International</td>\n      <td>United States</td>\n      <td>America/New_York</td>\n    </tr>\n    <tr>\n      <th>...</th>\n      <td>...</td>\n      <td>...</td>\n      <td>...</td>\n      <td>...</td>\n      <td>...</td>\n      <td>...</td>\n      <td>...</td>\n      <td>...</td>\n      <td>...</td>\n      <td>...</td>\n      <td>...</td>\n      <td>...</td>\n      <td>...</td>\n      <td>...</td>\n      <td>...</td>\n      <td>...</td>\n      <td>...</td>\n      <td>...</td>\n      <td>...</td>\n      <td>...</td>\n      <td>...</td>\n    </tr>\n    <tr>\n      <th>281</th>\n      <td>en-route</td>\n      <td>A320</td>\n      <td>A81B2A</td>\n      <td>A320</td>\n      <td>N621NK</td>\n      <td>NK</td>\n      <td>NKS</td>\n      <td>ATL</td>\n      <td>KATL</td>\n      <td>ORD</td>\n      <td>...</td>\n      <td>America/New_York</td>\n      <td>5818</td>\n      <td>CHI</td>\n      <td>KORD</td>\n      <td>US</td>\n      <td>41.976913</td>\n      <td>-87.904880</td>\n      <td>Chicago O'hare International</td>\n      <td>United States</td>\n      <td>America/Chicago</td>\n    </tr>\n    <tr>\n      <th>282</th>\n      <td>en-route</td>\n      <td>E75S</td>\n      <td>A00CE0</td>\n      <td>E75S</td>\n      <td>N102HQ</td>\n      <td>AA</td>\n      <td>AAL</td>\n      <td>ATL</td>\n      <td>KATL</td>\n      <td>PHL</td>\n      <td>...</td>\n      <td>America/New_York</td>\n      <td>6091</td>\n      <td>PHL</td>\n      <td>KPHL</td>\n      <td>US</td>\n      <td>39.876410</td>\n      <td>-75.243300</td>\n      <td>Philadelphia International</td>\n      <td>United States</td>\n      <td>America/New_York</td>\n    </tr>\n    <tr>\n      <th>283</th>\n      <td>en-route</td>\n      <td>A359</td>\n      <td>39CF00</td>\n      <td>A359</td>\n      <td>F-HTYA</td>\n      <td>AF</td>\n      <td>AFR</td>\n      <td>ATL</td>\n      <td>KATL</td>\n      <td>CDG</td>\n      <td>...</td>\n      <td>America/New_York</td>\n      <td>1203</td>\n      <td>PAR</td>\n      <td>LFPG</td>\n      <td>FR</td>\n      <td>49.003197</td>\n      <td>2.567023</td>\n      <td>Charles De Gaulle</td>\n      <td>France</td>\n      <td>Europe/Paris</td>\n    </tr>\n    <tr>\n      <th>284</th>\n      <td>en-route</td>\n      <td>A20N</td>\n      <td>AD73A6</td>\n      <td>A20N</td>\n      <td>N966NK</td>\n      <td>NK</td>\n      <td>NKS</td>\n      <td>ATL</td>\n      <td>KATL</td>\n      <td>LAS</td>\n      <td>...</td>\n      <td>America/New_York</td>\n      <td>4184</td>\n      <td>LAS</td>\n      <td>KLAS</td>\n      <td>US</td>\n      <td>36.086945</td>\n      <td>-115.148600</td>\n      <td>Mc Carran International</td>\n      <td>United States</td>\n      <td>America/Los_Angeles</td>\n    </tr>\n    <tr>\n      <th>285</th>\n      <td>started</td>\n      <td>A20N</td>\n      <td>A42323</td>\n      <td>A20N</td>\n      <td>N366FR</td>\n      <td>F9</td>\n      <td>FFT</td>\n      <td>ATL</td>\n      <td>KATL</td>\n      <td>TTN</td>\n      <td>...</td>\n      <td>America/New_York</td>\n      <td>7953</td>\n      <td>PHL</td>\n      <td>KTTN</td>\n      <td>US</td>\n      <td>40.278057</td>\n      <td>-74.812500</td>\n      <td>Trenton Mercer Airport</td>\n      <td>United States</td>\n      <td>America/New_York</td>\n    </tr>\n  </tbody>\n</table>\n<p>286 rows × 41 columns</p>\n</div>"
     },
     "execution_count": 198,
     "metadata": {},
     "output_type": "execute_result"
    }
   ],
   "source": [
    "df_real_time_flights"
   ],
   "metadata": {
    "collapsed": false,
    "ExecuteTime": {
     "end_time": "2023-05-18T20:29:14.182415Z",
     "start_time": "2023-05-18T20:29:14.124568Z"
    }
   }
  },
  {
   "cell_type": "code",
   "execution_count": 199,
   "outputs": [
    {
     "data": {
      "text/plain": "      ageFleet  airlineId        callsign codeHub airline.iataCode  \\\n0         10.9          1        AMERICAN     DFW               AA   \n1         17.0          2           DELTA     ATL               DL   \n2         13.8          3          UNITED     ORD               UA   \n3         12.3          4       SOUTHWEST     DAL               WN   \n4          6.9          5  CHINA SOUTHERN     CAN               CZ   \n...        ...        ...             ...     ...              ...   \n3955       0.0       3957             NaN     YQB               ZX   \n3956       0.0       3958        AIRCOACH     NaN               ZX   \n3957       0.0       3959         FLYZOOM     GLA               ZX   \n3958       0.0       3960         ADA AIR     TIA               ZY   \n3959       0.0       3961    ANTALYA BIRD     AYT               ZY   \n\n     airline.icaoCode codeIso2Country  founding  iataPrefixAccounting  \\\n0                 AAL              US      1934                   1.0   \n1                 DAL              US      1928                   6.0   \n2                 UAL              US      1931                  16.0   \n3                 SWA              UM      1967                 526.0   \n4                 CSN              CN      2004                 784.0   \n...               ...             ...       ...                   ...   \n3955              AAQ              CA         0                   NaN   \n3956              ABL              CA         0                 742.0   \n3957              UKZ              UK         0                   NaN   \n3958              ADE              AL         0                 121.0   \n3959              SHY              TR         0                   NaN   \n\n                  nameAirline                           nameCountry  \\\n0           American Airlines                         United States   \n1             Delta Air Lines                         United States   \n2             United Airlines                         United States   \n3      Southwest Airlines Co.  United States Minor Outlying Islands   \n4     China Southern Airlines                                 China   \n...                       ...                                   ...   \n3955    Air Alliance (Canada)                                Canada   \n3956                 Air B.C.                                Canada   \n3957            Zoom Airlines                        United Kingdom   \n3958                  Ada Air                               Albania   \n3959             Sky Airlines                                Turkey   \n\n      sizeAirline statusAirline                type  \n0             963        active           scheduled  \n1             823        active  scheduled,division  \n2             715        active  scheduled,division  \n3             712        active           scheduled  \n4             498        active           scheduled  \n...           ...           ...                 ...  \n3955            0        merged           scheduled  \n3956            0    historical                 NaN  \n3957            0    historical             charter  \n3958            0    historical           scheduled  \n3959            0        active           scheduled  \n\n[2789 rows x 14 columns]",
      "text/html": "<div>\n<style scoped>\n    .dataframe tbody tr th:only-of-type {\n        vertical-align: middle;\n    }\n\n    .dataframe tbody tr th {\n        vertical-align: top;\n    }\n\n    .dataframe thead th {\n        text-align: right;\n    }\n</style>\n<table border=\"1\" class=\"dataframe\">\n  <thead>\n    <tr style=\"text-align: right;\">\n      <th></th>\n      <th>ageFleet</th>\n      <th>airlineId</th>\n      <th>callsign</th>\n      <th>codeHub</th>\n      <th>airline.iataCode</th>\n      <th>airline.icaoCode</th>\n      <th>codeIso2Country</th>\n      <th>founding</th>\n      <th>iataPrefixAccounting</th>\n      <th>nameAirline</th>\n      <th>nameCountry</th>\n      <th>sizeAirline</th>\n      <th>statusAirline</th>\n      <th>type</th>\n    </tr>\n  </thead>\n  <tbody>\n    <tr>\n      <th>0</th>\n      <td>10.9</td>\n      <td>1</td>\n      <td>AMERICAN</td>\n      <td>DFW</td>\n      <td>AA</td>\n      <td>AAL</td>\n      <td>US</td>\n      <td>1934</td>\n      <td>1.0</td>\n      <td>American Airlines</td>\n      <td>United States</td>\n      <td>963</td>\n      <td>active</td>\n      <td>scheduled</td>\n    </tr>\n    <tr>\n      <th>1</th>\n      <td>17.0</td>\n      <td>2</td>\n      <td>DELTA</td>\n      <td>ATL</td>\n      <td>DL</td>\n      <td>DAL</td>\n      <td>US</td>\n      <td>1928</td>\n      <td>6.0</td>\n      <td>Delta Air Lines</td>\n      <td>United States</td>\n      <td>823</td>\n      <td>active</td>\n      <td>scheduled,division</td>\n    </tr>\n    <tr>\n      <th>2</th>\n      <td>13.8</td>\n      <td>3</td>\n      <td>UNITED</td>\n      <td>ORD</td>\n      <td>UA</td>\n      <td>UAL</td>\n      <td>US</td>\n      <td>1931</td>\n      <td>16.0</td>\n      <td>United Airlines</td>\n      <td>United States</td>\n      <td>715</td>\n      <td>active</td>\n      <td>scheduled,division</td>\n    </tr>\n    <tr>\n      <th>3</th>\n      <td>12.3</td>\n      <td>4</td>\n      <td>SOUTHWEST</td>\n      <td>DAL</td>\n      <td>WN</td>\n      <td>SWA</td>\n      <td>UM</td>\n      <td>1967</td>\n      <td>526.0</td>\n      <td>Southwest Airlines Co.</td>\n      <td>United States Minor Outlying Islands</td>\n      <td>712</td>\n      <td>active</td>\n      <td>scheduled</td>\n    </tr>\n    <tr>\n      <th>4</th>\n      <td>6.9</td>\n      <td>5</td>\n      <td>CHINA SOUTHERN</td>\n      <td>CAN</td>\n      <td>CZ</td>\n      <td>CSN</td>\n      <td>CN</td>\n      <td>2004</td>\n      <td>784.0</td>\n      <td>China Southern Airlines</td>\n      <td>China</td>\n      <td>498</td>\n      <td>active</td>\n      <td>scheduled</td>\n    </tr>\n    <tr>\n      <th>...</th>\n      <td>...</td>\n      <td>...</td>\n      <td>...</td>\n      <td>...</td>\n      <td>...</td>\n      <td>...</td>\n      <td>...</td>\n      <td>...</td>\n      <td>...</td>\n      <td>...</td>\n      <td>...</td>\n      <td>...</td>\n      <td>...</td>\n      <td>...</td>\n    </tr>\n    <tr>\n      <th>3955</th>\n      <td>0.0</td>\n      <td>3957</td>\n      <td>NaN</td>\n      <td>YQB</td>\n      <td>ZX</td>\n      <td>AAQ</td>\n      <td>CA</td>\n      <td>0</td>\n      <td>NaN</td>\n      <td>Air Alliance (Canada)</td>\n      <td>Canada</td>\n      <td>0</td>\n      <td>merged</td>\n      <td>scheduled</td>\n    </tr>\n    <tr>\n      <th>3956</th>\n      <td>0.0</td>\n      <td>3958</td>\n      <td>AIRCOACH</td>\n      <td>NaN</td>\n      <td>ZX</td>\n      <td>ABL</td>\n      <td>CA</td>\n      <td>0</td>\n      <td>742.0</td>\n      <td>Air B.C.</td>\n      <td>Canada</td>\n      <td>0</td>\n      <td>historical</td>\n      <td>NaN</td>\n    </tr>\n    <tr>\n      <th>3957</th>\n      <td>0.0</td>\n      <td>3959</td>\n      <td>FLYZOOM</td>\n      <td>GLA</td>\n      <td>ZX</td>\n      <td>UKZ</td>\n      <td>UK</td>\n      <td>0</td>\n      <td>NaN</td>\n      <td>Zoom Airlines</td>\n      <td>United Kingdom</td>\n      <td>0</td>\n      <td>historical</td>\n      <td>charter</td>\n    </tr>\n    <tr>\n      <th>3958</th>\n      <td>0.0</td>\n      <td>3960</td>\n      <td>ADA AIR</td>\n      <td>TIA</td>\n      <td>ZY</td>\n      <td>ADE</td>\n      <td>AL</td>\n      <td>0</td>\n      <td>121.0</td>\n      <td>Ada Air</td>\n      <td>Albania</td>\n      <td>0</td>\n      <td>historical</td>\n      <td>scheduled</td>\n    </tr>\n    <tr>\n      <th>3959</th>\n      <td>0.0</td>\n      <td>3961</td>\n      <td>ANTALYA BIRD</td>\n      <td>AYT</td>\n      <td>ZY</td>\n      <td>SHY</td>\n      <td>TR</td>\n      <td>0</td>\n      <td>NaN</td>\n      <td>Sky Airlines</td>\n      <td>Turkey</td>\n      <td>0</td>\n      <td>active</td>\n      <td>scheduled</td>\n    </tr>\n  </tbody>\n</table>\n<p>2789 rows × 14 columns</p>\n</div>"
     },
     "execution_count": 199,
     "metadata": {},
     "output_type": "execute_result"
    }
   ],
   "source": [
    "df_airlines = pd.read_csv('./data/airlines.csv')\n",
    "df_airlines = df_airlines.rename(columns={\n",
    "    'codeIataAirline': 'airline.iataCode',\n",
    "    'codeIcaoAirline': 'airline.icaoCode'})\n",
    "df_airlines = df_airlines.dropna(subset=['airline.iataCode', 'airline.icaoCode'])\n",
    "df_airlines"
   ],
   "metadata": {
    "collapsed": false,
    "ExecuteTime": {
     "end_time": "2023-05-18T20:29:14.182931Z",
     "start_time": "2023-05-18T20:29:14.138200Z"
    }
   }
  },
  {
   "cell_type": "code",
   "execution_count": 200,
   "outputs": [],
   "source": [
    "df_real_time_flights = pd.merge(df_real_time_flights, df_airlines, how='left',\n",
    "                                left_on=['airline.iataCode', 'airline.icaoCode'],\n",
    "                                right_on=['airline.iataCode', 'airline.icaoCode'])\n",
    "\n",
    "now = datetime.datetime.now()\n",
    "\n",
    "# Format date and time as a string to be used in the filename\n",
    "datetime_string = now.strftime(\"%Y-%m-%d %H:%M:%S\")\n",
    "df_real_time_flights['date_EST'] = datetime_string"
   ],
   "metadata": {
    "collapsed": false,
    "ExecuteTime": {
     "end_time": "2023-05-18T20:29:14.183008Z",
     "start_time": "2023-05-18T20:29:14.175494Z"
    }
   }
  },
  {
   "cell_type": "code",
   "execution_count": 201,
   "outputs": [
    {
     "data": {
      "text/plain": "       status aircraft.iataCode aircraft.icao24 aircraft.icaoCode  \\\n0    en-route              B753          A77AE0              B753   \n1    en-route              B752          A8DE56              B752   \n2     unknown              A321          A41F37              A321   \n3    en-route              A321          A44308              A321   \n4    en-route              B753          A78605              B753   \n..        ...               ...             ...               ...   \n281  en-route              A320          A81B2A              A320   \n282  en-route              E75S          A00CE0              E75S   \n283  en-route              A359          39CF00              A359   \n284  en-route              A20N          AD73A6              A20N   \n285   started              A20N          A42323              A20N   \n\n    aircraft.regNumber airline.iataCode airline.icaoCode arrival.iataCode  \\\n0               N581NW               DL              DAL              LAX   \n1                N6702               DL              DAL              FLL   \n2               N365DN               DL              DAL              PBI   \n3               N374DX               DL              DAL              SLC   \n4               N584NW               DL              DAL              SAN   \n..                 ...              ...              ...              ...   \n281             N621NK               NK              NKS              ATL   \n282             N102HQ               AA              AAL              ATL   \n283             F-HTYA               AF              AFR              ATL   \n284             N966NK               NK              NKS              ATL   \n285             N366FR               F9              FFT              ATL   \n\n    arrival.icaoCode departure.iataCode  ... codeHub codeIso2Country founding  \\\n0               KLAX                ATL  ...     ATL              US   1928.0   \n1               KFLL                ATL  ...     ATL              US   1928.0   \n2               KPBI                ATL  ...     ATL              US   1928.0   \n3               KSLC                ATL  ...     ATL              US   1928.0   \n4               KSAN                ATL  ...     ATL              US   1928.0   \n..               ...                ...  ...     ...             ...      ...   \n281             KATL                ORD  ...     FLL              UM   1980.0   \n282             KATL                PHL  ...     DFW              US   1934.0   \n283             KATL                CDG  ...     CDG              FR   1933.0   \n284             KATL                LAS  ...     FLL              UM   1980.0   \n285             KATL                TTN  ...     DEN              UM   1994.0   \n\n    iataPrefixAccounting              nameAirline  \\\n0                    6.0          Delta Air Lines   \n1                    6.0          Delta Air Lines   \n2                    6.0          Delta Air Lines   \n3                    6.0          Delta Air Lines   \n4                    6.0          Delta Air Lines   \n..                   ...                      ...   \n281                487.0          Spirit Airlines   \n282                  1.0        American Airlines   \n283                 57.0               Air France   \n284                487.0          Spirit Airlines   \n285                422.0  Frontier Airlines, Inc.   \n\n                              nameCountry  sizeAirline  statusAirline  \\\n0                           United States        823.0         active   \n1                           United States        823.0         active   \n2                           United States        823.0         active   \n3                           United States        823.0         active   \n4                           United States        823.0         active   \n..                                    ...          ...            ...   \n281  United States Minor Outlying Islands         84.0         active   \n282                         United States        963.0         active   \n283                                France        226.0         active   \n284  United States Minor Outlying Islands         84.0         active   \n285  United States Minor Outlying Islands         58.0         active   \n\n                   type             date_EST  \n0    scheduled,division  2023-05-18 16:29:14  \n1    scheduled,division  2023-05-18 16:29:14  \n2    scheduled,division  2023-05-18 16:29:14  \n3    scheduled,division  2023-05-18 16:29:14  \n4    scheduled,division  2023-05-18 16:29:14  \n..                  ...                  ...  \n281           scheduled  2023-05-18 16:29:14  \n282           scheduled  2023-05-18 16:29:14  \n283           scheduled  2023-05-18 16:29:14  \n284           scheduled  2023-05-18 16:29:14  \n285           scheduled  2023-05-18 16:29:14  \n\n[286 rows x 54 columns]",
      "text/html": "<div>\n<style scoped>\n    .dataframe tbody tr th:only-of-type {\n        vertical-align: middle;\n    }\n\n    .dataframe tbody tr th {\n        vertical-align: top;\n    }\n\n    .dataframe thead th {\n        text-align: right;\n    }\n</style>\n<table border=\"1\" class=\"dataframe\">\n  <thead>\n    <tr style=\"text-align: right;\">\n      <th></th>\n      <th>status</th>\n      <th>aircraft.iataCode</th>\n      <th>aircraft.icao24</th>\n      <th>aircraft.icaoCode</th>\n      <th>aircraft.regNumber</th>\n      <th>airline.iataCode</th>\n      <th>airline.icaoCode</th>\n      <th>arrival.iataCode</th>\n      <th>arrival.icaoCode</th>\n      <th>departure.iataCode</th>\n      <th>...</th>\n      <th>codeHub</th>\n      <th>codeIso2Country</th>\n      <th>founding</th>\n      <th>iataPrefixAccounting</th>\n      <th>nameAirline</th>\n      <th>nameCountry</th>\n      <th>sizeAirline</th>\n      <th>statusAirline</th>\n      <th>type</th>\n      <th>date_EST</th>\n    </tr>\n  </thead>\n  <tbody>\n    <tr>\n      <th>0</th>\n      <td>en-route</td>\n      <td>B753</td>\n      <td>A77AE0</td>\n      <td>B753</td>\n      <td>N581NW</td>\n      <td>DL</td>\n      <td>DAL</td>\n      <td>LAX</td>\n      <td>KLAX</td>\n      <td>ATL</td>\n      <td>...</td>\n      <td>ATL</td>\n      <td>US</td>\n      <td>1928.0</td>\n      <td>6.0</td>\n      <td>Delta Air Lines</td>\n      <td>United States</td>\n      <td>823.0</td>\n      <td>active</td>\n      <td>scheduled,division</td>\n      <td>2023-05-18 16:29:14</td>\n    </tr>\n    <tr>\n      <th>1</th>\n      <td>en-route</td>\n      <td>B752</td>\n      <td>A8DE56</td>\n      <td>B752</td>\n      <td>N6702</td>\n      <td>DL</td>\n      <td>DAL</td>\n      <td>FLL</td>\n      <td>KFLL</td>\n      <td>ATL</td>\n      <td>...</td>\n      <td>ATL</td>\n      <td>US</td>\n      <td>1928.0</td>\n      <td>6.0</td>\n      <td>Delta Air Lines</td>\n      <td>United States</td>\n      <td>823.0</td>\n      <td>active</td>\n      <td>scheduled,division</td>\n      <td>2023-05-18 16:29:14</td>\n    </tr>\n    <tr>\n      <th>2</th>\n      <td>unknown</td>\n      <td>A321</td>\n      <td>A41F37</td>\n      <td>A321</td>\n      <td>N365DN</td>\n      <td>DL</td>\n      <td>DAL</td>\n      <td>PBI</td>\n      <td>KPBI</td>\n      <td>ATL</td>\n      <td>...</td>\n      <td>ATL</td>\n      <td>US</td>\n      <td>1928.0</td>\n      <td>6.0</td>\n      <td>Delta Air Lines</td>\n      <td>United States</td>\n      <td>823.0</td>\n      <td>active</td>\n      <td>scheduled,division</td>\n      <td>2023-05-18 16:29:14</td>\n    </tr>\n    <tr>\n      <th>3</th>\n      <td>en-route</td>\n      <td>A321</td>\n      <td>A44308</td>\n      <td>A321</td>\n      <td>N374DX</td>\n      <td>DL</td>\n      <td>DAL</td>\n      <td>SLC</td>\n      <td>KSLC</td>\n      <td>ATL</td>\n      <td>...</td>\n      <td>ATL</td>\n      <td>US</td>\n      <td>1928.0</td>\n      <td>6.0</td>\n      <td>Delta Air Lines</td>\n      <td>United States</td>\n      <td>823.0</td>\n      <td>active</td>\n      <td>scheduled,division</td>\n      <td>2023-05-18 16:29:14</td>\n    </tr>\n    <tr>\n      <th>4</th>\n      <td>en-route</td>\n      <td>B753</td>\n      <td>A78605</td>\n      <td>B753</td>\n      <td>N584NW</td>\n      <td>DL</td>\n      <td>DAL</td>\n      <td>SAN</td>\n      <td>KSAN</td>\n      <td>ATL</td>\n      <td>...</td>\n      <td>ATL</td>\n      <td>US</td>\n      <td>1928.0</td>\n      <td>6.0</td>\n      <td>Delta Air Lines</td>\n      <td>United States</td>\n      <td>823.0</td>\n      <td>active</td>\n      <td>scheduled,division</td>\n      <td>2023-05-18 16:29:14</td>\n    </tr>\n    <tr>\n      <th>...</th>\n      <td>...</td>\n      <td>...</td>\n      <td>...</td>\n      <td>...</td>\n      <td>...</td>\n      <td>...</td>\n      <td>...</td>\n      <td>...</td>\n      <td>...</td>\n      <td>...</td>\n      <td>...</td>\n      <td>...</td>\n      <td>...</td>\n      <td>...</td>\n      <td>...</td>\n      <td>...</td>\n      <td>...</td>\n      <td>...</td>\n      <td>...</td>\n      <td>...</td>\n      <td>...</td>\n    </tr>\n    <tr>\n      <th>281</th>\n      <td>en-route</td>\n      <td>A320</td>\n      <td>A81B2A</td>\n      <td>A320</td>\n      <td>N621NK</td>\n      <td>NK</td>\n      <td>NKS</td>\n      <td>ATL</td>\n      <td>KATL</td>\n      <td>ORD</td>\n      <td>...</td>\n      <td>FLL</td>\n      <td>UM</td>\n      <td>1980.0</td>\n      <td>487.0</td>\n      <td>Spirit Airlines</td>\n      <td>United States Minor Outlying Islands</td>\n      <td>84.0</td>\n      <td>active</td>\n      <td>scheduled</td>\n      <td>2023-05-18 16:29:14</td>\n    </tr>\n    <tr>\n      <th>282</th>\n      <td>en-route</td>\n      <td>E75S</td>\n      <td>A00CE0</td>\n      <td>E75S</td>\n      <td>N102HQ</td>\n      <td>AA</td>\n      <td>AAL</td>\n      <td>ATL</td>\n      <td>KATL</td>\n      <td>PHL</td>\n      <td>...</td>\n      <td>DFW</td>\n      <td>US</td>\n      <td>1934.0</td>\n      <td>1.0</td>\n      <td>American Airlines</td>\n      <td>United States</td>\n      <td>963.0</td>\n      <td>active</td>\n      <td>scheduled</td>\n      <td>2023-05-18 16:29:14</td>\n    </tr>\n    <tr>\n      <th>283</th>\n      <td>en-route</td>\n      <td>A359</td>\n      <td>39CF00</td>\n      <td>A359</td>\n      <td>F-HTYA</td>\n      <td>AF</td>\n      <td>AFR</td>\n      <td>ATL</td>\n      <td>KATL</td>\n      <td>CDG</td>\n      <td>...</td>\n      <td>CDG</td>\n      <td>FR</td>\n      <td>1933.0</td>\n      <td>57.0</td>\n      <td>Air France</td>\n      <td>France</td>\n      <td>226.0</td>\n      <td>active</td>\n      <td>scheduled</td>\n      <td>2023-05-18 16:29:14</td>\n    </tr>\n    <tr>\n      <th>284</th>\n      <td>en-route</td>\n      <td>A20N</td>\n      <td>AD73A6</td>\n      <td>A20N</td>\n      <td>N966NK</td>\n      <td>NK</td>\n      <td>NKS</td>\n      <td>ATL</td>\n      <td>KATL</td>\n      <td>LAS</td>\n      <td>...</td>\n      <td>FLL</td>\n      <td>UM</td>\n      <td>1980.0</td>\n      <td>487.0</td>\n      <td>Spirit Airlines</td>\n      <td>United States Minor Outlying Islands</td>\n      <td>84.0</td>\n      <td>active</td>\n      <td>scheduled</td>\n      <td>2023-05-18 16:29:14</td>\n    </tr>\n    <tr>\n      <th>285</th>\n      <td>started</td>\n      <td>A20N</td>\n      <td>A42323</td>\n      <td>A20N</td>\n      <td>N366FR</td>\n      <td>F9</td>\n      <td>FFT</td>\n      <td>ATL</td>\n      <td>KATL</td>\n      <td>TTN</td>\n      <td>...</td>\n      <td>DEN</td>\n      <td>UM</td>\n      <td>1994.0</td>\n      <td>422.0</td>\n      <td>Frontier Airlines, Inc.</td>\n      <td>United States Minor Outlying Islands</td>\n      <td>58.0</td>\n      <td>active</td>\n      <td>scheduled</td>\n      <td>2023-05-18 16:29:14</td>\n    </tr>\n  </tbody>\n</table>\n<p>286 rows × 54 columns</p>\n</div>"
     },
     "execution_count": 201,
     "metadata": {},
     "output_type": "execute_result"
    }
   ],
   "source": [
    "df_real_time_flights"
   ],
   "metadata": {
    "collapsed": false,
    "ExecuteTime": {
     "end_time": "2023-05-18T20:29:14.215711Z",
     "start_time": "2023-05-18T20:29:14.194916Z"
    }
   }
  },
  {
   "cell_type": "code",
   "execution_count": 202,
   "outputs": [],
   "source": [
    "df_real_time_flights = df_real_time_flights.drop(columns=['speed.vspeed', 'system.squawk', 'system.updated', 'ageFleet', 'founding', 'iataPrefixAccounting', 'type'])\n",
    "\n",
    "\n",
    "df_real_time_flights = df_real_time_flights[['date_EST',\n",
    "                                           'status',\n",
    "                                           'aircraft.iataCode',\n",
    "                                           'aircraft.icao24',\n",
    "                                           'aircraft.icaoCode',\n",
    "                                           'aircraft.regNumber',\n",
    "                                           'airline.iataCode',\n",
    "                                           'airline.icaoCode',\n",
    "                                           'nameAirline',\n",
    "                                           'flight.iataNumber',\n",
    "                                           'flight.icaoNumber',\n",
    "                                           'geography.altitude',\n",
    "                                           'geography.direction',\n",
    "                                           'geography.latitude',\n",
    "                                           'geography.longitude',\n",
    "                                           'speed.horizontal',\n",
    "                                           'speed.isGround',\n",
    "                                           'departure.airportId',\n",
    "                                           'departure.nameAirport',\n",
    "                                           'departure.iataCode',\n",
    "                                           'departure.icaoCode',\n",
    "                                           'departure.codeIataCity',\n",
    "                                           'departure.codeIso2Country',\n",
    "                                           'departure.nameCountry',\n",
    "                                           'departure.latitudeAirport',\n",
    "                                           'departure.longitudeAirport',\n",
    "                                           'departure.timezone',\n",
    "                                           'arrival.airportId',\n",
    "                                           'arrival.nameAirport',\n",
    "                                           'arrival.iataCode',\n",
    "                                           'arrival.icaoCode',\n",
    "                                           'arrival.codeIataCity',\n",
    "                                           'arrival.codeIso2Country',\n",
    "                                           'arrival.nameCountry',\n",
    "                                           'arrival.latitudeAirport',\n",
    "                                           'arrival.longitudeAirport',\n",
    "                                           'arrival.timezone']]\n"
   ],
   "metadata": {
    "collapsed": false,
    "ExecuteTime": {
     "end_time": "2023-05-18T20:29:14.234882Z",
     "start_time": "2023-05-18T20:29:14.201663Z"
    }
   }
  },
  {
   "cell_type": "code",
   "execution_count": 203,
   "outputs": [
    {
     "data": {
      "text/plain": "                date_EST    status aircraft.iataCode aircraft.icao24  \\\n0    2023-05-18 16:29:14  en-route              B753          A77AE0   \n1    2023-05-18 16:29:14  en-route              B752          A8DE56   \n2    2023-05-18 16:29:14   unknown              A321          A41F37   \n3    2023-05-18 16:29:14  en-route              A321          A44308   \n4    2023-05-18 16:29:14  en-route              B753          A78605   \n..                   ...       ...               ...             ...   \n281  2023-05-18 16:29:14  en-route              A320          A81B2A   \n282  2023-05-18 16:29:14  en-route              E75S          A00CE0   \n283  2023-05-18 16:29:14  en-route              A359          39CF00   \n284  2023-05-18 16:29:14  en-route              A20N          AD73A6   \n285  2023-05-18 16:29:14   started              A20N          A42323   \n\n    aircraft.icaoCode aircraft.regNumber airline.iataCode airline.icaoCode  \\\n0                B753             N581NW               DL              DAL   \n1                B752              N6702               DL              DAL   \n2                A321             N365DN               DL              DAL   \n3                A321             N374DX               DL              DAL   \n4                B753             N584NW               DL              DAL   \n..                ...                ...              ...              ...   \n281              A320             N621NK               NK              NKS   \n282              E75S             N102HQ               AA              AAL   \n283              A359             F-HTYA               AF              AFR   \n284              A20N             N966NK               NK              NKS   \n285              A20N             N366FR               F9              FFT   \n\n                 nameAirline flight.iataNumber  ... arrival.airportId  \\\n0            Delta Air Lines             DL895  ...            4189.0   \n1            Delta Air Lines            DL1375  ...            2344.0   \n2            Delta Air Lines            DL1173  ...            5966.0   \n3            Delta Air Lines             DL423  ...            7174.0   \n4            Delta Air Lines             DL843  ...            6920.0   \n..                       ...               ...  ...               ...   \n281          Spirit Airlines            NK1784  ...             411.0   \n282        American Airlines            AA4250  ...             411.0   \n283               Air France             AF686  ...             411.0   \n284          Spirit Airlines             NK271  ...             411.0   \n285  Frontier Airlines, Inc.             F9861  ...             411.0   \n\n                          arrival.nameAirport  arrival.iataCode  \\\n0                   Los Angeles International               LAX   \n1     Fort Lauderdale–Hollywood International               FLL   \n2            Palm Beach International Airport               PBI   \n3                Salt Lake City International               SLC   \n4             San Diego International Airport               SAN   \n..                                        ...               ...   \n281  Hartsfield-jackson Atlanta International               ATL   \n282  Hartsfield-jackson Atlanta International               ATL   \n283  Hartsfield-jackson Atlanta International               ATL   \n284  Hartsfield-jackson Atlanta International               ATL   \n285  Hartsfield-jackson Atlanta International               ATL   \n\n     arrival.icaoCode  arrival.codeIataCity  arrival.codeIso2Country  \\\n0                KLAX                   LAX                       US   \n1                KFLL                   FLL                       US   \n2                KPBI                   PBI                       US   \n3                KSLC                   SLC                       US   \n4                KSAN                   SAN                       US   \n..                ...                   ...                      ...   \n281              KATL                   ATL                       US   \n282              KATL                   ATL                       US   \n283              KATL                   ATL                       US   \n284              KATL                   ATL                       US   \n285              KATL                   ATL                       US   \n\n     arrival.nameCountry  arrival.latitudeAirport arrival.longitudeAirport  \\\n0          United States                33.943398              -118.408280   \n1          United States                26.071491               -80.144905   \n2          United States                26.688885               -80.090440   \n3          United States                40.785645              -111.980675   \n4          United States                32.731937              -117.197310   \n..                   ...                      ...                      ...   \n281        United States                33.640068               -84.444030   \n282        United States                33.640068               -84.444030   \n283        United States                33.640068               -84.444030   \n284        United States                33.640068               -84.444030   \n285        United States                33.640068               -84.444030   \n\n        arrival.timezone  \n0    America/Los_Angeles  \n1       America/New_York  \n2       America/New_York  \n3         America/Denver  \n4    America/Los_Angeles  \n..                   ...  \n281     America/New_York  \n282     America/New_York  \n283     America/New_York  \n284     America/New_York  \n285     America/New_York  \n\n[286 rows x 37 columns]",
      "text/html": "<div>\n<style scoped>\n    .dataframe tbody tr th:only-of-type {\n        vertical-align: middle;\n    }\n\n    .dataframe tbody tr th {\n        vertical-align: top;\n    }\n\n    .dataframe thead th {\n        text-align: right;\n    }\n</style>\n<table border=\"1\" class=\"dataframe\">\n  <thead>\n    <tr style=\"text-align: right;\">\n      <th></th>\n      <th>date_EST</th>\n      <th>status</th>\n      <th>aircraft.iataCode</th>\n      <th>aircraft.icao24</th>\n      <th>aircraft.icaoCode</th>\n      <th>aircraft.regNumber</th>\n      <th>airline.iataCode</th>\n      <th>airline.icaoCode</th>\n      <th>nameAirline</th>\n      <th>flight.iataNumber</th>\n      <th>...</th>\n      <th>arrival.airportId</th>\n      <th>arrival.nameAirport</th>\n      <th>arrival.iataCode</th>\n      <th>arrival.icaoCode</th>\n      <th>arrival.codeIataCity</th>\n      <th>arrival.codeIso2Country</th>\n      <th>arrival.nameCountry</th>\n      <th>arrival.latitudeAirport</th>\n      <th>arrival.longitudeAirport</th>\n      <th>arrival.timezone</th>\n    </tr>\n  </thead>\n  <tbody>\n    <tr>\n      <th>0</th>\n      <td>2023-05-18 16:29:14</td>\n      <td>en-route</td>\n      <td>B753</td>\n      <td>A77AE0</td>\n      <td>B753</td>\n      <td>N581NW</td>\n      <td>DL</td>\n      <td>DAL</td>\n      <td>Delta Air Lines</td>\n      <td>DL895</td>\n      <td>...</td>\n      <td>4189.0</td>\n      <td>Los Angeles International</td>\n      <td>LAX</td>\n      <td>KLAX</td>\n      <td>LAX</td>\n      <td>US</td>\n      <td>United States</td>\n      <td>33.943398</td>\n      <td>-118.408280</td>\n      <td>America/Los_Angeles</td>\n    </tr>\n    <tr>\n      <th>1</th>\n      <td>2023-05-18 16:29:14</td>\n      <td>en-route</td>\n      <td>B752</td>\n      <td>A8DE56</td>\n      <td>B752</td>\n      <td>N6702</td>\n      <td>DL</td>\n      <td>DAL</td>\n      <td>Delta Air Lines</td>\n      <td>DL1375</td>\n      <td>...</td>\n      <td>2344.0</td>\n      <td>Fort Lauderdale–Hollywood International</td>\n      <td>FLL</td>\n      <td>KFLL</td>\n      <td>FLL</td>\n      <td>US</td>\n      <td>United States</td>\n      <td>26.071491</td>\n      <td>-80.144905</td>\n      <td>America/New_York</td>\n    </tr>\n    <tr>\n      <th>2</th>\n      <td>2023-05-18 16:29:14</td>\n      <td>unknown</td>\n      <td>A321</td>\n      <td>A41F37</td>\n      <td>A321</td>\n      <td>N365DN</td>\n      <td>DL</td>\n      <td>DAL</td>\n      <td>Delta Air Lines</td>\n      <td>DL1173</td>\n      <td>...</td>\n      <td>5966.0</td>\n      <td>Palm Beach International Airport</td>\n      <td>PBI</td>\n      <td>KPBI</td>\n      <td>PBI</td>\n      <td>US</td>\n      <td>United States</td>\n      <td>26.688885</td>\n      <td>-80.090440</td>\n      <td>America/New_York</td>\n    </tr>\n    <tr>\n      <th>3</th>\n      <td>2023-05-18 16:29:14</td>\n      <td>en-route</td>\n      <td>A321</td>\n      <td>A44308</td>\n      <td>A321</td>\n      <td>N374DX</td>\n      <td>DL</td>\n      <td>DAL</td>\n      <td>Delta Air Lines</td>\n      <td>DL423</td>\n      <td>...</td>\n      <td>7174.0</td>\n      <td>Salt Lake City International</td>\n      <td>SLC</td>\n      <td>KSLC</td>\n      <td>SLC</td>\n      <td>US</td>\n      <td>United States</td>\n      <td>40.785645</td>\n      <td>-111.980675</td>\n      <td>America/Denver</td>\n    </tr>\n    <tr>\n      <th>4</th>\n      <td>2023-05-18 16:29:14</td>\n      <td>en-route</td>\n      <td>B753</td>\n      <td>A78605</td>\n      <td>B753</td>\n      <td>N584NW</td>\n      <td>DL</td>\n      <td>DAL</td>\n      <td>Delta Air Lines</td>\n      <td>DL843</td>\n      <td>...</td>\n      <td>6920.0</td>\n      <td>San Diego International Airport</td>\n      <td>SAN</td>\n      <td>KSAN</td>\n      <td>SAN</td>\n      <td>US</td>\n      <td>United States</td>\n      <td>32.731937</td>\n      <td>-117.197310</td>\n      <td>America/Los_Angeles</td>\n    </tr>\n    <tr>\n      <th>...</th>\n      <td>...</td>\n      <td>...</td>\n      <td>...</td>\n      <td>...</td>\n      <td>...</td>\n      <td>...</td>\n      <td>...</td>\n      <td>...</td>\n      <td>...</td>\n      <td>...</td>\n      <td>...</td>\n      <td>...</td>\n      <td>...</td>\n      <td>...</td>\n      <td>...</td>\n      <td>...</td>\n      <td>...</td>\n      <td>...</td>\n      <td>...</td>\n      <td>...</td>\n      <td>...</td>\n    </tr>\n    <tr>\n      <th>281</th>\n      <td>2023-05-18 16:29:14</td>\n      <td>en-route</td>\n      <td>A320</td>\n      <td>A81B2A</td>\n      <td>A320</td>\n      <td>N621NK</td>\n      <td>NK</td>\n      <td>NKS</td>\n      <td>Spirit Airlines</td>\n      <td>NK1784</td>\n      <td>...</td>\n      <td>411.0</td>\n      <td>Hartsfield-jackson Atlanta International</td>\n      <td>ATL</td>\n      <td>KATL</td>\n      <td>ATL</td>\n      <td>US</td>\n      <td>United States</td>\n      <td>33.640068</td>\n      <td>-84.444030</td>\n      <td>America/New_York</td>\n    </tr>\n    <tr>\n      <th>282</th>\n      <td>2023-05-18 16:29:14</td>\n      <td>en-route</td>\n      <td>E75S</td>\n      <td>A00CE0</td>\n      <td>E75S</td>\n      <td>N102HQ</td>\n      <td>AA</td>\n      <td>AAL</td>\n      <td>American Airlines</td>\n      <td>AA4250</td>\n      <td>...</td>\n      <td>411.0</td>\n      <td>Hartsfield-jackson Atlanta International</td>\n      <td>ATL</td>\n      <td>KATL</td>\n      <td>ATL</td>\n      <td>US</td>\n      <td>United States</td>\n      <td>33.640068</td>\n      <td>-84.444030</td>\n      <td>America/New_York</td>\n    </tr>\n    <tr>\n      <th>283</th>\n      <td>2023-05-18 16:29:14</td>\n      <td>en-route</td>\n      <td>A359</td>\n      <td>39CF00</td>\n      <td>A359</td>\n      <td>F-HTYA</td>\n      <td>AF</td>\n      <td>AFR</td>\n      <td>Air France</td>\n      <td>AF686</td>\n      <td>...</td>\n      <td>411.0</td>\n      <td>Hartsfield-jackson Atlanta International</td>\n      <td>ATL</td>\n      <td>KATL</td>\n      <td>ATL</td>\n      <td>US</td>\n      <td>United States</td>\n      <td>33.640068</td>\n      <td>-84.444030</td>\n      <td>America/New_York</td>\n    </tr>\n    <tr>\n      <th>284</th>\n      <td>2023-05-18 16:29:14</td>\n      <td>en-route</td>\n      <td>A20N</td>\n      <td>AD73A6</td>\n      <td>A20N</td>\n      <td>N966NK</td>\n      <td>NK</td>\n      <td>NKS</td>\n      <td>Spirit Airlines</td>\n      <td>NK271</td>\n      <td>...</td>\n      <td>411.0</td>\n      <td>Hartsfield-jackson Atlanta International</td>\n      <td>ATL</td>\n      <td>KATL</td>\n      <td>ATL</td>\n      <td>US</td>\n      <td>United States</td>\n      <td>33.640068</td>\n      <td>-84.444030</td>\n      <td>America/New_York</td>\n    </tr>\n    <tr>\n      <th>285</th>\n      <td>2023-05-18 16:29:14</td>\n      <td>started</td>\n      <td>A20N</td>\n      <td>A42323</td>\n      <td>A20N</td>\n      <td>N366FR</td>\n      <td>F9</td>\n      <td>FFT</td>\n      <td>Frontier Airlines, Inc.</td>\n      <td>F9861</td>\n      <td>...</td>\n      <td>411.0</td>\n      <td>Hartsfield-jackson Atlanta International</td>\n      <td>ATL</td>\n      <td>KATL</td>\n      <td>ATL</td>\n      <td>US</td>\n      <td>United States</td>\n      <td>33.640068</td>\n      <td>-84.444030</td>\n      <td>America/New_York</td>\n    </tr>\n  </tbody>\n</table>\n<p>286 rows × 37 columns</p>\n</div>"
     },
     "execution_count": 203,
     "metadata": {},
     "output_type": "execute_result"
    }
   ],
   "source": [
    "df_real_time_flights"
   ],
   "metadata": {
    "collapsed": false,
    "ExecuteTime": {
     "end_time": "2023-05-18T20:29:14.236466Z",
     "start_time": "2023-05-18T20:29:14.216180Z"
    }
   }
  },
  {
   "cell_type": "code",
   "execution_count": 204,
   "outputs": [],
   "source": [
    "# Get current date and time\n",
    "now = datetime.datetime.now()\n",
    "\n",
    "# Format date and time as a string to be used in the filename\n",
    "datetime_string = now.strftime(\"%Y-%m-%d_%H-%M-%S\")\n",
    "\n",
    "year = now.strftime(\"%Y\")\n",
    "month = now.strftime(\"%m\")\n",
    "day = now.strftime(\"%d\")\n",
    "\n",
    "dir_path = f'./data/real_time/{year}/{month}/{day}/'\n",
    "os.makedirs(dir_path, exist_ok=True)\n",
    "# Create filename with date and time\n",
    "filename = f'{dir_path}{datetime_string}_df_real_time_flights.csv'\n",
    "\n",
    "# Export DataFrame to CSV\n",
    "df_real_time_flights.to_csv(filename, index=False)\n"
   ],
   "metadata": {
    "collapsed": false,
    "ExecuteTime": {
     "end_time": "2023-05-18T20:29:14.244274Z",
     "start_time": "2023-05-18T20:29:14.220977Z"
    }
   }
  },
  {
   "cell_type": "code",
   "execution_count": 204,
   "outputs": [],
   "source": [],
   "metadata": {
    "collapsed": false,
    "ExecuteTime": {
     "end_time": "2023-05-18T20:29:14.283887Z",
     "start_time": "2023-05-18T20:29:14.229910Z"
    }
   }
  }
 ],
 "metadata": {
  "kernelspec": {
   "display_name": "Python 3",
   "language": "python",
   "name": "python3"
  },
  "language_info": {
   "codemirror_mode": {
    "name": "ipython",
    "version": 2
   },
   "file_extension": ".py",
   "mimetype": "text/x-python",
   "name": "python",
   "nbconvert_exporter": "python",
   "pygments_lexer": "ipython2",
   "version": "2.7.6"
  }
 },
 "nbformat": 4,
 "nbformat_minor": 0
}
